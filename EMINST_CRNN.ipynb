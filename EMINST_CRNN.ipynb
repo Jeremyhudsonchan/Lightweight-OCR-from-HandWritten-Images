{
  "nbformat": 4,
  "nbformat_minor": 0,
  "metadata": {
    "colab": {
      "provenance": [],
      "toc_visible": true
    },
    "kernelspec": {
      "name": "python3",
      "display_name": "Python 3"
    },
    "language_info": {
      "name": "python"
    },
    "accelerator": "GPU",
    "gpuClass": "standard",
    "widgets": {
      "application/vnd.jupyter.widget-state+json": {
        "ff018bb2b9a643f2a09b0384909204d7": {
          "model_module": "@jupyter-widgets/controls",
          "model_name": "HBoxModel",
          "model_module_version": "1.5.0",
          "state": {
            "_dom_classes": [],
            "_model_module": "@jupyter-widgets/controls",
            "_model_module_version": "1.5.0",
            "_model_name": "HBoxModel",
            "_view_count": null,
            "_view_module": "@jupyter-widgets/controls",
            "_view_module_version": "1.5.0",
            "_view_name": "HBoxView",
            "box_style": "",
            "children": [
              "IPY_MODEL_fb68b8d85dd04b41943dcf654d5ec3d6",
              "IPY_MODEL_dccf517256ec4fe78f096fab0cf2b157",
              "IPY_MODEL_948dba1f738f444f9826ace8a8178800"
            ],
            "layout": "IPY_MODEL_cad6310921834f01b7b1aa5120a64c70"
          }
        },
        "fb68b8d85dd04b41943dcf654d5ec3d6": {
          "model_module": "@jupyter-widgets/controls",
          "model_name": "HTMLModel",
          "model_module_version": "1.5.0",
          "state": {
            "_dom_classes": [],
            "_model_module": "@jupyter-widgets/controls",
            "_model_module_version": "1.5.0",
            "_model_name": "HTMLModel",
            "_view_count": null,
            "_view_module": "@jupyter-widgets/controls",
            "_view_module_version": "1.5.0",
            "_view_name": "HTMLView",
            "description": "",
            "description_tooltip": null,
            "layout": "IPY_MODEL_c58fa5260ad845dd9f3c18fb845ef9c6",
            "placeholder": "​",
            "style": "IPY_MODEL_6c177e57de1b4bf3a06627825bb9cf96",
            "value": "100%"
          }
        },
        "dccf517256ec4fe78f096fab0cf2b157": {
          "model_module": "@jupyter-widgets/controls",
          "model_name": "FloatProgressModel",
          "model_module_version": "1.5.0",
          "state": {
            "_dom_classes": [],
            "_model_module": "@jupyter-widgets/controls",
            "_model_module_version": "1.5.0",
            "_model_name": "FloatProgressModel",
            "_view_count": null,
            "_view_module": "@jupyter-widgets/controls",
            "_view_module_version": "1.5.0",
            "_view_name": "ProgressView",
            "bar_style": "success",
            "description": "",
            "description_tooltip": null,
            "layout": "IPY_MODEL_3546f9ac94424fb1bcc8ce101f3df221",
            "max": 561753746,
            "min": 0,
            "orientation": "horizontal",
            "style": "IPY_MODEL_838b6b890afc40f789fa766bcc1b6bf7",
            "value": 561753746
          }
        },
        "948dba1f738f444f9826ace8a8178800": {
          "model_module": "@jupyter-widgets/controls",
          "model_name": "HTMLModel",
          "model_module_version": "1.5.0",
          "state": {
            "_dom_classes": [],
            "_model_module": "@jupyter-widgets/controls",
            "_model_module_version": "1.5.0",
            "_model_name": "HTMLModel",
            "_view_count": null,
            "_view_module": "@jupyter-widgets/controls",
            "_view_module_version": "1.5.0",
            "_view_name": "HTMLView",
            "description": "",
            "description_tooltip": null,
            "layout": "IPY_MODEL_11f811c1fc0f41f1b837faa5efa03d56",
            "placeholder": "​",
            "style": "IPY_MODEL_b90f972256f64642901b74a04c339d43",
            "value": " 561753746/561753746 [00:42&lt;00:00, 13493219.24it/s]"
          }
        },
        "cad6310921834f01b7b1aa5120a64c70": {
          "model_module": "@jupyter-widgets/base",
          "model_name": "LayoutModel",
          "model_module_version": "1.2.0",
          "state": {
            "_model_module": "@jupyter-widgets/base",
            "_model_module_version": "1.2.0",
            "_model_name": "LayoutModel",
            "_view_count": null,
            "_view_module": "@jupyter-widgets/base",
            "_view_module_version": "1.2.0",
            "_view_name": "LayoutView",
            "align_content": null,
            "align_items": null,
            "align_self": null,
            "border": null,
            "bottom": null,
            "display": null,
            "flex": null,
            "flex_flow": null,
            "grid_area": null,
            "grid_auto_columns": null,
            "grid_auto_flow": null,
            "grid_auto_rows": null,
            "grid_column": null,
            "grid_gap": null,
            "grid_row": null,
            "grid_template_areas": null,
            "grid_template_columns": null,
            "grid_template_rows": null,
            "height": null,
            "justify_content": null,
            "justify_items": null,
            "left": null,
            "margin": null,
            "max_height": null,
            "max_width": null,
            "min_height": null,
            "min_width": null,
            "object_fit": null,
            "object_position": null,
            "order": null,
            "overflow": null,
            "overflow_x": null,
            "overflow_y": null,
            "padding": null,
            "right": null,
            "top": null,
            "visibility": null,
            "width": null
          }
        },
        "c58fa5260ad845dd9f3c18fb845ef9c6": {
          "model_module": "@jupyter-widgets/base",
          "model_name": "LayoutModel",
          "model_module_version": "1.2.0",
          "state": {
            "_model_module": "@jupyter-widgets/base",
            "_model_module_version": "1.2.0",
            "_model_name": "LayoutModel",
            "_view_count": null,
            "_view_module": "@jupyter-widgets/base",
            "_view_module_version": "1.2.0",
            "_view_name": "LayoutView",
            "align_content": null,
            "align_items": null,
            "align_self": null,
            "border": null,
            "bottom": null,
            "display": null,
            "flex": null,
            "flex_flow": null,
            "grid_area": null,
            "grid_auto_columns": null,
            "grid_auto_flow": null,
            "grid_auto_rows": null,
            "grid_column": null,
            "grid_gap": null,
            "grid_row": null,
            "grid_template_areas": null,
            "grid_template_columns": null,
            "grid_template_rows": null,
            "height": null,
            "justify_content": null,
            "justify_items": null,
            "left": null,
            "margin": null,
            "max_height": null,
            "max_width": null,
            "min_height": null,
            "min_width": null,
            "object_fit": null,
            "object_position": null,
            "order": null,
            "overflow": null,
            "overflow_x": null,
            "overflow_y": null,
            "padding": null,
            "right": null,
            "top": null,
            "visibility": null,
            "width": null
          }
        },
        "6c177e57de1b4bf3a06627825bb9cf96": {
          "model_module": "@jupyter-widgets/controls",
          "model_name": "DescriptionStyleModel",
          "model_module_version": "1.5.0",
          "state": {
            "_model_module": "@jupyter-widgets/controls",
            "_model_module_version": "1.5.0",
            "_model_name": "DescriptionStyleModel",
            "_view_count": null,
            "_view_module": "@jupyter-widgets/base",
            "_view_module_version": "1.2.0",
            "_view_name": "StyleView",
            "description_width": ""
          }
        },
        "3546f9ac94424fb1bcc8ce101f3df221": {
          "model_module": "@jupyter-widgets/base",
          "model_name": "LayoutModel",
          "model_module_version": "1.2.0",
          "state": {
            "_model_module": "@jupyter-widgets/base",
            "_model_module_version": "1.2.0",
            "_model_name": "LayoutModel",
            "_view_count": null,
            "_view_module": "@jupyter-widgets/base",
            "_view_module_version": "1.2.0",
            "_view_name": "LayoutView",
            "align_content": null,
            "align_items": null,
            "align_self": null,
            "border": null,
            "bottom": null,
            "display": null,
            "flex": null,
            "flex_flow": null,
            "grid_area": null,
            "grid_auto_columns": null,
            "grid_auto_flow": null,
            "grid_auto_rows": null,
            "grid_column": null,
            "grid_gap": null,
            "grid_row": null,
            "grid_template_areas": null,
            "grid_template_columns": null,
            "grid_template_rows": null,
            "height": null,
            "justify_content": null,
            "justify_items": null,
            "left": null,
            "margin": null,
            "max_height": null,
            "max_width": null,
            "min_height": null,
            "min_width": null,
            "object_fit": null,
            "object_position": null,
            "order": null,
            "overflow": null,
            "overflow_x": null,
            "overflow_y": null,
            "padding": null,
            "right": null,
            "top": null,
            "visibility": null,
            "width": null
          }
        },
        "838b6b890afc40f789fa766bcc1b6bf7": {
          "model_module": "@jupyter-widgets/controls",
          "model_name": "ProgressStyleModel",
          "model_module_version": "1.5.0",
          "state": {
            "_model_module": "@jupyter-widgets/controls",
            "_model_module_version": "1.5.0",
            "_model_name": "ProgressStyleModel",
            "_view_count": null,
            "_view_module": "@jupyter-widgets/base",
            "_view_module_version": "1.2.0",
            "_view_name": "StyleView",
            "bar_color": null,
            "description_width": ""
          }
        },
        "11f811c1fc0f41f1b837faa5efa03d56": {
          "model_module": "@jupyter-widgets/base",
          "model_name": "LayoutModel",
          "model_module_version": "1.2.0",
          "state": {
            "_model_module": "@jupyter-widgets/base",
            "_model_module_version": "1.2.0",
            "_model_name": "LayoutModel",
            "_view_count": null,
            "_view_module": "@jupyter-widgets/base",
            "_view_module_version": "1.2.0",
            "_view_name": "LayoutView",
            "align_content": null,
            "align_items": null,
            "align_self": null,
            "border": null,
            "bottom": null,
            "display": null,
            "flex": null,
            "flex_flow": null,
            "grid_area": null,
            "grid_auto_columns": null,
            "grid_auto_flow": null,
            "grid_auto_rows": null,
            "grid_column": null,
            "grid_gap": null,
            "grid_row": null,
            "grid_template_areas": null,
            "grid_template_columns": null,
            "grid_template_rows": null,
            "height": null,
            "justify_content": null,
            "justify_items": null,
            "left": null,
            "margin": null,
            "max_height": null,
            "max_width": null,
            "min_height": null,
            "min_width": null,
            "object_fit": null,
            "object_position": null,
            "order": null,
            "overflow": null,
            "overflow_x": null,
            "overflow_y": null,
            "padding": null,
            "right": null,
            "top": null,
            "visibility": null,
            "width": null
          }
        },
        "b90f972256f64642901b74a04c339d43": {
          "model_module": "@jupyter-widgets/controls",
          "model_name": "DescriptionStyleModel",
          "model_module_version": "1.5.0",
          "state": {
            "_model_module": "@jupyter-widgets/controls",
            "_model_module_version": "1.5.0",
            "_model_name": "DescriptionStyleModel",
            "_view_count": null,
            "_view_module": "@jupyter-widgets/base",
            "_view_module_version": "1.2.0",
            "_view_name": "StyleView",
            "description_width": ""
          }
        }
      }
    }
  },
  "cells": [
    {
      "cell_type": "code",
      "source": [
        "import sys\n",
        "from itertools import groupby\n",
        "\n",
        "import matplotlib as mpl\n",
        "import matplotlib.pyplot as plt\n",
        "import numpy as np\n",
        "import torch\n",
        "import torch.nn as nn\n",
        "import torch.nn.functional as F\n",
        "import torch.utils.data as data_utils\n",
        "import torchvision.transforms.functional as TF\n",
        "# from colorama import Fore\n",
        "from torchvision import datasets, transforms\n",
        "from tqdm import tqdm\n",
        "import random"
      ],
      "metadata": {
        "id": "lAncTcrnkOwM"
      },
      "execution_count": null,
      "outputs": []
    },
    {
      "cell_type": "markdown",
      "source": [
        "#Define Parameters"
      ],
      "metadata": {
        "id": "E3mtkECf8819"
      }
    },
    {
      "cell_type": "code",
      "execution_count": null,
      "metadata": {
        "id": "T5IPftsGPgIM",
        "colab": {
          "base_uri": "https://localhost:8080/",
          "height": 85,
          "referenced_widgets": [
            "ff018bb2b9a643f2a09b0384909204d7",
            "fb68b8d85dd04b41943dcf654d5ec3d6",
            "dccf517256ec4fe78f096fab0cf2b157",
            "948dba1f738f444f9826ace8a8178800",
            "cad6310921834f01b7b1aa5120a64c70",
            "c58fa5260ad845dd9f3c18fb845ef9c6",
            "6c177e57de1b4bf3a06627825bb9cf96",
            "3546f9ac94424fb1bcc8ce101f3df221",
            "838b6b890afc40f789fa766bcc1b6bf7",
            "11f811c1fc0f41f1b837faa5efa03d56",
            "b90f972256f64642901b74a04c339d43"
          ]
        },
        "outputId": "5dc82f67-b498-4998-8691-2a1becb9bef6"
      },
      "outputs": [
        {
          "output_type": "stream",
          "name": "stdout",
          "text": [
            "Downloading https://www.itl.nist.gov/iaui/vip/cs_links/EMNIST/gzip.zip to ./EMNIST/EMNIST/raw/gzip.zip\n"
          ]
        },
        {
          "output_type": "display_data",
          "data": {
            "text/plain": [
              "  0%|          | 0/561753746 [00:00<?, ?it/s]"
            ],
            "application/vnd.jupyter.widget-view+json": {
              "version_major": 2,
              "version_minor": 0,
              "model_id": "ff018bb2b9a643f2a09b0384909204d7"
            }
          },
          "metadata": {}
        },
        {
          "output_type": "stream",
          "name": "stdout",
          "text": [
            "Extracting ./EMNIST/EMNIST/raw/gzip.zip to ./EMNIST/EMNIST/raw\n"
          ]
        }
      ],
      "source": [
        "gpu = torch.device('cuda')\n",
        "\n",
        "num_classes = 10+26+1  # digit 10; letter 26; placeholder 1; all together 37\n",
        "blank_label = 10\n",
        "\n",
        "image_height = 28\n",
        "\n",
        "gru_hidden_size = 128\n",
        "gru_num_layers = 2\n",
        "\n",
        "cnn_output_height = 4\n",
        "cnn_output_width = 25\n",
        "\n",
        "digits_per_sequence = 2\n",
        "number_of_sequences = 1000\n",
        "emnist_dataset_digit = datasets.EMNIST('./EMNIST', split=\"digits\", train=True, download=True)\n",
        "emnist_dataset_letter = datasets.EMNIST('./EMNIST', split=\"letters\", train=True, download=True)"
      ]
    },
    {
      "cell_type": "code",
      "source": [
        "print(emnist_dataset_digit)\n",
        "print(emnist_dataset_letter)"
      ],
      "metadata": {
        "colab": {
          "base_uri": "https://localhost:8080/"
        },
        "id": "yk5_B2zelQYQ",
        "outputId": "f807cf14-1d2a-4522-aeca-9442f832dd91"
      },
      "execution_count": null,
      "outputs": [
        {
          "output_type": "stream",
          "name": "stdout",
          "text": [
            "Dataset EMNIST\n",
            "    Number of datapoints: 240000\n",
            "    Root location: ./EMNIST\n",
            "    Split: Train\n",
            "Dataset EMNIST\n",
            "    Number of datapoints: 124800\n",
            "    Root location: ./EMNIST\n",
            "    Split: Train\n"
          ]
        }
      ]
    },
    {
      "cell_type": "markdown",
      "source": [
        "#Generate Image and Labels / Pre-Process"
      ],
      "metadata": {
        "id": "5qe11PAm9CMm"
      }
    },
    {
      "cell_type": "code",
      "source": [
        "# Basically a lightweight dataloader 'class'\n",
        "dataset_sequences = []\n",
        "dataset_labels = []\n",
        "for i in range(number_of_sequences):\n",
        "# for i in range(5):\n",
        "    d_random_indices = np.random.randint(len(emnist_dataset_digit.data), size=(digits_per_sequence,)) #find a random index\n",
        "    d_random__images = emnist_dataset_digit.data[d_random_indices] # extract image based on indices\n",
        "\n",
        "    l_random_indices = np.random.randint(len(emnist_dataset_letter.data), size=(digits_per_sequence,)) #find a random index\n",
        "    l_random__images = emnist_dataset_letter.data[l_random_indices] # extract image based on indices\n",
        "\n",
        "    transformed_random_dl_images = [] #store the transformed images \n",
        "\n",
        "    # process data\n",
        "    for img in d_random__images:\n",
        "        img = transforms.ToPILImage()(img)  # convert to PIL\n",
        "        img = TF.rotate(img, -90, fill=0)   # rotate images\n",
        "        img = TF.hflip(img)               # horizontal fliip\n",
        "        img = transforms.RandomAffine(degrees=10, translate=(0.2, 0.15), scale=(0.8, 1.1))(img) #random affine\n",
        "        img = transforms.ToTensor()(img).numpy()  #convert to tensor and convert to numpy\n",
        "        transformed_random_dl_images.append(img)   #append the transformed images to a list\n",
        "\n",
        "    for img in l_random__images:\n",
        "        img = transforms.ToPILImage()(img)  # convert to PIL\n",
        "        img = TF.rotate(img, -90, fill=0)   # rotate images\n",
        "        img = TF.hflip(img)               # horizontal fliip\n",
        "        img = transforms.RandomAffine(degrees=10, translate=(0.2, 0.15), scale=(0.8, 1.1))(img) #random affine\n",
        "        img = transforms.ToTensor()(img).numpy()  #convert to tensor and convert to numpy\n",
        "        transformed_random_dl_images.append(img)   #append the transformed images to a list\n",
        "  \n",
        "    random_dl_images = np.array(transformed_random_dl_images)  #convert the storage list to numpy array\n",
        "    random_dl_labels = torch.cat((emnist_dataset_digit.targets[d_random_indices],emnist_dataset_letter.targets[l_random_indices])) \n",
        "\n",
        "    random_sequence = np.hstack(random_dl_images.reshape((digits_per_sequence*2, 28, 28)))\n",
        "    random_labels = np.hstack(random_dl_labels.reshape(digits_per_sequence*2, 1))\n",
        "    random_labels[digits_per_sequence:] = random_labels[digits_per_sequence:]+10\n",
        "\n",
        "    dataset_sequences.append(random_sequence / 255)  ## final image sequence\n",
        "    dataset_labels.append(random_labels)  ##final label sequence"
      ],
      "metadata": {
        "id": "j6SiXb7Ek2bX"
      },
      "execution_count": null,
      "outputs": []
    },
    {
      "cell_type": "code",
      "source": [
        "# show a sample pair of image and label\n",
        "inde = random.randint(0,number_of_sequences)\n",
        "# print(inde)\n",
        "print('shape',dataset_sequences[inde].shape)\n",
        "plt.imshow(dataset_sequences[inde],cmap='binary')\n",
        "plt.title('Image')\n",
        "plt.show()\n",
        "print('Label\\n',dataset_labels[inde])"
      ],
      "metadata": {
        "colab": {
          "base_uri": "https://localhost:8080/",
          "height": 188
        },
        "id": "M0btryj42l98",
        "outputId": "0b3a8322-de7b-44bf-a821-e8f93ec10010"
      },
      "execution_count": null,
      "outputs": [
        {
          "output_type": "stream",
          "name": "stdout",
          "text": [
            "49\n",
            "(28, 112)\n"
          ]
        },
        {
          "output_type": "display_data",
          "data": {
            "text/plain": [
              "<Figure size 432x288 with 1 Axes>"
            ],
            "image/png": "[encoded data removed]"
          },
          "metadata": {
            "needs_background": "light"
          }
        },
        {
          "output_type": "stream",
          "name": "stdout",
          "text": [
            "[ 7  5 24 29]\n"
          ]
        }
      ]
    },
    {
      "cell_type": "markdown",
      "source": [
        "#Dataloader"
      ],
      "metadata": {
        "id": "d8ZjEjIP9aeh"
      }
    },
    {
      "cell_type": "code",
      "source": [
        "dataset_data = torch.Tensor(np.array(dataset_sequences))\n",
        "dataset_labels = torch.IntTensor(np.array(dataset_labels))\n",
        "\n",
        "seq_dataset = data_utils.TensorDataset(dataset_data, dataset_labels)\n",
        "train_set, val_set = torch.utils.data.random_split(seq_dataset,[int(len(seq_dataset) * 0.9), int(len(seq_dataset) * 0.1)])  #split 80% to be train; 20% to be valid\n",
        "\n",
        "train_loader = torch.utils.data.DataLoader(train_set, batch_size=4, shuffle=True)\n",
        "val_loader = torch.utils.data.DataLoader(val_set, batch_size=1, shuffle=True)"
      ],
      "metadata": {
        "id": "sc8u_-_JlnLN"
      },
      "execution_count": null,
      "outputs": []
    },
    {
      "cell_type": "markdown",
      "source": [
        "#Model"
      ],
      "metadata": {
        "id": "ThYjgv3I9dp9"
      }
    },
    {
      "cell_type": "code",
      "source": [
        "'''WARNING: \n",
        "  Make sure cnn_output_height is correctly computed before feeding into GRU\n",
        "  Make it bidirectional, or bi-LSTM'''\n",
        "class CRNN(nn.Module):\n",
        "    def __init__(self):\n",
        "        super(CRNN, self).__init__()\n",
        "        self.conv1 = nn.Conv2d(1, 32, kernel_size=(3, 3))\n",
        "        self.norm1 = nn.InstanceNorm2d(32)\n",
        "        self.conv2 = nn.Conv2d(32, 32, kernel_size=(3, 3), stride=2)\n",
        "        self.norm2 = nn.InstanceNorm2d(32)\n",
        "        self.conv3 = nn.Conv2d(32, 64, kernel_size=(3, 3))\n",
        "        self.norm3 = nn.InstanceNorm2d(64)\n",
        "        self.conv4 = nn.Conv2d(64, 64, kernel_size=(3, 3), stride=2)\n",
        "        self.norm4 = nn.InstanceNorm2d(64)\n",
        "        self.gru_input_size = cnn_output_height * 64\n",
        "        self.gru = nn.GRU(self.gru_input_size, gru_hidden_size, gru_num_layers, batch_first=True, bidirectional=True)\n",
        "        self.fc = nn.Linear(256, num_classes)\n",
        "\n",
        "    def forward(self, x):\n",
        "        batch_size = x.shape[0]\n",
        "        out = self.conv1(x)\n",
        "        out = self.norm1(out)\n",
        "        out = F.leaky_relu(out)\n",
        "        out = self.conv2(out)\n",
        "        out = self.norm2(out)\n",
        "        out = F.leaky_relu(out)\n",
        "        out = self.conv3(out)\n",
        "        out = self.norm3(out)\n",
        "        out = F.leaky_relu(out)\n",
        "        out = self.conv4(out)\n",
        "        out = self.norm4(out)\n",
        "        out = F.leaky_relu(out)\n",
        "        out = out.permute(0, 3, 2, 1)\n",
        "        out = out.reshape(batch_size, -1, self.gru_input_size)\n",
        "        out, _ = self.gru(out)\n",
        "        out = torch.stack([F.log_softmax(self.fc(out[i]), dim=-1) for i in range(out.shape[0])])\n",
        "        return out"
      ],
      "metadata": {
        "id": "EYr76PmUk9Fe"
      },
      "execution_count": null,
      "outputs": []
    },
    {
      "cell_type": "markdown",
      "source": [
        "#Tensor Flow Styled summary"
      ],
      "metadata": {
        "id": "yijwx44V9fVy"
      }
    },
    {
      "cell_type": "code",
      "source": [
        "from torchsummary import summary\n",
        "model = CRNN().to(gpu)\n",
        "summary(model,(1,28,112)) #h,w"
      ],
      "metadata": {
        "id": "RmJTFhPq75VE",
        "colab": {
          "base_uri": "https://localhost:8080/"
        },
        "outputId": "dcd76de3-42e5-41a7-936a-f331aad23c65"
      },
      "execution_count": null,
      "outputs": [
        {
          "output_type": "stream",
          "name": "stdout",
          "text": [
            "----------------------------------------------------------------\n",
            "        Layer (type)               Output Shape         Param #\n",
            "================================================================\n",
            "            Conv2d-1          [-1, 32, 26, 110]             320\n",
            "    InstanceNorm2d-2          [-1, 32, 26, 110]               0\n",
            "            Conv2d-3           [-1, 32, 12, 54]           9,248\n",
            "    InstanceNorm2d-4           [-1, 32, 12, 54]               0\n",
            "            Conv2d-5           [-1, 64, 10, 52]          18,496\n",
            "    InstanceNorm2d-6           [-1, 64, 10, 52]               0\n",
            "            Conv2d-7            [-1, 64, 4, 25]          36,928\n",
            "    InstanceNorm2d-8            [-1, 64, 4, 25]               0\n",
            "               GRU-9  [[-1, 25, 256], [-1, 2, 128]]               0\n",
            "           Linear-10                   [-1, 37]           9,509\n",
            "           Linear-11                   [-1, 37]           9,509\n",
            "================================================================\n",
            "Total params: 84,010\n",
            "Trainable params: 84,010\n",
            "Non-trainable params: 0\n",
            "----------------------------------------------------------------\n",
            "Input size (MB): 0.01\n",
            "Forward/backward pass size (MB): 10.18\n",
            "Params size (MB): 0.32\n",
            "Estimated Total Size (MB): 10.51\n",
            "----------------------------------------------------------------\n"
          ]
        }
      ]
    },
    {
      "cell_type": "markdown",
      "source": [
        "#Define Loss and Optimizer"
      ],
      "metadata": {
        "id": "lc-yfKVd9jl5"
      }
    },
    {
      "cell_type": "code",
      "source": [
        "model = CRNN().to(gpu)\n",
        "criterion = nn.CTCLoss(blank=blank_label, reduction='mean', zero_infinity=True)  # has to use CTC loss here since we want to derive text output\n",
        "optimizer = torch.optim.Adam(model.parameters(), lr=0.001)"
      ],
      "metadata": {
        "id": "Pbtn-WBVlB1p"
      },
      "execution_count": null,
      "outputs": []
    },
    {
      "cell_type": "markdown",
      "source": [
        "#Train Loop"
      ],
      "metadata": {
        "id": "yFIqDz-a9mhA"
      }
    },
    {
      "cell_type": "code",
      "source": [
        "epochs = 150  # depend on input sequence size. Longer input sequences, more epochs\n",
        "loss_lst=[]\n",
        "for _ in range(epochs):\n",
        "    train_correct = 0\n",
        "    train_total = 0\n",
        "    model.train()\n",
        "\n",
        "    for x_train, y_train in tqdm(train_loader,position=0, leave=True,file=sys.stdout):\n",
        "        # print(x_train.shape, y_train)\n",
        "        batch_size = x_train.shape[0]  # x_train.shape == torch.Size([64, 28, 140])\n",
        "        x_train = x_train.view(x_train.shape[0], 1, x_train.shape[1], x_train.shape[2])\n",
        "\n",
        "        # print(x_train.shape)\n",
        "        optimizer.zero_grad()  #clear gradient garbage\n",
        "        y_pred = model(x_train.cuda())\n",
        "        y_pred = y_pred.permute(1, 0, 2)  # y_pred.shape == torch.Size([64, 32, 11]) convert to [32,64,11]\n",
        "        # print(y_pred[0])\n",
        "\n",
        "        input_lengths = torch.IntTensor(batch_size).fill_(cnn_output_width)    #fill the tensor with length\n",
        "        # print(input_lengths)\n",
        "        target_lengths = torch.IntTensor([len(t) for t in y_train])           #length of each label sequence in y_train\n",
        "        # print(target_lengths)\n",
        "        loss = criterion(y_pred, y_train, input_lengths, target_lengths)\n",
        "        loss_lst.append(loss.item())\n",
        "        loss.backward()\n",
        "        optimizer.step()\n",
        "\n",
        "        _, max_index = torch.max(y_pred, dim=2)  # max_index.shape == torch.Size([32, 64])    #most likely prediction of label\n",
        "        # print(max_index)\n",
        "        for i in range(batch_size):\n",
        "            raw_prediction = list(max_index[:, i].detach().cpu().numpy())  # len(raw_prediction) == 32        #raw prediction list\n",
        "            prediction = torch.IntTensor([c for c, _ in groupby(raw_prediction) if c != blank_label])        #conver list to Int Tensor for comparison \n",
        "\n",
        "            if len(prediction) == len(y_train[i]) and torch.all(prediction.eq(y_train[i])):    #if prediction and traget matches, correect+=1\n",
        "                train_correct += 1\n",
        "            train_total += 1\n",
        "    print('TRAINING. Correct: ', train_correct, '/', train_total, '=', train_correct / train_total)"
      ],
      "metadata": {
        "id": "v9lzRzXtlGiU",
        "colab": {
          "base_uri": "https://localhost:8080/"
        },
        "outputId": "4b95beab-765f-4a57-8e2e-9f427cdaab48"
      },
      "execution_count": null,
      "outputs": [
        {
          "output_type": "stream",
          "name": "stdout",
          "text": [
            "100%|██████████| 225/225 [00:06<00:00, 33.68it/s] \n",
            "TRAINING. Correct:  0 / 900 = 0.0\n",
            "100%|██████████| 225/225 [00:01<00:00, 126.19it/s]\n",
            "TRAINING. Correct:  0 / 900 = 0.0\n",
            "100%|██████████| 225/225 [00:01<00:00, 124.50it/s]\n",
            "TRAINING. Correct:  0 / 900 = 0.0\n",
            "100%|██████████| 225/225 [00:01<00:00, 124.61it/s]\n",
            "TRAINING. Correct:  20 / 900 = 0.022222222222222223\n",
            "100%|██████████| 225/225 [00:01<00:00, 125.98it/s]\n",
            "TRAINING. Correct:  80 / 900 = 0.08888888888888889\n",
            "100%|██████████| 225/225 [00:01<00:00, 125.27it/s]\n",
            "TRAINING. Correct:  273 / 900 = 0.30333333333333334\n",
            "100%|██████████| 225/225 [00:01<00:00, 126.12it/s]\n",
            "TRAINING. Correct:  472 / 900 = 0.5244444444444445\n",
            "100%|██████████| 225/225 [00:01<00:00, 123.34it/s]\n",
            "TRAINING. Correct:  636 / 900 = 0.7066666666666667\n",
            "100%|██████████| 225/225 [00:01<00:00, 122.47it/s]\n",
            "TRAINING. Correct:  772 / 900 = 0.8577777777777778\n",
            "100%|██████████| 225/225 [00:01<00:00, 124.92it/s]\n",
            "TRAINING. Correct:  841 / 900 = 0.9344444444444444\n",
            "100%|██████████| 225/225 [00:01<00:00, 124.78it/s]\n",
            "TRAINING. Correct:  883 / 900 = 0.9811111111111112\n",
            "100%|██████████| 225/225 [00:01<00:00, 125.38it/s]\n",
            "TRAINING. Correct:  892 / 900 = 0.9911111111111112\n",
            "100%|██████████| 225/225 [00:01<00:00, 126.87it/s]\n",
            "TRAINING. Correct:  898 / 900 = 0.9977777777777778\n",
            "100%|██████████| 225/225 [00:01<00:00, 126.16it/s]\n",
            "TRAINING. Correct:  900 / 900 = 1.0\n",
            "100%|██████████| 225/225 [00:01<00:00, 126.74it/s]\n",
            "TRAINING. Correct:  900 / 900 = 1.0\n",
            "100%|██████████| 225/225 [00:01<00:00, 127.38it/s]\n",
            "TRAINING. Correct:  900 / 900 = 1.0\n",
            "100%|██████████| 225/225 [00:01<00:00, 127.67it/s]\n",
            "TRAINING. Correct:  900 / 900 = 1.0\n",
            "100%|██████████| 225/225 [00:01<00:00, 127.39it/s]\n",
            "TRAINING. Correct:  900 / 900 = 1.0\n",
            "100%|██████████| 225/225 [00:01<00:00, 126.19it/s]\n",
            "TRAINING. Correct:  900 / 900 = 1.0\n",
            "100%|██████████| 225/225 [00:01<00:00, 127.55it/s]\n",
            "TRAINING. Correct:  900 / 900 = 1.0\n",
            "100%|██████████| 225/225 [00:01<00:00, 125.97it/s]\n",
            "TRAINING. Correct:  900 / 900 = 1.0\n",
            "100%|██████████| 225/225 [00:01<00:00, 126.21it/s]\n",
            "TRAINING. Correct:  900 / 900 = 1.0\n",
            "100%|██████████| 225/225 [00:01<00:00, 126.84it/s]\n",
            "TRAINING. Correct:  900 / 900 = 1.0\n",
            "100%|██████████| 225/225 [00:01<00:00, 126.60it/s]\n",
            "TRAINING. Correct:  900 / 900 = 1.0\n",
            "100%|██████████| 225/225 [00:01<00:00, 128.01it/s]\n",
            "TRAINING. Correct:  900 / 900 = 1.0\n",
            "100%|██████████| 225/225 [00:01<00:00, 125.88it/s]\n",
            "TRAINING. Correct:  900 / 900 = 1.0\n",
            "100%|██████████| 225/225 [00:01<00:00, 127.36it/s]\n",
            "TRAINING. Correct:  900 / 900 = 1.0\n",
            "100%|██████████| 225/225 [00:01<00:00, 125.62it/s]\n",
            "TRAINING. Correct:  900 / 900 = 1.0\n",
            "100%|██████████| 225/225 [00:01<00:00, 126.64it/s]\n",
            "TRAINING. Correct:  900 / 900 = 1.0\n",
            "100%|██████████| 225/225 [00:01<00:00, 123.80it/s]\n",
            "TRAINING. Correct:  900 / 900 = 1.0\n",
            "100%|██████████| 225/225 [00:01<00:00, 124.00it/s]\n",
            "TRAINING. Correct:  900 / 900 = 1.0\n",
            "100%|██████████| 225/225 [00:01<00:00, 126.86it/s]\n",
            "TRAINING. Correct:  900 / 900 = 1.0\n",
            "100%|██████████| 225/225 [00:01<00:00, 127.94it/s]\n",
            "TRAINING. Correct:  900 / 900 = 1.0\n",
            "100%|██████████| 225/225 [00:01<00:00, 127.43it/s]\n",
            "TRAINING. Correct:  900 / 900 = 1.0\n",
            "100%|██████████| 225/225 [00:01<00:00, 128.32it/s]\n",
            "TRAINING. Correct:  900 / 900 = 1.0\n",
            "100%|██████████| 225/225 [00:01<00:00, 127.01it/s]\n",
            "TRAINING. Correct:  900 / 900 = 1.0\n",
            "100%|██████████| 225/225 [00:01<00:00, 126.80it/s]\n",
            "TRAINING. Correct:  900 / 900 = 1.0\n",
            "100%|██████████| 225/225 [00:01<00:00, 124.50it/s]\n",
            "TRAINING. Correct:  900 / 900 = 1.0\n",
            "100%|██████████| 225/225 [00:01<00:00, 128.38it/s]\n",
            "TRAINING. Correct:  900 / 900 = 1.0\n",
            "100%|██████████| 225/225 [00:01<00:00, 128.56it/s]\n",
            "TRAINING. Correct:  900 / 900 = 1.0\n",
            "100%|██████████| 225/225 [00:01<00:00, 130.05it/s]\n",
            "TRAINING. Correct:  900 / 900 = 1.0\n",
            "100%|██████████| 225/225 [00:01<00:00, 126.41it/s]\n",
            "TRAINING. Correct:  900 / 900 = 1.0\n",
            "100%|██████████| 225/225 [00:01<00:00, 123.61it/s]\n",
            "TRAINING. Correct:  900 / 900 = 1.0\n",
            "100%|██████████| 225/225 [00:01<00:00, 124.43it/s]\n",
            "TRAINING. Correct:  900 / 900 = 1.0\n",
            "100%|██████████| 225/225 [00:01<00:00, 127.96it/s]\n",
            "TRAINING. Correct:  900 / 900 = 1.0\n",
            "100%|██████████| 225/225 [00:01<00:00, 125.59it/s]\n",
            "TRAINING. Correct:  900 / 900 = 1.0\n",
            "100%|██████████| 225/225 [00:01<00:00, 126.87it/s]\n",
            "TRAINING. Correct:  900 / 900 = 1.0\n",
            "100%|██████████| 225/225 [00:01<00:00, 127.36it/s]\n",
            "TRAINING. Correct:  900 / 900 = 1.0\n",
            "100%|██████████| 225/225 [00:01<00:00, 125.32it/s]\n",
            "TRAINING. Correct:  900 / 900 = 1.0\n",
            "100%|██████████| 225/225 [00:01<00:00, 122.88it/s]\n",
            "TRAINING. Correct:  900 / 900 = 1.0\n",
            "100%|██████████| 225/225 [00:01<00:00, 124.30it/s]\n",
            "TRAINING. Correct:  900 / 900 = 1.0\n",
            "100%|██████████| 225/225 [00:01<00:00, 123.89it/s]\n",
            "TRAINING. Correct:  900 / 900 = 1.0\n",
            "100%|██████████| 225/225 [00:01<00:00, 126.35it/s]\n",
            "TRAINING. Correct:  900 / 900 = 1.0\n",
            "100%|██████████| 225/225 [00:01<00:00, 127.24it/s]\n",
            "TRAINING. Correct:  900 / 900 = 1.0\n",
            "100%|██████████| 225/225 [00:01<00:00, 123.77it/s]\n",
            "TRAINING. Correct:  900 / 900 = 1.0\n",
            "100%|██████████| 225/225 [00:01<00:00, 127.10it/s]\n",
            "TRAINING. Correct:  900 / 900 = 1.0\n",
            "100%|██████████| 225/225 [00:01<00:00, 126.05it/s]\n",
            "TRAINING. Correct:  900 / 900 = 1.0\n",
            "100%|██████████| 225/225 [00:01<00:00, 128.28it/s]\n",
            "TRAINING. Correct:  900 / 900 = 1.0\n",
            "100%|██████████| 225/225 [00:01<00:00, 128.19it/s]\n",
            "TRAINING. Correct:  900 / 900 = 1.0\n",
            "100%|██████████| 225/225 [00:01<00:00, 127.77it/s]\n",
            "TRAINING. Correct:  900 / 900 = 1.0\n",
            "100%|██████████| 225/225 [00:01<00:00, 126.46it/s]\n",
            "TRAINING. Correct:  900 / 900 = 1.0\n",
            "100%|██████████| 225/225 [00:01<00:00, 126.05it/s]\n",
            "TRAINING. Correct:  900 / 900 = 1.0\n",
            "100%|██████████| 225/225 [00:01<00:00, 124.43it/s]\n",
            "TRAINING. Correct:  900 / 900 = 1.0\n",
            "100%|██████████| 225/225 [00:01<00:00, 123.36it/s]\n",
            "TRAINING. Correct:  805 / 900 = 0.8944444444444445\n",
            "100%|██████████| 225/225 [00:01<00:00, 126.00it/s]\n",
            "TRAINING. Correct:  256 / 900 = 0.28444444444444444\n",
            "100%|██████████| 225/225 [00:01<00:00, 127.40it/s]\n",
            "TRAINING. Correct:  669 / 900 = 0.7433333333333333\n",
            "100%|██████████| 225/225 [00:01<00:00, 127.55it/s]\n",
            "TRAINING. Correct:  812 / 900 = 0.9022222222222223\n",
            "100%|██████████| 225/225 [00:01<00:00, 127.52it/s]\n",
            "TRAINING. Correct:  870 / 900 = 0.9666666666666667\n",
            "100%|██████████| 225/225 [00:01<00:00, 125.87it/s]\n",
            "TRAINING. Correct:  894 / 900 = 0.9933333333333333\n",
            "100%|██████████| 225/225 [00:01<00:00, 125.73it/s]\n",
            "TRAINING. Correct:  899 / 900 = 0.9988888888888889\n",
            "100%|██████████| 225/225 [00:01<00:00, 126.18it/s]\n",
            "TRAINING. Correct:  900 / 900 = 1.0\n",
            "100%|██████████| 225/225 [00:01<00:00, 126.23it/s]\n",
            "TRAINING. Correct:  900 / 900 = 1.0\n",
            "100%|██████████| 225/225 [00:01<00:00, 125.43it/s]\n",
            "TRAINING. Correct:  900 / 900 = 1.0\n",
            "100%|██████████| 225/225 [00:01<00:00, 126.31it/s]\n",
            "TRAINING. Correct:  900 / 900 = 1.0\n",
            "100%|██████████| 225/225 [00:01<00:00, 126.09it/s]\n",
            "TRAINING. Correct:  900 / 900 = 1.0\n",
            "100%|██████████| 225/225 [00:01<00:00, 127.31it/s]\n",
            "TRAINING. Correct:  900 / 900 = 1.0\n",
            "100%|██████████| 225/225 [00:01<00:00, 128.80it/s]\n",
            "TRAINING. Correct:  900 / 900 = 1.0\n",
            "100%|██████████| 225/225 [00:01<00:00, 129.78it/s]\n",
            "TRAINING. Correct:  900 / 900 = 1.0\n",
            "100%|██████████| 225/225 [00:01<00:00, 127.53it/s]\n",
            "TRAINING. Correct:  900 / 900 = 1.0\n",
            "100%|██████████| 225/225 [00:01<00:00, 125.28it/s]\n",
            "TRAINING. Correct:  900 / 900 = 1.0\n",
            "100%|██████████| 225/225 [00:01<00:00, 127.78it/s]\n",
            "TRAINING. Correct:  900 / 900 = 1.0\n",
            "100%|██████████| 225/225 [00:01<00:00, 128.95it/s]\n",
            "TRAINING. Correct:  900 / 900 = 1.0\n",
            "100%|██████████| 225/225 [00:01<00:00, 125.34it/s]\n",
            "TRAINING. Correct:  900 / 900 = 1.0\n",
            "100%|██████████| 225/225 [00:01<00:00, 124.56it/s]\n",
            "TRAINING. Correct:  900 / 900 = 1.0\n",
            "100%|██████████| 225/225 [00:01<00:00, 125.63it/s]\n",
            "TRAINING. Correct:  900 / 900 = 1.0\n",
            "100%|██████████| 225/225 [00:01<00:00, 127.68it/s]\n",
            "TRAINING. Correct:  900 / 900 = 1.0\n",
            "100%|██████████| 225/225 [00:01<00:00, 124.41it/s]\n",
            "TRAINING. Correct:  900 / 900 = 1.0\n",
            "100%|██████████| 225/225 [00:01<00:00, 121.46it/s]\n",
            "TRAINING. Correct:  900 / 900 = 1.0\n",
            "100%|██████████| 225/225 [00:01<00:00, 127.98it/s]\n",
            "TRAINING. Correct:  900 / 900 = 1.0\n",
            "100%|██████████| 225/225 [00:01<00:00, 125.51it/s]\n",
            "TRAINING. Correct:  900 / 900 = 1.0\n",
            "100%|██████████| 225/225 [00:01<00:00, 130.09it/s]\n",
            "TRAINING. Correct:  900 / 900 = 1.0\n",
            "100%|██████████| 225/225 [00:01<00:00, 129.57it/s]\n",
            "TRAINING. Correct:  900 / 900 = 1.0\n",
            "100%|██████████| 225/225 [00:01<00:00, 130.16it/s]\n",
            "TRAINING. Correct:  900 / 900 = 1.0\n",
            "100%|██████████| 225/225 [00:01<00:00, 128.27it/s]\n",
            "TRAINING. Correct:  900 / 900 = 1.0\n",
            "100%|██████████| 225/225 [00:01<00:00, 127.29it/s]\n",
            "TRAINING. Correct:  900 / 900 = 1.0\n",
            "100%|██████████| 225/225 [00:01<00:00, 126.75it/s]\n",
            "TRAINING. Correct:  900 / 900 = 1.0\n",
            "100%|██████████| 225/225 [00:01<00:00, 127.60it/s]\n",
            "TRAINING. Correct:  900 / 900 = 1.0\n",
            "100%|██████████| 225/225 [00:02<00:00, 99.64it/s]\n",
            "TRAINING. Correct:  900 / 900 = 1.0\n",
            "100%|██████████| 225/225 [00:02<00:00, 89.06it/s]\n",
            "TRAINING. Correct:  900 / 900 = 1.0\n",
            "100%|██████████| 225/225 [00:01<00:00, 123.38it/s]\n",
            "TRAINING. Correct:  900 / 900 = 1.0\n",
            "100%|██████████| 225/225 [00:01<00:00, 128.50it/s]\n",
            "TRAINING. Correct:  900 / 900 = 1.0\n",
            "100%|██████████| 225/225 [00:01<00:00, 129.35it/s]\n",
            "TRAINING. Correct:  900 / 900 = 1.0\n",
            "100%|██████████| 225/225 [00:01<00:00, 127.60it/s]\n",
            "TRAINING. Correct:  900 / 900 = 1.0\n",
            "100%|██████████| 225/225 [00:01<00:00, 124.97it/s]\n",
            "TRAINING. Correct:  900 / 900 = 1.0\n",
            "100%|██████████| 225/225 [00:01<00:00, 124.43it/s]\n",
            "TRAINING. Correct:  900 / 900 = 1.0\n",
            "100%|██████████| 225/225 [00:01<00:00, 126.76it/s]\n",
            "TRAINING. Correct:  900 / 900 = 1.0\n",
            "100%|██████████| 225/225 [00:01<00:00, 124.66it/s]\n",
            "TRAINING. Correct:  900 / 900 = 1.0\n",
            "100%|██████████| 225/225 [00:01<00:00, 125.43it/s]\n",
            "TRAINING. Correct:  900 / 900 = 1.0\n",
            "100%|██████████| 225/225 [00:01<00:00, 128.13it/s]\n",
            "TRAINING. Correct:  900 / 900 = 1.0\n",
            "100%|██████████| 225/225 [00:01<00:00, 127.58it/s]\n",
            "TRAINING. Correct:  900 / 900 = 1.0\n",
            "100%|██████████| 225/225 [00:01<00:00, 126.61it/s]\n",
            "TRAINING. Correct:  900 / 900 = 1.0\n",
            "100%|██████████| 225/225 [00:01<00:00, 125.10it/s]\n",
            "TRAINING. Correct:  900 / 900 = 1.0\n",
            "100%|██████████| 225/225 [00:01<00:00, 126.98it/s]\n",
            "TRAINING. Correct:  900 / 900 = 1.0\n",
            "100%|██████████| 225/225 [00:01<00:00, 126.55it/s]\n",
            "TRAINING. Correct:  900 / 900 = 1.0\n",
            "100%|██████████| 225/225 [00:01<00:00, 127.86it/s]\n",
            "TRAINING. Correct:  900 / 900 = 1.0\n",
            "100%|██████████| 225/225 [00:01<00:00, 127.63it/s]\n",
            "TRAINING. Correct:  900 / 900 = 1.0\n",
            "100%|██████████| 225/225 [00:01<00:00, 127.97it/s]\n",
            "TRAINING. Correct:  900 / 900 = 1.0\n",
            "100%|██████████| 225/225 [00:01<00:00, 125.61it/s]\n",
            "TRAINING. Correct:  900 / 900 = 1.0\n",
            "100%|██████████| 225/225 [00:01<00:00, 128.16it/s]\n",
            "TRAINING. Correct:  900 / 900 = 1.0\n",
            "100%|██████████| 225/225 [00:01<00:00, 124.28it/s]\n",
            "TRAINING. Correct:  900 / 900 = 1.0\n",
            "100%|██████████| 225/225 [00:01<00:00, 126.47it/s]\n",
            "TRAINING. Correct:  900 / 900 = 1.0\n",
            "100%|██████████| 225/225 [00:01<00:00, 128.93it/s]\n",
            "TRAINING. Correct:  900 / 900 = 1.0\n",
            "100%|██████████| 225/225 [00:01<00:00, 127.82it/s]\n",
            "TRAINING. Correct:  900 / 900 = 1.0\n",
            "100%|██████████| 225/225 [00:01<00:00, 127.30it/s]\n",
            "TRAINING. Correct:  900 / 900 = 1.0\n",
            "100%|██████████| 225/225 [00:01<00:00, 128.26it/s]\n",
            "TRAINING. Correct:  900 / 900 = 1.0\n",
            "100%|██████████| 225/225 [00:01<00:00, 126.44it/s]\n",
            "TRAINING. Correct:  900 / 900 = 1.0\n",
            "100%|██████████| 225/225 [00:01<00:00, 129.61it/s]\n",
            "TRAINING. Correct:  900 / 900 = 1.0\n",
            "100%|██████████| 225/225 [00:01<00:00, 128.25it/s]\n",
            "TRAINING. Correct:  900 / 900 = 1.0\n",
            "100%|██████████| 225/225 [00:01<00:00, 128.30it/s]\n",
            "TRAINING. Correct:  900 / 900 = 1.0\n",
            "100%|██████████| 225/225 [00:01<00:00, 127.44it/s]\n",
            "TRAINING. Correct:  900 / 900 = 1.0\n",
            "100%|██████████| 225/225 [00:01<00:00, 126.12it/s]\n",
            "TRAINING. Correct:  900 / 900 = 1.0\n",
            "100%|██████████| 225/225 [00:01<00:00, 124.98it/s]\n",
            "TRAINING. Correct:  900 / 900 = 1.0\n",
            "100%|██████████| 225/225 [00:01<00:00, 125.69it/s]\n",
            "TRAINING. Correct:  900 / 900 = 1.0\n",
            "100%|██████████| 225/225 [00:01<00:00, 126.72it/s]\n",
            "TRAINING. Correct:  900 / 900 = 1.0\n",
            "100%|██████████| 225/225 [00:01<00:00, 124.55it/s]\n",
            "TRAINING. Correct:  900 / 900 = 1.0\n",
            "100%|██████████| 225/225 [00:01<00:00, 125.41it/s]\n",
            "TRAINING. Correct:  900 / 900 = 1.0\n",
            "100%|██████████| 225/225 [00:01<00:00, 126.21it/s]\n",
            "TRAINING. Correct:  900 / 900 = 1.0\n",
            "100%|██████████| 225/225 [00:01<00:00, 124.61it/s]\n",
            "TRAINING. Correct:  900 / 900 = 1.0\n",
            "100%|██████████| 225/225 [00:01<00:00, 125.17it/s]\n",
            "TRAINING. Correct:  900 / 900 = 1.0\n",
            "100%|██████████| 225/225 [00:01<00:00, 125.99it/s]\n",
            "TRAINING. Correct:  900 / 900 = 1.0\n",
            "100%|██████████| 225/225 [00:01<00:00, 122.37it/s]\n",
            "TRAINING. Correct:  900 / 900 = 1.0\n",
            "100%|██████████| 225/225 [00:01<00:00, 124.28it/s]\n",
            "TRAINING. Correct:  900 / 900 = 1.0\n",
            "100%|██████████| 225/225 [00:01<00:00, 121.68it/s]\n",
            "TRAINING. Correct:  900 / 900 = 1.0\n",
            "100%|██████████| 225/225 [00:01<00:00, 119.77it/s]\n",
            "TRAINING. Correct:  900 / 900 = 1.0\n",
            "100%|██████████| 225/225 [00:01<00:00, 126.04it/s]\n",
            "TRAINING. Correct:  900 / 900 = 1.0\n",
            "100%|██████████| 225/225 [00:01<00:00, 124.12it/s]\n",
            "TRAINING. Correct:  900 / 900 = 1.0\n",
            "100%|██████████| 225/225 [00:01<00:00, 126.30it/s]\n",
            "TRAINING. Correct:  900 / 900 = 1.0\n",
            "100%|██████████| 225/225 [00:01<00:00, 123.89it/s]\n",
            "TRAINING. Correct:  900 / 900 = 1.0\n",
            "100%|██████████| 225/225 [00:01<00:00, 125.25it/s]\n",
            "TRAINING. Correct:  333 / 900 = 0.37\n",
            "100%|██████████| 225/225 [00:01<00:00, 121.64it/s]\n",
            "TRAINING. Correct:  672 / 900 = 0.7466666666666667\n"
          ]
        }
      ]
    },
    {
      "cell_type": "markdown",
      "source": [
        "# Clear Cache(optional)"
      ],
      "metadata": {
        "id": "lue05-829v7A"
      }
    },
    {
      "cell_type": "code",
      "source": [
        "'''WARNING: \n",
        "  DO NOT comment out and run these lines, unless reach the RAM limitation'''\n",
        "\n",
        "# import torch, gc\n",
        "# gc.collect()\n",
        "# torch.cuda.empty_cache()"
      ],
      "metadata": {
        "id": "GvkHpfCpmIiU",
        "colab": {
          "base_uri": "https://localhost:8080/",
          "height": 35
        },
        "outputId": "28fe5bf2-aa2c-4063-d676-9c82eb2174be"
      },
      "execution_count": null,
      "outputs": [
        {
          "output_type": "execute_result",
          "data": {
            "text/plain": [
              "'WARNING: \\n  DO NOT comment out and run these lines, unless reach the RAM limitation'"
            ],
            "application/vnd.google.colaboratory.intrinsic+json": {
              "type": "string"
            }
          },
          "metadata": {},
          "execution_count": 15
        }
      ]
    },
    {
      "cell_type": "markdown",
      "source": [
        "#Validation"
      ],
      "metadata": {
        "id": "ZYdfMmdI95xh"
      }
    },
    {
      "cell_type": "code",
      "source": [
        "val_correct = 0\n",
        "val_total = 0\n",
        "for x_val, y_val in tqdm(val_loader,\n",
        "                          position=0, leave=True,\n",
        "                          file=sys.stdout):\n",
        "    batch_size = x_val.shape[0]\n",
        "    x_val = x_val.view(x_val.shape[0], 1, x_val.shape[1], x_val.shape[2])\n",
        "\n",
        "    y_pred = model(x_val.cuda())\n",
        "    y_pred = y_pred.permute(1, 0, 2)\n",
        "\n",
        "    input_lengths = torch.IntTensor(batch_size).fill_(cnn_output_width)\n",
        "    target_lengths = torch.IntTensor([len(t) for t in y_val])\n",
        "\n",
        "    criterion(y_pred, y_val, input_lengths, target_lengths)\n",
        "    _, max_index = torch.max(y_pred, dim=2)\n",
        "    for i in range(batch_size):\n",
        "        raw_prediction = list(max_index[:, i].detach().cpu().numpy())\n",
        "        prediction = torch.IntTensor([c for c, _ in groupby(raw_prediction) if c != blank_label])\n",
        "        if len(prediction) == len(y_val[i]) and torch.all(prediction.eq(y_val[i])):\n",
        "            val_correct += 1\n",
        "        val_total += 1\n",
        "print('TESTING. Correct: ', val_correct, '/', val_total, '=', val_correct / val_total)"
      ],
      "metadata": {
        "id": "3HTKhwutlHPQ",
        "colab": {
          "base_uri": "https://localhost:8080/"
        },
        "outputId": "517be392-1a51-4d29-c2d1-0bec796ad799"
      },
      "execution_count": null,
      "outputs": [
        {
          "output_type": "stream",
          "name": "stdout",
          "text": [
            "100%|██████████| 100/100 [00:00<00:00, 334.82it/s]\n",
            "TESTING. Correct:  33 / 100 = 0.33\n"
          ]
        }
      ]
    },
    {
      "cell_type": "markdown",
      "source": [
        "#Test"
      ],
      "metadata": {
        "id": "RYTFHTb497cj"
      }
    },
    {
      "cell_type": "code",
      "source": [
        "number_of_test_imgs = 10\n",
        "test_loader = torch.utils.data.DataLoader(val_set, batch_size=number_of_test_imgs, shuffle=True)\n",
        "\n",
        "test_preds = []\n",
        "\n",
        "(x_test, y_test) = next(iter(test_loader)) #iterator just like for loop\n",
        "\n",
        "y_pred = model(x_test.view(x_test.shape[0], 1, x_test.shape[1], x_test.shape[2]).cuda()) #feed test data to model and get prediction result\n",
        "y_pred = y_pred.permute(1, 0, 2)\n",
        "\n",
        "_, max_index = torch.max(y_pred, dim=2)\n",
        "for i in range(x_test.shape[0]):\n",
        "    raw_prediction = list(max_index[:, i].detach().cpu().numpy())\n",
        "    prediction = torch.IntTensor([c for c, _ in groupby(raw_prediction) if c != blank_label])\n",
        "    test_preds.append(prediction)"
      ],
      "metadata": {
        "id": "M-yizOdflNaE"
      },
      "execution_count": null,
      "outputs": []
    },
    {
      "cell_type": "code",
      "source": [
        "for j in range(5): #len(x_test)\n",
        "    mpl.rcParams[\"font.size\"] = 8\n",
        "    plt.imshow(x_test[j], cmap='gray')\n",
        "    mpl.rcParams[\"font.size\"] = 18\n",
        "    plt.gcf().text(x=1, y=0.5, s=\"Actual: \" + str(y_test[j].numpy()))\n",
        "    plt.gcf().text(x=1, y=0.2, s=\"Predicted: \" + str(test_preds[j].numpy()))\n",
        "    plt.show()"
      ],
      "metadata": {
        "colab": {
          "base_uri": "https://localhost:8080/",
          "height": 762
        },
        "id": "4SZfvGnz0094",
        "outputId": "21523f40-e9eb-43e9-a2cf-7546be82bfa1"
      },
      "execution_count": null,
      "outputs": [
        {
          "output_type": "display_data",
          "data": {
            "text/plain": [
              "<Figure size 432x288 with 1 Axes>"
            ],
            "image/png": "[encoded data removed]"
          },
          "metadata": {
            "needs_background": "light"
          }
        },
        {
          "output_type": "display_data",
          "data": {
            "text/plain": [
              "<Figure size 432x288 with 1 Axes>"
            ],
            "image/png": "[encoded data removed]"
          },
          "metadata": {
            "needs_background": "light"
          }
        },
        {
          "output_type": "display_data",
          "data": {
            "text/plain": [
              "<Figure size 432x288 with 1 Axes>"
            ],
            "image/png": "[encoded data removed]"
          },
          "metadata": {
            "needs_background": "light"
          }
        },
        {
          "output_type": "display_data",
          "data": {
            "text/plain": [
              "<Figure size 432x288 with 1 Axes>"
            ],
            "image/png": "[encoded data removed]"
          },
          "metadata": {
            "needs_background": "light"
          }
        },
        {
          "output_type": "display_data",
          "data": {
            "text/plain": [
              "<Figure size 432x288 with 1 Axes>"
            ],
            "image/png": "[encoded data removed]"
          },
          "metadata": {
            "needs_background": "light"
          }
        }
      ]
    },
    {
      "cell_type": "markdown",
      "source": [
        "# Encode, Decode class"
      ],
      "metadata": {
        "id": "w8XH06uzobCk"
      }
    },
    {
      "cell_type": "code",
      "source": [
        "# import collections\n",
        "# class strLabelConverter(object):\n",
        "#     \"\"\"Convert between str and label.\n",
        "#     NOTE:\n",
        "#         Insert `blank` to the alphabet for CTC.\n",
        "#     Args:\n",
        "#         alphabet (str): set of the possible characters.\n",
        "#         ignore_case (bool, default=True): whether or not to ignore all of the case.\n",
        "#     \"\"\"\n",
        "\n",
        "#     def __init__(self, alphabet, ignore_case=True):\n",
        "#         self._ignore_case = ignore_case\n",
        "#         if self._ignore_case:\n",
        "#             alphabet = alphabet.lower()\n",
        "#         self.alphabet = alphabet + '-'  # for `-1` index\n",
        "\n",
        "#         self.dict = {}\n",
        "#         for i, char in enumerate(alphabet):\n",
        "#             # NOTE: 0 is reserved for 'blank' required by wrap_ctc\n",
        "#             self.dict[char] = i + 1\n",
        "\n",
        "#     def encode(self, text):\n",
        "#         \"\"\"Support batch or single str.\n",
        "#         Args:\n",
        "#             text (str or list of str): texts to convert.\n",
        "#         Returns:\n",
        "#             torch.IntTensor [length_0 + length_1 + ... length_{n - 1}]: encoded texts.\n",
        "#             torch.IntTensor [n]: length of each text.\n",
        "#         \"\"\"\n",
        "#         if isinstance(text, str):\n",
        "#             text = [\n",
        "#                 self.dict[char.lower() if self._ignore_case else char]\n",
        "#                 for char in text\n",
        "#             ]\n",
        "#             length = [len(text)]\n",
        "#         elif isinstance(text, collections.Iterable):\n",
        "#             length = [len(s) for s in text]\n",
        "#             text = ''.join(text)\n",
        "#             text, _ = self.encode(text)\n",
        "#         return (torch.IntTensor(text), torch.IntTensor(length))\n",
        "\n",
        "#     def decode(self, t, length, raw=False):\n",
        "#         \"\"\"Decode encoded texts back into strs.\n",
        "#         Args:\n",
        "#             torch.IntTensor [length_0 + length_1 + ... length_{n - 1}]: encoded texts.\n",
        "#             torch.IntTensor [n]: length of each text.\n",
        "#         Raises:\n",
        "#             AssertionError: when the texts and its length does not match.\n",
        "#         Returns:\n",
        "#             text (str or list of str): texts to convert.\n",
        "#         \"\"\"\n",
        "#         if length.numel() == 1:\n",
        "#             length = length[0]\n",
        "#             assert t.numel() == length, \"text with length: {} does not match declared length: {}\".format(t.numel(), length)\n",
        "#             if raw:\n",
        "#                 return ''.join([self.alphabet[i - 1] for i in t])\n",
        "#             else:\n",
        "#                 char_list = []\n",
        "#                 for i in range(length):\n",
        "#                     if t[i] != 0 and (not (i > 0 and t[i - 1] == t[i])):\n",
        "#                         char_list.append(self.alphabet[t[i] - 1])\n",
        "#                 return ''.join(char_list)\n",
        "#         else:\n",
        "#             # batch mode\n",
        "#             assert t.numel() == length.sum(), \"texts with length: {} does not match declared length: {}\".format(t.numel(), length.sum())\n",
        "#             texts = []\n",
        "#             index = 0\n",
        "#             for i in range(length.numel()):\n",
        "#                 l = length[i]\n",
        "#                 texts.append(\n",
        "#                     self.decode(\n",
        "#                         t[index:index + l], torch.IntTensor([l]), raw=raw))\n",
        "#                 index += l\n",
        "#             return texts"
      ],
      "metadata": {
        "id": "awOmfJjCl0Sh"
      },
      "execution_count": null,
      "outputs": []
    },
    {
      "cell_type": "code",
      "source": [
        "# test case\n",
        "\n",
        "# alphabet = '0123456789abcdefghijklmnopqrstuvwxyz'\n",
        "# encoder=strLabelConverter(alphabet)\n",
        "# result = encoder.encode('starbucks')\n",
        "# print(result)"
      ],
      "metadata": {
        "colab": {
          "base_uri": "https://localhost:8080/"
        },
        "id": "e5pAXuTjl2ER",
        "outputId": "f1b28d16-5fcf-4625-ad84-8f61cf764cd7"
      },
      "execution_count": null,
      "outputs": [
        {
          "output_type": "stream",
          "name": "stdout",
          "text": [
            "(tensor([29, 30, 11, 28, 12, 31, 13, 21, 29], dtype=torch.int32), tensor([9], dtype=torch.int32))\n"
          ]
        }
      ]
    }
  ]
}