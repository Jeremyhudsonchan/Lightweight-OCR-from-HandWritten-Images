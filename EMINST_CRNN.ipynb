{
  "nbformat": 4,
  "nbformat_minor": 0,
  "metadata": {
    "colab": {
      "provenance": []
    },
    "kernelspec": {
      "name": "python3",
      "display_name": "Python 3"
    },
    "language_info": {
      "name": "python"
    },
    "accelerator": "GPU",
    "gpuClass": "standard",
    "widgets": {
      "application/vnd.jupyter.widget-state+json": {
        "164a7e9b9beb44a992cda98677aa64ea": {
          "model_module": "@jupyter-widgets/controls",
          "model_name": "HBoxModel",
          "model_module_version": "1.5.0",
          "state": {
            "_dom_classes": [],
            "_model_module": "@jupyter-widgets/controls",
            "_model_module_version": "1.5.0",
            "_model_name": "HBoxModel",
            "_view_count": null,
            "_view_module": "@jupyter-widgets/controls",
            "_view_module_version": "1.5.0",
            "_view_name": "HBoxView",
            "box_style": "",
            "children": [
              "IPY_MODEL_6086825e0768479dad48542ca35a2c3e",
              "IPY_MODEL_70f41b2878f44454b4563c8956afd5b1",
              "IPY_MODEL_abc1fbf7c8be4947880f0882e1ff08de"
            ],
            "layout": "IPY_MODEL_5fc4eaabd2b045bf993b294c5598ac76"
          }
        },
        "6086825e0768479dad48542ca35a2c3e": {
          "model_module": "@jupyter-widgets/controls",
          "model_name": "HTMLModel",
          "model_module_version": "1.5.0",
          "state": {
            "_dom_classes": [],
            "_model_module": "@jupyter-widgets/controls",
            "_model_module_version": "1.5.0",
            "_model_name": "HTMLModel",
            "_view_count": null,
            "_view_module": "@jupyter-widgets/controls",
            "_view_module_version": "1.5.0",
            "_view_name": "HTMLView",
            "description": "",
            "description_tooltip": null,
            "layout": "IPY_MODEL_7eaf568597ce41ec894d7ef8b6c314fd",
            "placeholder": "​",
            "style": "IPY_MODEL_31ae2458c7744960b319ce2d18e55022",
            "value": "100%"
          }
        },
        "70f41b2878f44454b4563c8956afd5b1": {
          "model_module": "@jupyter-widgets/controls",
          "model_name": "FloatProgressModel",
          "model_module_version": "1.5.0",
          "state": {
            "_dom_classes": [],
            "_model_module": "@jupyter-widgets/controls",
            "_model_module_version": "1.5.0",
            "_model_name": "FloatProgressModel",
            "_view_count": null,
            "_view_module": "@jupyter-widgets/controls",
            "_view_module_version": "1.5.0",
            "_view_name": "ProgressView",
            "bar_style": "success",
            "description": "",
            "description_tooltip": null,
            "layout": "IPY_MODEL_e6c9f5877d804fdfb5e0940faa9cb1df",
            "max": 561753746,
            "min": 0,
            "orientation": "horizontal",
            "style": "IPY_MODEL_69668d2fca8d4f408b961ad6859782af",
            "value": 561753746
          }
        },
        "abc1fbf7c8be4947880f0882e1ff08de": {
          "model_module": "@jupyter-widgets/controls",
          "model_name": "HTMLModel",
          "model_module_version": "1.5.0",
          "state": {
            "_dom_classes": [],
            "_model_module": "@jupyter-widgets/controls",
            "_model_module_version": "1.5.0",
            "_model_name": "HTMLModel",
            "_view_count": null,
            "_view_module": "@jupyter-widgets/controls",
            "_view_module_version": "1.5.0",
            "_view_name": "HTMLView",
            "description": "",
            "description_tooltip": null,
            "layout": "IPY_MODEL_5c0458f9a05240a8901c0ba9df5989cd",
            "placeholder": "​",
            "style": "IPY_MODEL_2442a4ce5d1044ffa22506adcaab4ca0",
            "value": " 561753746/561753746 [00:40&lt;00:00, 14165544.91it/s]"
          }
        },
        "5fc4eaabd2b045bf993b294c5598ac76": {
          "model_module": "@jupyter-widgets/base",
          "model_name": "LayoutModel",
          "model_module_version": "1.2.0",
          "state": {
            "_model_module": "@jupyter-widgets/base",
            "_model_module_version": "1.2.0",
            "_model_name": "LayoutModel",
            "_view_count": null,
            "_view_module": "@jupyter-widgets/base",
            "_view_module_version": "1.2.0",
            "_view_name": "LayoutView",
            "align_content": null,
            "align_items": null,
            "align_self": null,
            "border": null,
            "bottom": null,
            "display": null,
            "flex": null,
            "flex_flow": null,
            "grid_area": null,
            "grid_auto_columns": null,
            "grid_auto_flow": null,
            "grid_auto_rows": null,
            "grid_column": null,
            "grid_gap": null,
            "grid_row": null,
            "grid_template_areas": null,
            "grid_template_columns": null,
            "grid_template_rows": null,
            "height": null,
            "justify_content": null,
            "justify_items": null,
            "left": null,
            "margin": null,
            "max_height": null,
            "max_width": null,
            "min_height": null,
            "min_width": null,
            "object_fit": null,
            "object_position": null,
            "order": null,
            "overflow": null,
            "overflow_x": null,
            "overflow_y": null,
            "padding": null,
            "right": null,
            "top": null,
            "visibility": null,
            "width": null
          }
        },
        "7eaf568597ce41ec894d7ef8b6c314fd": {
          "model_module": "@jupyter-widgets/base",
          "model_name": "LayoutModel",
          "model_module_version": "1.2.0",
          "state": {
            "_model_module": "@jupyter-widgets/base",
            "_model_module_version": "1.2.0",
            "_model_name": "LayoutModel",
            "_view_count": null,
            "_view_module": "@jupyter-widgets/base",
            "_view_module_version": "1.2.0",
            "_view_name": "LayoutView",
            "align_content": null,
            "align_items": null,
            "align_self": null,
            "border": null,
            "bottom": null,
            "display": null,
            "flex": null,
            "flex_flow": null,
            "grid_area": null,
            "grid_auto_columns": null,
            "grid_auto_flow": null,
            "grid_auto_rows": null,
            "grid_column": null,
            "grid_gap": null,
            "grid_row": null,
            "grid_template_areas": null,
            "grid_template_columns": null,
            "grid_template_rows": null,
            "height": null,
            "justify_content": null,
            "justify_items": null,
            "left": null,
            "margin": null,
            "max_height": null,
            "max_width": null,
            "min_height": null,
            "min_width": null,
            "object_fit": null,
            "object_position": null,
            "order": null,
            "overflow": null,
            "overflow_x": null,
            "overflow_y": null,
            "padding": null,
            "right": null,
            "top": null,
            "visibility": null,
            "width": null
          }
        },
        "31ae2458c7744960b319ce2d18e55022": {
          "model_module": "@jupyter-widgets/controls",
          "model_name": "DescriptionStyleModel",
          "model_module_version": "1.5.0",
          "state": {
            "_model_module": "@jupyter-widgets/controls",
            "_model_module_version": "1.5.0",
            "_model_name": "DescriptionStyleModel",
            "_view_count": null,
            "_view_module": "@jupyter-widgets/base",
            "_view_module_version": "1.2.0",
            "_view_name": "StyleView",
            "description_width": ""
          }
        },
        "e6c9f5877d804fdfb5e0940faa9cb1df": {
          "model_module": "@jupyter-widgets/base",
          "model_name": "LayoutModel",
          "model_module_version": "1.2.0",
          "state": {
            "_model_module": "@jupyter-widgets/base",
            "_model_module_version": "1.2.0",
            "_model_name": "LayoutModel",
            "_view_count": null,
            "_view_module": "@jupyter-widgets/base",
            "_view_module_version": "1.2.0",
            "_view_name": "LayoutView",
            "align_content": null,
            "align_items": null,
            "align_self": null,
            "border": null,
            "bottom": null,
            "display": null,
            "flex": null,
            "flex_flow": null,
            "grid_area": null,
            "grid_auto_columns": null,
            "grid_auto_flow": null,
            "grid_auto_rows": null,
            "grid_column": null,
            "grid_gap": null,
            "grid_row": null,
            "grid_template_areas": null,
            "grid_template_columns": null,
            "grid_template_rows": null,
            "height": null,
            "justify_content": null,
            "justify_items": null,
            "left": null,
            "margin": null,
            "max_height": null,
            "max_width": null,
            "min_height": null,
            "min_width": null,
            "object_fit": null,
            "object_position": null,
            "order": null,
            "overflow": null,
            "overflow_x": null,
            "overflow_y": null,
            "padding": null,
            "right": null,
            "top": null,
            "visibility": null,
            "width": null
          }
        },
        "69668d2fca8d4f408b961ad6859782af": {
          "model_module": "@jupyter-widgets/controls",
          "model_name": "ProgressStyleModel",
          "model_module_version": "1.5.0",
          "state": {
            "_model_module": "@jupyter-widgets/controls",
            "_model_module_version": "1.5.0",
            "_model_name": "ProgressStyleModel",
            "_view_count": null,
            "_view_module": "@jupyter-widgets/base",
            "_view_module_version": "1.2.0",
            "_view_name": "StyleView",
            "bar_color": null,
            "description_width": ""
          }
        },
        "5c0458f9a05240a8901c0ba9df5989cd": {
          "model_module": "@jupyter-widgets/base",
          "model_name": "LayoutModel",
          "model_module_version": "1.2.0",
          "state": {
            "_model_module": "@jupyter-widgets/base",
            "_model_module_version": "1.2.0",
            "_model_name": "LayoutModel",
            "_view_count": null,
            "_view_module": "@jupyter-widgets/base",
            "_view_module_version": "1.2.0",
            "_view_name": "LayoutView",
            "align_content": null,
            "align_items": null,
            "align_self": null,
            "border": null,
            "bottom": null,
            "display": null,
            "flex": null,
            "flex_flow": null,
            "grid_area": null,
            "grid_auto_columns": null,
            "grid_auto_flow": null,
            "grid_auto_rows": null,
            "grid_column": null,
            "grid_gap": null,
            "grid_row": null,
            "grid_template_areas": null,
            "grid_template_columns": null,
            "grid_template_rows": null,
            "height": null,
            "justify_content": null,
            "justify_items": null,
            "left": null,
            "margin": null,
            "max_height": null,
            "max_width": null,
            "min_height": null,
            "min_width": null,
            "object_fit": null,
            "object_position": null,
            "order": null,
            "overflow": null,
            "overflow_x": null,
            "overflow_y": null,
            "padding": null,
            "right": null,
            "top": null,
            "visibility": null,
            "width": null
          }
        },
        "2442a4ce5d1044ffa22506adcaab4ca0": {
          "model_module": "@jupyter-widgets/controls",
          "model_name": "DescriptionStyleModel",
          "model_module_version": "1.5.0",
          "state": {
            "_model_module": "@jupyter-widgets/controls",
            "_model_module_version": "1.5.0",
            "_model_name": "DescriptionStyleModel",
            "_view_count": null,
            "_view_module": "@jupyter-widgets/base",
            "_view_module_version": "1.2.0",
            "_view_name": "StyleView",
            "description_width": ""
          }
        }
      }
    }
  },
  "cells": [
    {
      "cell_type": "code",
      "source": [
        "import sys\n",
        "from itertools import groupby\n",
        "\n",
        "import matplotlib as mpl\n",
        "import matplotlib.pyplot as plt\n",
        "import numpy as np\n",
        "import torch\n",
        "import torch.nn as nn\n",
        "import torch.nn.functional as F\n",
        "import torch.utils.data as data_utils\n",
        "import torchvision.transforms.functional as TF\n",
        "# from colorama import Fore\n",
        "from torchvision import datasets, transforms\n",
        "from tqdm import tqdm"
      ],
      "metadata": {
        "id": "lAncTcrnkOwM"
      },
      "execution_count": null,
      "outputs": []
    },
    {
      "cell_type": "code",
      "execution_count": null,
      "metadata": {
        "id": "T5IPftsGPgIM",
        "colab": {
          "base_uri": "https://localhost:8080/",
          "height": 85,
          "referenced_widgets": [
            "164a7e9b9beb44a992cda98677aa64ea",
            "6086825e0768479dad48542ca35a2c3e",
            "70f41b2878f44454b4563c8956afd5b1",
            "abc1fbf7c8be4947880f0882e1ff08de",
            "5fc4eaabd2b045bf993b294c5598ac76",
            "7eaf568597ce41ec894d7ef8b6c314fd",
            "31ae2458c7744960b319ce2d18e55022",
            "e6c9f5877d804fdfb5e0940faa9cb1df",
            "69668d2fca8d4f408b961ad6859782af",
            "5c0458f9a05240a8901c0ba9df5989cd",
            "2442a4ce5d1044ffa22506adcaab4ca0"
          ]
        },
        "outputId": "8bb598e8-75d4-4c7f-cca9-a547bedee8e1"
      },
      "outputs": [
        {
          "output_type": "stream",
          "name": "stdout",
          "text": [
            "Downloading https://www.itl.nist.gov/iaui/vip/cs_links/EMNIST/gzip.zip to ./EMNIST/EMNIST/raw/gzip.zip\n"
          ]
        },
        {
          "output_type": "display_data",
          "data": {
            "text/plain": [
              "  0%|          | 0/561753746 [00:00<?, ?it/s]"
            ],
            "application/vnd.jupyter.widget-view+json": {
              "version_major": 2,
              "version_minor": 0,
              "model_id": "164a7e9b9beb44a992cda98677aa64ea"
            }
          },
          "metadata": {}
        },
        {
          "output_type": "stream",
          "name": "stdout",
          "text": [
            "Extracting ./EMNIST/EMNIST/raw/gzip.zip to ./EMNIST/EMNIST/raw\n"
          ]
        }
      ],
      "source": [
        "gpu = torch.device('cuda')\n",
        "# ============================================= PREPARING DATASET ======================================================\n",
        "\n",
        "num_classes = 10+26+1  # digit 10; letter 26; placeholder 1; all together 37\n",
        "blank_label = 10\n",
        "\n",
        "image_height = 28\n",
        "\n",
        "gru_hidden_size = 128\n",
        "gru_num_layers = 2\n",
        "\n",
        "cnn_output_height = 4\n",
        "cnn_output_width = 25\n",
        "\n",
        "digits_per_sequence = 2\n",
        "number_of_sequences = 2000\n",
        "emnist_dataset_digit = datasets.EMNIST('./EMNIST', split=\"digits\", train=True, download=True)\n",
        "emnist_dataset_letter = datasets.EMNIST('./EMNIST', split=\"letters\", train=True, download=True)"
      ]
    },
    {
      "cell_type": "code",
      "source": [
        "print(emnist_dataset_digit)\n",
        "print(emnist_dataset_letter)"
      ],
      "metadata": {
        "colab": {
          "base_uri": "https://localhost:8080/"
        },
        "id": "yk5_B2zelQYQ",
        "outputId": "cb9ca4ec-fa2c-476f-85ac-9f305d542134"
      },
      "execution_count": null,
      "outputs": [
        {
          "output_type": "stream",
          "name": "stdout",
          "text": [
            "Dataset EMNIST\n",
            "    Number of datapoints: 240000\n",
            "    Root location: ./EMNIST\n",
            "    Split: Train\n",
            "Dataset EMNIST\n",
            "    Number of datapoints: 124800\n",
            "    Root location: ./EMNIST\n",
            "    Split: Train\n"
          ]
        }
      ]
    },
    {
      "cell_type": "code",
      "source": [
        "print(image_height,cnn_output_height,cnn_output_width)\n",
        "# image_w=digits_per_sequence*28*2\n",
        "# image_height=28\n",
        "# print(image_w)"
      ],
      "metadata": {
        "colab": {
          "base_uri": "https://localhost:8080/"
        },
        "id": "TYxC29-FVwgM",
        "outputId": "7add9f9b-0ccd-4dd1-9679-1b46398cd393"
      },
      "execution_count": null,
      "outputs": [
        {
          "output_type": "stream",
          "name": "stdout",
          "text": [
            "28 4 25\n"
          ]
        }
      ]
    },
    {
      "cell_type": "code",
      "source": [
        "import random\n",
        "# Basically a lightweight dataloader 'class'\n",
        "dataset_sequences = []\n",
        "dataset_labels = []\n",
        "for i in range(number_of_sequences):\n",
        "# for i in range(5):\n",
        "    d_random_indices = np.random.randint(len(emnist_dataset_digit.data), size=(digits_per_sequence,)) #find a random index\n",
        "    d_random__images = emnist_dataset_digit.data[d_random_indices] # extract image based on indices\n",
        "\n",
        "    l_random_indices = np.random.randint(len(emnist_dataset_letter.data), size=(digits_per_sequence,)) #find a random index\n",
        "    l_random__images = emnist_dataset_letter.data[l_random_indices] # extract image based on indices\n",
        "\n",
        "    transformed_random_dl_images = [] #store the transformed images \n",
        "\n",
        "    # transform functions(not that important)\n",
        "    for img in d_random__images:\n",
        "        img = transforms.ToPILImage()(img)  # convert to PIL\n",
        "        img = TF.rotate(img, -90, fill=0)   # rotate images\n",
        "        img = TF.hflip(img)               # horizontal fliip\n",
        "        img = transforms.RandomAffine(degrees=10, translate=(0.2, 0.15), scale=(0.8, 1.1))(img) #random affine\n",
        "        img = transforms.ToTensor()(img).numpy()  #convert to tensor and convert to numpy\n",
        "        transformed_random_dl_images.append(img)   #append the transformed images to a list\n",
        "\n",
        "    for img in l_random__images:\n",
        "        img = transforms.ToPILImage()(img)  # convert to PIL\n",
        "        img = TF.rotate(img, -90, fill=0)   # rotate images\n",
        "        img = TF.hflip(img)               # horizontal fliip\n",
        "        # img = transforms.RandomAffine(degrees=10, translate=(0.2, 0.15), scale=(0.8, 1.1))(img) #random affine\n",
        "        img = transforms.ToTensor()(img).numpy()  #convert to tensor and convert to numpy\n",
        "        transformed_random_dl_images.append(img)   #append the transformed images to a list\n",
        "  \n",
        "    random_dl_images = np.array(transformed_random_dl_images)  #convert the storage list to numpy array\n",
        "    # random_dl_labels = emnist_dataset_digit.targets[d_random_indices]\n",
        "    random_dl_labels = torch.cat((emnist_dataset_digit.targets[d_random_indices],emnist_dataset_letter.targets[l_random_indices])) \n",
        "\n",
        "    random_sequence = np.hstack(random_dl_images.reshape((digits_per_sequence*2, 28, 28)))\n",
        "    random_labels = np.hstack(random_dl_labels.reshape(digits_per_sequence*2, 1))\n",
        "    random_labels[digits_per_sequence:] = random_labels[digits_per_sequence:]+10\n",
        "\n",
        "    # random_sequence = np.hstack(random_dl_images.reshape((digits_per_sequence, 28, 28)))\n",
        "    # random_labels = np.hstack(random_dl_labels.reshape(digits_per_sequence, 1))\n",
        "\n",
        "    dataset_sequences.append(random_sequence / 255)  ## final image sequence\n",
        "    dataset_labels.append(random_labels)  ##final label sequence"
      ],
      "metadata": {
        "id": "j6SiXb7Ek2bX"
      },
      "execution_count": null,
      "outputs": []
    },
    {
      "cell_type": "code",
      "source": [
        "    # for i in range(5):\n",
        "    #   coords=rand_coord()\n",
        "    #   # print(coords[0],coords[1])\n",
        "    #   # print(28*i,28*(i+1))\n",
        "    #   # print(random_sequence[:,28*i:28*(i+1)].shape)\n",
        "    #   # print(back[coords[0]:coords[1],:].shape)\n",
        "    #   back[coords[0]:coords[1],28*i:28*(i+1)] = random_sequence[:,28*i:28*(i+1)]\n",
        "\n",
        "    # coords = rand_coord(0,(digits_per_sequence-1)*28)\n",
        "    # back[coords:coords+28,:]=random_sequence[:,:]\n",
        "\n",
        "    # back[100:100+28,28:]=random_sequence[:,28:]\n",
        "    # print('yes')\n",
        "    # print(random_digits_labels)\n",
        "\n",
        "    # random_labels = np.hstack(random_digits_labels.reshape(digits_per_sequence, 1))\n",
        "\n",
        "    # print(random_labels[1:])\n",
        "    # final_labels = np.concatenate((random_labels,random_labels[1:]), axis=0)\n",
        "    # print(final_labels)"
      ],
      "metadata": {
        "id": "bxH1jrMHA_gg"
      },
      "execution_count": null,
      "outputs": []
    },
    {
      "cell_type": "code",
      "source": [
        "# back=np.zeros((140,140))\n",
        "# back[50:50+28,:]=random_sequence\n",
        "# plt.imshow(back)\n",
        "# plt.show()\n",
        "inde = random.randint(0,2000)\n",
        "# inde=9\n",
        "print(inde)\n",
        "print(dataset_sequences[inde].shape,dataset_sequences[inde].max(),dataset_sequences[inde].dtype)\n",
        "plt.imshow(dataset_sequences[inde],cmap='binary')\n",
        "plt.show()\n",
        "print(dataset_labels[inde])"
      ],
      "metadata": {
        "colab": {
          "base_uri": "https://localhost:8080/",
          "height": 188
        },
        "id": "M0btryj42l98",
        "outputId": "302646e6-750c-438d-e71c-86a39774ee32"
      },
      "execution_count": null,
      "outputs": [
        {
          "output_type": "stream",
          "name": "stdout",
          "text": [
            "1813\n",
            "(28, 112) 0.003921569 float32\n"
          ]
        },
        {
          "output_type": "display_data",
          "data": {
            "text/plain": [
              "<Figure size 432x288 with 1 Axes>"
            ],
            "image/png": "[encoded data removed]"
          },
          "metadata": {
            "needs_background": "light"
          }
        },
        {
          "output_type": "stream",
          "name": "stdout",
          "text": [
            "[ 1  2 22 31]\n"
          ]
        }
      ]
    },
    {
      "cell_type": "code",
      "source": [
        "dataset_data = torch.Tensor(np.array(dataset_sequences))\n",
        "dataset_labels = torch.IntTensor(np.array(dataset_labels))\n",
        "\n",
        "seq_dataset = data_utils.TensorDataset(dataset_data, dataset_labels)\n",
        "train_set, val_set = torch.utils.data.random_split(seq_dataset,[int(len(seq_dataset) * 0.8), int(len(seq_dataset) * 0.2)])  #split 80% to be train; 20% to be valid\n",
        "\n",
        "train_loader = torch.utils.data.DataLoader(train_set, batch_size=4, shuffle=True)\n",
        "val_loader = torch.utils.data.DataLoader(val_set, batch_size=1, shuffle=True)"
      ],
      "metadata": {
        "id": "sc8u_-_JlnLN"
      },
      "execution_count": null,
      "outputs": []
    },
    {
      "cell_type": "code",
      "source": [
        "print(len(train_set))\n",
        "print(len(val_set))"
      ],
      "metadata": {
        "colab": {
          "base_uri": "https://localhost:8080/"
        },
        "id": "VYvuDLVxwSlE",
        "outputId": "d0ed6d47-b9bb-40e0-d993-c874ff153b91"
      },
      "execution_count": null,
      "outputs": [
        {
          "output_type": "stream",
          "name": "stdout",
          "text": [
            "1600\n",
            "400\n"
          ]
        }
      ]
    },
    {
      "cell_type": "code",
      "source": [
        "# ================================================= MODEL ==============================================================\n",
        "'''WARNING: \n",
        "  Make sure cnn_output_height is correctly computed before feeding into GRU\n",
        "  Make it bidirectional, or bi-LSTM'''\n",
        "class CRNN(nn.Module):\n",
        "    def __init__(self):\n",
        "        super(CRNN, self).__init__()\n",
        "        self.conv1 = nn.Conv2d(1, 32, kernel_size=(3, 3))\n",
        "        self.norm1 = nn.InstanceNorm2d(32)\n",
        "        self.conv2 = nn.Conv2d(32, 32, kernel_size=(3, 3), stride=2)\n",
        "        self.norm2 = nn.InstanceNorm2d(32)\n",
        "        self.conv3 = nn.Conv2d(32, 64, kernel_size=(3, 3))\n",
        "        self.norm3 = nn.InstanceNorm2d(64)\n",
        "        self.conv4 = nn.Conv2d(64, 64, kernel_size=(3, 3), stride=2)\n",
        "        self.norm4 = nn.InstanceNorm2d(64)\n",
        "        self.gru_input_size = cnn_output_height * 64\n",
        "        self.gru = nn.GRU(self.gru_input_size, gru_hidden_size, gru_num_layers, batch_first=True, bidirectional=True)\n",
        "        self.fc = nn.Linear(256, num_classes)\n",
        "\n",
        "    def forward(self, x):\n",
        "        batch_size = x.shape[0]\n",
        "        out = self.conv1(x)\n",
        "        out = self.norm1(out)\n",
        "        out = F.leaky_relu(out)\n",
        "        out = self.conv2(out)\n",
        "        out = self.norm2(out)\n",
        "        out = F.leaky_relu(out)\n",
        "        out = self.conv3(out)\n",
        "        out = self.norm3(out)\n",
        "        out = F.leaky_relu(out)\n",
        "        out = self.conv4(out)\n",
        "        out = self.norm4(out)\n",
        "        out = F.leaky_relu(out)\n",
        "        out = out.permute(0, 3, 2, 1)\n",
        "        out = out.reshape(batch_size, -1, self.gru_input_size)\n",
        "        out, _ = self.gru(out)\n",
        "        out = torch.stack([F.log_softmax(self.fc(out[i]), dim=-1) for i in range(out.shape[0])])\n",
        "        return out"
      ],
      "metadata": {
        "id": "EYr76PmUk9Fe"
      },
      "execution_count": null,
      "outputs": []
    },
    {
      "cell_type": "code",
      "source": [
        "from torchsummary import summary\n",
        "model = CRNN().to(gpu)\n",
        "summary(model,(1,28,112)) #h,w"
      ],
      "metadata": {
        "id": "RmJTFhPq75VE",
        "colab": {
          "base_uri": "https://localhost:8080/"
        },
        "outputId": "349df003-696f-4057-f384-43f0b3518b78"
      },
      "execution_count": null,
      "outputs": [
        {
          "output_type": "stream",
          "name": "stdout",
          "text": [
            "----------------------------------------------------------------\n",
            "        Layer (type)               Output Shape         Param #\n",
            "================================================================\n",
            "            Conv2d-1          [-1, 32, 26, 110]             320\n",
            "    InstanceNorm2d-2          [-1, 32, 26, 110]               0\n",
            "            Conv2d-3           [-1, 32, 12, 54]           9,248\n",
            "    InstanceNorm2d-4           [-1, 32, 12, 54]               0\n",
            "            Conv2d-5           [-1, 64, 10, 52]          18,496\n",
            "    InstanceNorm2d-6           [-1, 64, 10, 52]               0\n",
            "            Conv2d-7            [-1, 64, 4, 25]          36,928\n",
            "    InstanceNorm2d-8            [-1, 64, 4, 25]               0\n",
            "               GRU-9  [[-1, 25, 256], [-1, 2, 128]]               0\n",
            "           Linear-10                   [-1, 37]           9,509\n",
            "           Linear-11                   [-1, 37]           9,509\n",
            "================================================================\n",
            "Total params: 84,010\n",
            "Trainable params: 84,010\n",
            "Non-trainable params: 0\n",
            "----------------------------------------------------------------\n",
            "Input size (MB): 0.01\n",
            "Forward/backward pass size (MB): 10.18\n",
            "Params size (MB): 0.32\n",
            "Estimated Total Size (MB): 10.51\n",
            "----------------------------------------------------------------\n"
          ]
        }
      ]
    },
    {
      "cell_type": "code",
      "source": [
        "model = CRNN().to(gpu)\n",
        "criterion = nn.CTCLoss(blank=blank_label, reduction='mean', zero_infinity=True)  # has to use CTC loss here since we want to derive text output\n",
        "optimizer = torch.optim.Adam(model.parameters(), lr=0.0005)"
      ],
      "metadata": {
        "id": "Pbtn-WBVlB1p"
      },
      "execution_count": null,
      "outputs": []
    },
    {
      "cell_type": "code",
      "source": [
        "epochs = 1  # depend on input sequence size. Longer input sequences, more epochs\n",
        "loss_lst=[]\n",
        "item=0\n",
        "for _ in range(epochs):\n",
        "    # ============================================ TRAINING ============================================================\n",
        "    train_correct = 0\n",
        "    train_total = 0\n",
        "    model.train()\n",
        "\n",
        "    for x_train, y_train in tqdm(train_loader,position=0, leave=True,file=sys.stdout):\n",
        "        # print(x_train.shape, y_train)\n",
        "        batch_size = x_train.shape[0]  # x_train.shape == torch.Size([64, 28, 140])\n",
        "        x_train = x_train.view(x_train.shape[0], 1, x_train.shape[1], x_train.shape[2])\n",
        "\n",
        "        # print(x_train.shape)\n",
        "        optimizer.zero_grad()  #clear gradient garbage\n",
        "        y_pred = model(x_train.cuda())\n",
        "        # print(y_pred.shape,y_train.shape)\n",
        "        y_pred = y_pred.permute(1, 0, 2)  # y_pred.shape == torch.Size([64, 32, 11]) convert to [32,64,11]  # 4,25,37; batch, length, class -> length, batch,class\n",
        "        # print(y_pred[0])\n",
        "\n",
        "        input_lengths = torch.IntTensor(batch_size).fill_(cnn_output_width)    #fill the tensor with length\n",
        "        # print(\"in\",input_lengths)\n",
        "        target_lengths = torch.IntTensor([len(t) for t in y_train])           #length of each label sequence in y_train\n",
        "        # print(\"out\",target_lengths,target_lengths.shape)\n",
        "        loss = criterion(y_pred, y_train, input_lengths, target_lengths)\n",
        "        loss.backward()\n",
        "        optimizer.step()\n",
        "        item+=loss.item()\n",
        "        # loss_lst.append(loss.item())\n",
        "        # break\n",
        "        _, max_index = torch.max(y_pred, dim=2)  # max_index.shape == torch.Size([32, 64])    #most likely prediction of label\n",
        "        # print(max_index)\n",
        "        for i in range(batch_size):\n",
        "            raw_prediction = list(max_index[:, i].detach().cpu().numpy())  # len(raw_prediction) == 32        #raw prediction list\n",
        "            prediction = torch.IntTensor([c for c, _ in groupby(raw_prediction) if c != blank_label])        #conver list to Int Tensor for comparison \n",
        "\n",
        "            if len(prediction) == len(y_train[i]) and torch.all(prediction.eq(y_train[i])):    #if prediction and traget matches, correect+=1\n",
        "                train_correct += 1\n",
        "            train_total += 1\n",
        "    loss_lst.append(item/(len(train_set)/4))  #train size / batch size\n",
        "    \n",
        "    print('TRAINING. Correct: ', train_correct, '/', train_total, '=', train_correct / train_total)"
      ],
      "metadata": {
        "id": "v9lzRzXtlGiU",
        "colab": {
          "base_uri": "https://localhost:8080/"
        },
        "outputId": "5fcb0b4c-5989-4cae-c9f8-e402b3f886bf"
      },
      "execution_count": null,
      "outputs": [
        {
          "output_type": "stream",
          "name": "stdout",
          "text": [
            "100%|██████████| 400/400 [00:03<00:00, 109.96it/s]\n",
            "TRAINING. Correct:  1570 / 1600 = 0.98125\n"
          ]
        }
      ]
    },
    {
      "cell_type": "code",
      "source": [
        "print(len(loss_lst))\n",
        "# print(loss_lst/4)\n",
        "# temp_arr=np.array(loss_lst)\n",
        "# # print(temp_arr.shape)\n",
        "# temp_arr=np.reshape(temp_arr,(50,400))\n",
        "# # print(temp_arr.shape)\n",
        "# ave_loss_lst=[]\n",
        "# for i in temp_arr:\n",
        "#   # print(i.mean())\n",
        "#   ave_loss_lst.append(i.mean())\n",
        "# plt.figure(figsize=(20,16))\n",
        "# plt.xlabel('epochs')\n",
        "# plt.ylabel('ave loss')\n",
        "# plt.plot(ave_loss_lst)\n",
        "# plt.title('Loss Plot')     # a little uncertain about the rise between 2500-5000 epochs\n",
        "# plt.show()"
      ],
      "metadata": {
        "id": "V-9KAnP3RdTk"
      },
      "execution_count": null,
      "outputs": []
    },
    {
      "cell_type": "code",
      "source": [
        "'''WARNING: \n",
        "  DO NOT comment out and run these lines, unless reach the RAM limitation'''\n",
        "\n",
        "# import torch, gc\n",
        "# gc.collect()\n",
        "# torch.cuda.empty_cache()"
      ],
      "metadata": {
        "id": "GvkHpfCpmIiU",
        "colab": {
          "base_uri": "https://localhost:8080/",
          "height": 35
        },
        "outputId": "28fe5bf2-aa2c-4063-d676-9c82eb2174be"
      },
      "execution_count": null,
      "outputs": [
        {
          "output_type": "execute_result",
          "data": {
            "text/plain": [
              "'WARNING: \\n  DO NOT comment out and run these lines, unless reach the RAM limitation'"
            ],
            "application/vnd.google.colaboratory.intrinsic+json": {
              "type": "string"
            }
          },
          "metadata": {},
          "execution_count": 15
        }
      ]
    },
    {
      "cell_type": "code",
      "source": [
        "# ============================================ VALIDATION ==========================================================\n",
        "val_correct = 0\n",
        "val_total = 0\n",
        "for x_val, y_val in tqdm(val_loader,\n",
        "                          position=0, leave=True,\n",
        "                          file=sys.stdout):\n",
        "    batch_size = x_val.shape[0]\n",
        "    x_val = x_val.view(x_val.shape[0], 1, x_val.shape[1], x_val.shape[2])\n",
        "\n",
        "    y_pred = model(x_val.cuda())\n",
        "    y_pred = y_pred.permute(1, 0, 2)\n",
        "\n",
        "    input_lengths = torch.IntTensor(batch_size).fill_(cnn_output_width)\n",
        "    target_lengths = torch.IntTensor([len(t) for t in y_val])\n",
        "\n",
        "    criterion(y_pred, y_val, input_lengths, target_lengths)\n",
        "    _, max_index = torch.max(y_pred, dim=2)\n",
        "    for i in range(batch_size):\n",
        "        raw_prediction = list(max_index[:, i].detach().cpu().numpy())\n",
        "        prediction = torch.IntTensor([c for c, _ in groupby(raw_prediction) if c != blank_label])\n",
        "        if len(prediction) == len(y_val[i]) and torch.all(prediction.eq(y_val[i])):\n",
        "            val_correct += 1\n",
        "        val_total += 1\n",
        "print('TESTING. Correct: ', val_correct, '/', val_total, '=', val_correct / val_total)"
      ],
      "metadata": {
        "id": "3HTKhwutlHPQ",
        "colab": {
          "base_uri": "https://localhost:8080/"
        },
        "outputId": "f5ebd4f1-170b-4016-da5d-7c8f877699cc"
      },
      "execution_count": null,
      "outputs": [
        {
          "output_type": "stream",
          "name": "stdout",
          "text": [
            "100%|██████████| 400/400 [00:01<00:00, 350.25it/s]\n",
            "TESTING. Correct:  230 / 400 = 0.575\n"
          ]
        }
      ]
    },
    {
      "cell_type": "code",
      "source": [
        "# ============================================ TESTING =================================================================\n",
        "number_of_test_imgs = 10\n",
        "test_loader = torch.utils.data.DataLoader(val_set, batch_size=number_of_test_imgs, shuffle=True)\n",
        "\n",
        "test_preds = []\n",
        "\n",
        "(x_test, y_test) = next(iter(test_loader)) #iterator just like for loop\n",
        "\n",
        "y_pred = model(x_test.view(x_test.shape[0], 1, x_test.shape[1], x_test.shape[2]).cuda()) #feed test data to model and get prediction result\n",
        "y_pred = y_pred.permute(1, 0, 2)\n",
        "\n",
        "_, max_index = torch.max(y_pred, dim=2)\n",
        "for i in range(x_test.shape[0]):\n",
        "    raw_prediction = list(max_index[:, i].detach().cpu().numpy())\n",
        "    prediction = torch.IntTensor([c for c, _ in groupby(raw_prediction) if c != blank_label])\n",
        "    test_preds.append(prediction)"
      ],
      "metadata": {
        "id": "M-yizOdflNaE"
      },
      "execution_count": null,
      "outputs": []
    },
    {
      "cell_type": "code",
      "source": [
        "for j in range(5): #len(x_test)\n",
        "    mpl.rcParams[\"font.size\"] = 8\n",
        "    plt.imshow(x_test[j], cmap='gray')\n",
        "    mpl.rcParams[\"font.size\"] = 18\n",
        "    plt.gcf().text(x=1, y=0.5, s=\"Actual: \" + str(y_test[j].numpy()))\n",
        "    plt.gcf().text(x=1, y=0.4, s=\"Predicted: \" + str(test_preds[j].numpy()))\n",
        "    plt.show()"
      ],
      "metadata": {
        "colab": {
          "base_uri": "https://localhost:8080/",
          "height": 597
        },
        "id": "4SZfvGnz0094",
        "outputId": "1c74ce45-05b7-4f2b-9da4-e5ee8b8db687"
      },
      "execution_count": null,
      "outputs": [
        {
          "output_type": "display_data",
          "data": {
            "text/plain": [
              "<Figure size 432x288 with 1 Axes>"
            ],
            "image/png": "[encoded data removed]"
          },
          "metadata": {
            "needs_background": "light"
          }
        },
        {
          "output_type": "display_data",
          "data": {
            "text/plain": [
              "<Figure size 432x288 with 1 Axes>"
            ],
            "image/png": "[encoded data removed]"
          },
          "metadata": {
            "needs_background": "light"
          }
        },
        {
          "output_type": "display_data",
          "data": {
            "text/plain": [
              "<Figure size 432x288 with 1 Axes>"
            ],
            "image/png": "[encoded data removed]"
          },
          "metadata": {
            "needs_background": "light"
          }
        },
        {
          "output_type": "display_data",
          "data": {
            "text/plain": [
              "<Figure size 432x288 with 1 Axes>"
            ],
            "image/png": "[encoded data removed]"
          },
          "metadata": {
            "needs_background": "light"
          }
        },
        {
          "output_type": "display_data",
          "data": {
            "text/plain": [
              "<Figure size 432x288 with 1 Axes>"
            ],
            "image/png": "[encoded data removed]"
          },
          "metadata": {
            "needs_background": "light"
          }
        }
      ]
    },
    {
      "cell_type": "markdown",
      "source": [
        "# Encode, Decode class"
      ],
      "metadata": {
        "id": "w8XH06uzobCk"
      }
    },
    {
      "cell_type": "code",
      "source": [
        "# import collections\n",
        "# class strLabelConverter(object):\n",
        "#     \"\"\"Convert between str and label.\n",
        "#     NOTE:\n",
        "#         Insert `blank` to the alphabet for CTC.\n",
        "#     Args:\n",
        "#         alphabet (str): set of the possible characters.\n",
        "#         ignore_case (bool, default=True): whether or not to ignore all of the case.\n",
        "#     \"\"\"\n",
        "\n",
        "#     def __init__(self, alphabet, ignore_case=True):\n",
        "#         self._ignore_case = ignore_case\n",
        "#         if self._ignore_case:\n",
        "#             alphabet = alphabet.lower()\n",
        "#         self.alphabet = alphabet + '-'  # for `-1` index\n",
        "\n",
        "#         self.dict = {}\n",
        "#         for i, char in enumerate(alphabet):\n",
        "#             # NOTE: 0 is reserved for 'blank' required by wrap_ctc\n",
        "#             self.dict[char] = i + 1\n",
        "\n",
        "#     def encode(self, text):\n",
        "#         \"\"\"Support batch or single str.\n",
        "#         Args:\n",
        "#             text (str or list of str): texts to convert.\n",
        "#         Returns:\n",
        "#             torch.IntTensor [length_0 + length_1 + ... length_{n - 1}]: encoded texts.\n",
        "#             torch.IntTensor [n]: length of each text.\n",
        "#         \"\"\"\n",
        "#         if isinstance(text, str):\n",
        "#             text = [\n",
        "#                 self.dict[char.lower() if self._ignore_case else char]\n",
        "#                 for char in text\n",
        "#             ]\n",
        "#             length = [len(text)]\n",
        "#         elif isinstance(text, collections.Iterable):\n",
        "#             length = [len(s) for s in text]\n",
        "#             text = ''.join(text)\n",
        "#             text, _ = self.encode(text)\n",
        "#         return (torch.IntTensor(text), torch.IntTensor(length))\n",
        "\n",
        "#     def decode(self, t, length, raw=False):\n",
        "#         \"\"\"Decode encoded texts back into strs.\n",
        "#         Args:\n",
        "#             torch.IntTensor [length_0 + length_1 + ... length_{n - 1}]: encoded texts.\n",
        "#             torch.IntTensor [n]: length of each text.\n",
        "#         Raises:\n",
        "#             AssertionError: when the texts and its length does not match.\n",
        "#         Returns:\n",
        "#             text (str or list of str): texts to convert.\n",
        "#         \"\"\"\n",
        "#         if length.numel() == 1:\n",
        "#             length = length[0]\n",
        "#             assert t.numel() == length, \"text with length: {} does not match declared length: {}\".format(t.numel(), length)\n",
        "#             if raw:\n",
        "#                 return ''.join([self.alphabet[i - 1] for i in t])\n",
        "#             else:\n",
        "#                 char_list = []\n",
        "#                 for i in range(length):\n",
        "#                     if t[i] != 0 and (not (i > 0 and t[i - 1] == t[i])):\n",
        "#                         char_list.append(self.alphabet[t[i] - 1])\n",
        "#                 return ''.join(char_list)\n",
        "#         else:\n",
        "#             # batch mode\n",
        "#             assert t.numel() == length.sum(), \"texts with length: {} does not match declared length: {}\".format(t.numel(), length.sum())\n",
        "#             texts = []\n",
        "#             index = 0\n",
        "#             for i in range(length.numel()):\n",
        "#                 l = length[i]\n",
        "#                 texts.append(\n",
        "#                     self.decode(\n",
        "#                         t[index:index + l], torch.IntTensor([l]), raw=raw))\n",
        "#                 index += l\n",
        "#             return texts"
      ],
      "metadata": {
        "id": "awOmfJjCl0Sh"
      },
      "execution_count": null,
      "outputs": []
    },
    {
      "cell_type": "code",
      "source": [
        "# test case\n",
        "\n",
        "# alphabet = '0123456789abcdefghijklmnopqrstuvwxyz'\n",
        "# encoder=strLabelConverter(alphabet)\n",
        "# result = encoder.encode('starbucks')\n",
        "# print(result)"
      ],
      "metadata": {
        "colab": {
          "base_uri": "https://localhost:8080/"
        },
        "id": "e5pAXuTjl2ER",
        "outputId": "f1b28d16-5fcf-4625-ad84-8f61cf764cd7"
      },
      "execution_count": null,
      "outputs": [
        {
          "output_type": "stream",
          "name": "stdout",
          "text": [
            "(tensor([29, 30, 11, 28, 12, 31, 13, 21, 29], dtype=torch.int32), tensor([9], dtype=torch.int32))\n"
          ]
        }
      ]
    }
  ]
}