{
  "cells": [
    {
      "cell_type": "code",
      "execution_count": 1,
      "metadata": {
        "id": "YhOOumlAyBYG"
      },
      "outputs": [],
      "source": [
        "###Import Packages###\n",
        "import os\n",
        "import random\n",
        "import numpy as np\n",
        "import pandas as pd\n",
        "import matplotlib.pyplot as plt\n",
        "import cv2\n",
        "from PIL import Image\n",
        "\n",
        "from sklearn.model_selection import train_test_split\n",
        "from skimage import io, color\n",
        "\n",
        "import torch\n",
        "from torch.utils.data  import Dataset, DataLoader\n",
        "from torchvision import transforms\n",
        "import torchvision.transforms.functional as TF\n",
        "import torch.nn as nn\n",
        "import torch.nn.functional as F\n",
        "import torchvision\n",
        "import re\n",
        "from gensim.models import Word2Vec"
      ]
    },
    {
      "cell_type": "code",
      "execution_count": 2,
      "metadata": {
        "colab": {
          "base_uri": "https://localhost:8080/"
        },
        "id": "FsuCUwNMD2xq",
        "outputId": "00f76778-92b7-4489-f84f-cdd7024d78f3"
      },
      "outputs": [
        {
          "name": "stdout",
          "output_type": "stream",
          "text": [
            "Mounted at /content/drive\n"
          ]
        }
      ],
      "source": [
        "# Connect to Google Drive\n",
        "from google.colab import drive\n",
        "drive.mount('/content/drive')"
      ]
    },
    {
      "cell_type": "code",
      "execution_count": null,
      "metadata": {},
      "outputs": [],
      "source": [
        "df = pd.read_csv('/content/drive/MyDrive/CV_Final_Project_Data/data/annot.csv', low_memory = False)"
      ]
    },
    {
      "cell_type": "code",
      "execution_count": null,
      "metadata": {},
      "outputs": [],
      "source": [
        "df.head()"
      ]
    },
    {
      "cell_type": "code",
      "execution_count": null,
      "metadata": {},
      "outputs": [],
      "source": [
        "# in utf8_string, get the max length from each row\n",
        "def get_max_length(utf8_string):\n",
        "    max_length = 0\n",
        "    save_id = 0\n",
        "    for i in range(len(utf8_string)):\n",
        "        if len(utf8_string[i]) > max_length:\n",
        "            max_length = len(utf8_string[i])\n",
        "            save_id = i\n",
        "    # get image_id\n",
        "    image_id = df.iloc[i,0]\n",
        "    return image_id, max_length\n",
        "get_max_length(df['utf8_string'])"
      ]
    },
    {
      "cell_type": "code",
      "execution_count": null,
      "metadata": {},
      "outputs": [],
      "source": [
        "# get longest word\n",
        "def get_longest_word(utf8_string):\n",
        "    longest_word = ''\n",
        "    save_id = 0\n",
        "    for i in range(len(utf8_string)):\n",
        "        for word in utf8_string[i].split():\n",
        "            if len(word) > len(longest_word):\n",
        "                longest_word = word\n",
        "                save_id = i\n",
        "    # get image id from save_id from image_id column using save_id as index\n",
        "    image_id = df.iloc[i,0]\n",
        "    return longest_word, image_id\n",
        "\n",
        "get_longest_word(df['utf8_string'])"
      ]
    },
    {
      "cell_type": "code",
      "execution_count": 3,
      "metadata": {
        "id": "yWRoCbD_2EPF"
      },
      "outputs": [],
      "source": [
        "###Functions for Pre-Process DATA###\n",
        "def convert_one_channel(img):\n",
        "    #some images have 3 channels , although they are grayscale image\n",
        "    if len(img.shape)>2:\n",
        "        img=img[:,:,0]\n",
        "        return img\n",
        "    else:\n",
        "        return img"
      ]
    },
    {
      "cell_type": "code",
      "execution_count": 4,
      "metadata": {
        "colab": {
          "base_uri": "https://localhost:8080/",
          "height": 35
        },
        "id": "zkhh0YRU7iHD",
        "outputId": "94d0f383-303c-4000-b685-b1bd33e04e57"
      },
      "outputs": [
        {
          "data": {
            "text/plain": [
              "<Figure size 2160x504 with 0 Axes>"
            ]
          },
          "metadata": {},
          "output_type": "display_data"
        }
      ],
      "source": [
        "###display some processed result to double check\n",
        "fig = plt.figure(figsize = (30,7))\n",
        "plt.show()"
      ]
    },
    {
      "cell_type": "markdown",
      "metadata": {
        "id": "iuSrfdLnq8_c"
      },
      "source": [
        "#Loader"
      ]
    },
    {
      "cell_type": "code",
      "execution_count": 5,
      "metadata": {
        "id": "B4ZfZSGPnGij"
      },
      "outputs": [],
      "source": [
        "def pad_img(path):\n",
        "  # read image\n",
        "  img = Image.open(path)\n",
        "  img = np.array(img)\n",
        "  old_image_height, old_image_width, channels = img.shape\n",
        "\n",
        "  new_image_width = 1536\n",
        "  new_image_height = 1536\n",
        "\n",
        "  color = (0,0,0)\n",
        "  result = np.full((new_image_height,new_image_width, channels), color, dtype=np.uint8)\n",
        "\n",
        "  # copy img image into upper left corner of result image\n",
        "  result[0:old_image_height, 0:old_image_width] = img\n",
        "\n",
        "  return result"
      ]
    },
    {
      "cell_type": "code",
      "execution_count": 1,
      "metadata": {
        "colab": {
          "base_uri": "https://localhost:8080/",
          "height": 35
        },
        "id": "LLVmJSaePJ0q",
        "outputId": "51c5cfde-d2e9-4d91-9ab2-1d45851e19a5"
      },
      "outputs": [
        {
          "ename": "NameError",
          "evalue": "name 'Dataset' is not defined",
          "output_type": "error",
          "traceback": [
            "\u001b[0;31m---------------------------------------------------------------------------\u001b[0m",
            "\u001b[0;31mNameError\u001b[0m                                 Traceback (most recent call last)",
            "Cell \u001b[0;32mIn [1], line 5\u001b[0m\n\u001b[1;32m      3\u001b[0m rest_set_size \u001b[39m=\u001b[39m \u001b[39m0.3\u001b[39m\n\u001b[1;32m      4\u001b[0m test_set_size \u001b[39m=\u001b[39m \u001b[39m0.5\u001b[39m\n\u001b[0;32m----> 5\u001b[0m \u001b[39mclass\u001b[39;00m \u001b[39mdset\u001b[39;00m(Dataset):\n\u001b[1;32m      6\u001b[0m   \u001b[39mdef\u001b[39;00m \u001b[39m__init__\u001b[39m(\u001b[39mself\u001b[39m, root_dir, train\u001b[39m=\u001b[39m\u001b[39mTrue\u001b[39;00m,test\u001b[39m=\u001b[39m\u001b[39mTrue\u001b[39;00m,transformX \u001b[39m=\u001b[39m \u001b[39mNone\u001b[39;00m, transformY \u001b[39m=\u001b[39m \u001b[39mNone\u001b[39;00m):\n\u001b[1;32m      7\u001b[0m         \u001b[39m#self.pixel_file = pd.read_csv(os.path.join(root_dir, 'sample.csv'))\u001b[39;00m\n\u001b[1;32m      8\u001b[0m         \u001b[39mself\u001b[39m\u001b[39m.\u001b[39mroot_dir \u001b[39m=\u001b[39m root_dir\n",
            "\u001b[0;31mNameError\u001b[0m: name 'Dataset' is not defined"
          ]
        }
      ],
      "source": [
        "# WHICH ONE?\n",
        "# Text OCR Dataloader \n",
        "rest_set_size = 0.3\n",
        "test_set_size = 0.5\n",
        "class dset(Dataset):\n",
        "  def __init__(self, root_dir, train=True,test=True,transformX = None, transformY = None):\n",
        "        #self.pixel_file = pd.read_csv(os.path.join(root_dir, 'sample.csv'))\n",
        "        self.root_dir = root_dir\n",
        "        self.transformX = transformX\n",
        "        self.transformY = transformY\n",
        "        self.train = train\n",
        "        self.test = test\n",
        "\n",
        "        # Only useful columns are: id, width, height\n",
        "        self.images_df = pd.read_csv(f'{self.root_dir}img.csv')\n",
        "        # Only Useful colums are: id, image_id, bbox, utf8_string\n",
        "        annotations_df = pd.read_csv(f'{self.root_dir}annot.csv')\n",
        "\n",
        "        # process rows with puctuaitons in text\n",
        "        # TODO\n",
        "        \n",
        "        # if data in df have same image_id, group them together\n",
        "        annotations_df_grouped = annotations_df.groupby('image_id').agg(lambda x: list(x))\n",
        "        \n",
        "        # 70% tain, 15% valid, 15% test\n",
        "        self.train_data, self.rest_data = train_test_split(annotations_df_grouped, test_size = rest_set_size, random_state = 5)\n",
        "        self.validation_data, self.test_data = train_test_split(annotations_df_grouped, test_size = test_set_size, random_state = 5)\n",
        "\n",
        "    \n",
        "\n",
        "  # TODO: implement train, val, and test set length\n",
        "  def __len__(self):\n",
        "    if self.train:\n",
        "      length = len(self.train_data)\n",
        "    elif self.test:\n",
        "      length = len(self.test_data)\n",
        "    else:\n",
        "      length = len(self.validation_data)\n",
        "    return length\n",
        "  \n",
        "\n",
        "  # for now, this will return:\n",
        "  # X: the image (padded)\n",
        "  # Y: the list of bounding boxes\n",
        "  def __getitem__(self, index):\n",
        "    # here is how to retrieve row \"names\" : self.train_data.index.values[index]\n",
        "    filename = \"\"\n",
        "    if self.train:\n",
        "      filename = self.train_data.index.values[index]\n",
        "    elif self.test:\n",
        "      filename = self.test_data.index.values[index]\n",
        "    else:\n",
        "      filename = self.validation_data.index.values[index]\n",
        "    \n",
        "    #print(f'{self.root_dir}train_val_images/train_images/{filename}.jpg')\n",
        "    '''\n",
        "    imx = Image.open(f'{self.root_dir}train_val_images/train_images/{filename}.jpg')\n",
        "    imx = np.asarray(imx)\n",
        "    # padding\n",
        "    shape = imx.shape\n",
        "    rows = shape[0]\n",
        "    cols = shape[1]\n",
        "    rows_to_add = 16 - (rows % 16)\n",
        "    cols_to_add = 16 - (cols % 16)\n",
        "    imx = np.pad(imx, ((0, rows_to_add), (0, cols_to_add)), 'constant')\n",
        "    '''\n",
        "    imx = pad_img(f'{self.root_dir}train_val_images/train_images/{filename}.jpg')\n",
        "    #print(imx.shape)\n",
        "\n",
        "\n",
        "    if self.train:\n",
        "      annot = self.train_data.loc[filename, 'bbox']\n",
        "      text = self.train_data.loc[filename, 'utf8_string']\n",
        "    elif self.test:\n",
        "      annot = self.test_data.loc[filename, 'bbox']\n",
        "      text = self.test_data.loc[filename, 'utf8_string']\n",
        "    else:\n",
        "      annot = self.validation_data.loc[filename, 'bbox']\n",
        "      text = self.validation_data.loc[filename, 'utf8_string']\n",
        "    \n",
        "    # convert text to vectors\n",
        "    # print(text[0])\n",
        "    # model = Word2Vec(text[0], min_count=1, batch_words=1)\n",
        "    # vec_arr = []\n",
        "    # for word in text[0]:\n",
        "    #   vec_arr.append(model.wv[word])\n",
        "    # vec_arr = np.array(vec_arr)\n",
        "    \n",
        "    # for each letter/digit in text, map them into an integer value between 0 to 36\n",
        "    # 00-09: 0-9\n",
        "    # 10-35: A-Z\n",
        "    # add a 36 in between each word\n",
        "    int_text = []\n",
        "    new_text = re.sub(r'[^\\w\\s]','',str(text))\n",
        "    new_text = new_text.split()\n",
        "    length = len(new_text)\n",
        "    n = ''\n",
        "    # print(new_text, type(new_text))\n",
        "    for t in new_text:\n",
        "      # print(t)\n",
        "      temp_text = []\n",
        "      for i in range(len(t)):\n",
        "        # print(t[i])\n",
        "        if t[i].isdigit():\n",
        "          n = int(t[i])\n",
        "        elif t[i].isalpha():\n",
        "          n = int(ord(t[i].upper()) - 55)\n",
        "        if i == length - 1:\n",
        "          n = 37\n",
        "        temp_text.append(n)\n",
        "      int_text.append(temp_text)\n",
        "    # for i in range(length):\n",
        "    #   if t[i].isdigit():\n",
        "    #     n += '0' + str(t[i])\n",
        "    #   elif t[i].isalpha():\n",
        "    #     n += str(ord(t[i].upper()) - 55)\n",
        "    #   else:\n",
        "    #     n += '36'\n",
        "    #   n += ' '\n",
        "    #   if i == length - 1:\n",
        "    #     n += '37'\n",
        "    # int_text.append(n)\n",
        "\n",
        "    # sample = {'image': imx, 'annotation': annot, 'text': vec_arr}\n",
        "    sample = {'image': imx, 'annotation': annot, 'text': text, 'int_text': int_text}\n",
        "    return sample\n",
        "\n",
        "#path = '/content/drive/MyDrive/CSCI334301_ComputerVision/Project/Dataset/train_val_images/train_images/00c359f294f7dcd9.jpg'\n",
        "#img = pad_img(path)\n"
      ]
    },
    {
      "cell_type": "code",
      "execution_count": null,
      "metadata": {
        "colab": {
          "base_uri": "https://localhost:8080/",
          "height": 325
        },
        "id": "OE6zWVI_m_Dt",
        "outputId": "7ad2fa1b-aa3a-4c42-c066-1b62d2c7596b"
      },
      "outputs": [
        {
          "name": "stdout",
          "output_type": "stream",
          "text": [
            "[\"['[473.11, 532.33, 21.71, 16.52]', '[495.9, 538.48, 19.45, 16.64]', '[474.54, 554.93, 36.7, 25.5]', '[312.02, 488.62, 22.97, 18.27]', '[334.99, 493.33, 22.86, 20.1]', '[432.58, 269.77, 126.97, 45.09]']\"]\n",
            "[\"['NYC', 'TAXI', '1H53', 'TAXI', 'FAKE', 'WEATHERPROOF']\"]\n"
          ]
        },
        {
          "data": {
            "image/png": "[encoded data removed]",
            "text/plain": [
              "<Figure size 432x288 with 1 Axes>"
            ]
          },
          "metadata": {
            "needs_background": "light"
          },
          "output_type": "display_data"
        }
      ],
      "source": [
        "# OCRdata = dset('/content/drive/MyDrive/CSCI334301_ComputerVision/Project/Dataset/', train=True,test=False,)\n",
        "OCRdata = dset('/content/drive/MyDrive/CV_Final_Project_Data/data/')\n",
        "data = OCRdata.__getitem__(1)\n",
        "\n",
        "plt.imshow(data['image'])\n",
        "print(data['annotation'])\n",
        "print(data['text'])"
      ]
    },
    {
      "cell_type": "code",
      "execution_count": 16,
      "metadata": {
        "colab": {
          "base_uri": "https://localhost:8080/",
          "height": 35
        },
        "id": "ZtATe-RLq7O7",
        "outputId": "3601e894-bae0-4807-b05a-5ebd9676e172"
      },
      "outputs": [
        {
          "data": {
            "application/vnd.google.colaboratory.intrinsic+json": {
              "type": "string"
            },
            "text/plain": [
              "'0868e18f64b83259'"
            ]
          },
          "execution_count": 16,
          "metadata": {},
          "output_type": "execute_result"
        }
      ],
      "source": [
        "#test\n",
        "OCRdata.train_data.index.values[0]"
      ]
    },
    {
      "cell_type": "code",
      "execution_count": 17,
      "metadata": {
        "id": "gtBEZ2EU06re"
      },
      "outputs": [],
      "source": [
        "###initialize data_loaders\n",
        "tx_X = transforms.Compose([transforms.ToTensor(),\n",
        "              transforms.Normalize((0.5,), (0.5,))])\n",
        "tx_Y = transforms.Compose([transforms.ToTensor()\n",
        "                        ])\n",
        "\n",
        "# train_data = dset('/content/drive/MyDrive/CSCI334301_ComputerVision/Project/Dataset/', train=True, test=False, transformX = tx_X, transformY = tx_Y)\n",
        "# validation_data = dset('/content/drive/MyDrive/CSCI334301_ComputerVision/Project/Dataset/', train=False,test=False,transformX = tx_X, transformY = tx_Y)\n",
        "# test_data = dset('/content/drive/MyDrive/CSCI334301_ComputerVision/Project/Dataset/', train=False, test=True,transformX = tx_X, transformY = tx_Y\n",
        "train_data = dset('/content/drive/MyDrive/CV_Final_Project_Data/data/', train=True, test=False, transformX = tx_X, transformY = tx_Y)\n",
        "validation_data = dset('/content/drive/MyDrive/CV_Final_Project_Data/data/', train=False,test=False,transformX = tx_X, transformY = tx_Y)\n",
        "test_data = dset('/content/drive/MyDrive/CV_Final_Project_Data/data/', train=False, test=True,transformX = tx_X, transformY = tx_Y)\n",
        "\n",
        "train_loader = DataLoader(dataset=train_data, batch_size=2, shuffle=True, num_workers=2)\n",
        "validation_loader = DataLoader(dataset=validation_data, batch_size=2, shuffle=True, num_workers=1)\n",
        "test_loader = DataLoader(dataset=test_data, batch_size=2, shuffle=True, num_workers=1)"
      ]
    },
    {
      "cell_type": "code",
      "execution_count": 18,
      "metadata": {
        "colab": {
          "base_uri": "https://localhost:8080/"
        },
        "id": "5kF9qQZ5Gv6k",
        "outputId": "a6b5e525-4896-4967-924e-69d3d93f3401"
      },
      "outputs": [
        {
          "name": "stdout",
          "output_type": "stream",
          "text": [
            "length\n",
            "7612\n",
            "5437\n",
            "5438\n"
          ]
        }
      ],
      "source": [
        "print('length')\n",
        "print(len(train_loader))\n",
        "print(len(validation_loader))\n",
        "print(len(test_loader))"
      ]
    },
    {
      "cell_type": "markdown",
      "metadata": {
        "id": "JHSIaPuZrnLz"
      },
      "source": [
        "#Model"
      ]
    },
    {
      "cell_type": "code",
      "execution_count": 19,
      "metadata": {
        "id": "jliGHlIQrxMm"
      },
      "outputs": [],
      "source": [
        "import torch.nn as nn\n",
        "\n",
        "\n",
        "class BidirectionalLSTM(nn.Module):\n",
        "\n",
        "    def __init__(self, nIn, nHidden, nOut):\n",
        "        super(BidirectionalLSTM, self).__init__()\n",
        "\n",
        "        self.rnn = nn.LSTM(nIn, nHidden, bidirectional=True)\n",
        "        self.embedding = nn.Linear(nHidden * 2, nOut)\n",
        "\n",
        "    def forward(self, input):\n",
        "        recurrent, _ = self.rnn(input)\n",
        "        T, b, h = recurrent.size()\n",
        "        t_rec = recurrent.view(T * b, h)\n",
        "\n",
        "        output = self.embedding(t_rec)  # [T * b, nOut]\n",
        "        output = output.view(T, b, -1)\n",
        "\n",
        "        return output\n",
        "\n",
        "\n",
        "class CRNN(nn.Module):\n",
        "\n",
        "    def __init__(self, imgH, nc, nclass, nh, n_rnn=2, leakyRelu=False):\n",
        "        super(CRNN, self).__init__()\n",
        "        assert imgH % 16 == 0, 'imgH has to be a multiple of 16'\n",
        "\n",
        "        ks = [3, 3, 3, 3, 3, 3, 2]\n",
        "        ps = [1, 1, 1, 1, 1, 1, 0]\n",
        "        ss = [1, 1, 1, 1, 1, 1, 1]\n",
        "        nm = [64, 128, 256, 256, 512, 512, 512]\n",
        "\n",
        "        cnn = nn.Sequential()\n",
        "\n",
        "        def convRelu(i, batchNormalization=False):\n",
        "            nIn = nc if i == 0 else nm[i - 1]\n",
        "            nOut = nm[i]\n",
        "            cnn.add_module('conv{0}'.format(i),\n",
        "                           nn.Conv2d(nIn, nOut, ks[i], ss[i], ps[i]))\n",
        "            if batchNormalization:\n",
        "                cnn.add_module('batchnorm{0}'.format(i), nn.BatchNorm2d(nOut))\n",
        "            if leakyRelu:\n",
        "                cnn.add_module('relu{0}'.format(i),\n",
        "                               nn.LeakyReLU(0.2, inplace=True))\n",
        "            else:\n",
        "                cnn.add_module('relu{0}'.format(i), nn.ReLU(True))\n",
        "\n",
        "        convRelu(0)\n",
        "        cnn.add_module('pooling{0}'.format(0), nn.MaxPool2d(2, 2))  # 64x16x64\n",
        "        convRelu(1)\n",
        "        cnn.add_module('pooling{0}'.format(1), nn.MaxPool2d(2, 2))  # 128x8x32\n",
        "        convRelu(2, True)\n",
        "        convRelu(3)\n",
        "        cnn.add_module('pooling{0}'.format(2),\n",
        "                       nn.MaxPool2d((2, 2), (2, 1), (0, 1)))  # 256x4x16\n",
        "        convRelu(4, True)\n",
        "        convRelu(5)\n",
        "        cnn.add_module('pooling{0}'.format(3),\n",
        "                       nn.MaxPool2d((2, 2), (2, 1), (0, 1)))  # 512x2x16\n",
        "        convRelu(6, True)  # 512x1x16\n",
        "\n",
        "        self.cnn = cnn\n",
        "        self.rnn = nn.Sequential(\n",
        "            BidirectionalLSTM(512, nh, nh),\n",
        "            BidirectionalLSTM(nh, nh, nclass))\n",
        "\n",
        "    def forward(self, input):\n",
        "        # conv features\n",
        "        conv = self.cnn(input)\n",
        "        b, c, h, w = conv.size()\n",
        "        assert h == 1, \"the height of conv must be 1\"\n",
        "        conv = conv.squeeze(2)\n",
        "        conv = conv.permute(2, 0, 1)  # [w, b, c]\n",
        "\n",
        "        # rnn features\n",
        "        output = self.rnn(conv)\n",
        "\n",
        "        return output"
      ]
    },
    {
      "cell_type": "code",
      "execution_count": 20,
      "metadata": {
        "id": "LL4p022nthP1"
      },
      "outputs": [],
      "source": [
        "model = CRNN(1152, 3, 37, 256)\n",
        "if torch.cuda.is_available():\n",
        "    model = model.to('cuda')"
      ]
    },
    {
      "cell_type": "code",
      "execution_count": 21,
      "metadata": {
        "colab": {
          "base_uri": "https://localhost:8080/"
        },
        "id": "Plt2mNuZwwNU",
        "outputId": "645ecd04-089e-4b96-d484-0b0771dfcabc"
      },
      "outputs": [
        {
          "data": {
            "text/plain": [
              "<bound method Module.modules of CRNN(\n",
              "  (cnn): Sequential(\n",
              "    (conv0): Conv2d(3, 64, kernel_size=(3, 3), stride=(1, 1), padding=(1, 1))\n",
              "    (relu0): ReLU(inplace=True)\n",
              "    (pooling0): MaxPool2d(kernel_size=2, stride=2, padding=0, dilation=1, ceil_mode=False)\n",
              "    (conv1): Conv2d(64, 128, kernel_size=(3, 3), stride=(1, 1), padding=(1, 1))\n",
              "    (relu1): ReLU(inplace=True)\n",
              "    (pooling1): MaxPool2d(kernel_size=2, stride=2, padding=0, dilation=1, ceil_mode=False)\n",
              "    (conv2): Conv2d(128, 256, kernel_size=(3, 3), stride=(1, 1), padding=(1, 1))\n",
              "    (batchnorm2): BatchNorm2d(256, eps=1e-05, momentum=0.1, affine=True, track_running_stats=True)\n",
              "    (relu2): ReLU(inplace=True)\n",
              "    (conv3): Conv2d(256, 256, kernel_size=(3, 3), stride=(1, 1), padding=(1, 1))\n",
              "    (relu3): ReLU(inplace=True)\n",
              "    (pooling2): MaxPool2d(kernel_size=(2, 2), stride=(2, 1), padding=(0, 1), dilation=1, ceil_mode=False)\n",
              "    (conv4): Conv2d(256, 512, kernel_size=(3, 3), stride=(1, 1), padding=(1, 1))\n",
              "    (batchnorm4): BatchNorm2d(512, eps=1e-05, momentum=0.1, affine=True, track_running_stats=True)\n",
              "    (relu4): ReLU(inplace=True)\n",
              "    (conv5): Conv2d(512, 512, kernel_size=(3, 3), stride=(1, 1), padding=(1, 1))\n",
              "    (relu5): ReLU(inplace=True)\n",
              "    (pooling3): MaxPool2d(kernel_size=(2, 2), stride=(2, 1), padding=(0, 1), dilation=1, ceil_mode=False)\n",
              "    (conv6): Conv2d(512, 512, kernel_size=(2, 2), stride=(1, 1))\n",
              "    (batchnorm6): BatchNorm2d(512, eps=1e-05, momentum=0.1, affine=True, track_running_stats=True)\n",
              "    (relu6): ReLU(inplace=True)\n",
              "  )\n",
              "  (rnn): Sequential(\n",
              "    (0): BidirectionalLSTM(\n",
              "      (rnn): LSTM(512, 256, bidirectional=True)\n",
              "      (embedding): Linear(in_features=512, out_features=256, bias=True)\n",
              "    )\n",
              "    (1): BidirectionalLSTM(\n",
              "      (rnn): LSTM(256, 256, bidirectional=True)\n",
              "      (embedding): Linear(in_features=512, out_features=37, bias=True)\n",
              "    )\n",
              "  )\n",
              ")>"
            ]
          },
          "execution_count": 21,
          "metadata": {},
          "output_type": "execute_result"
        }
      ],
      "source": [
        "model.modules"
      ]
    },
    {
      "cell_type": "markdown",
      "metadata": {
        "id": "pwEXeZYCtX-Q"
      },
      "source": [
        "#Loss and Optimizer"
      ]
    },
    {
      "cell_type": "code",
      "execution_count": 22,
      "metadata": {
        "id": "tREq1zNKtcuB"
      },
      "outputs": [],
      "source": [
        "# Using Adam as our optimizer \n",
        "optimizer = torch.optim.Adam(model.parameters(), lr = 0.0001) # weight_decay="
      ]
    },
    {
      "cell_type": "code",
      "execution_count": 23,
      "metadata": {
        "id": "h55vgYgjuOp_"
      },
      "outputs": [],
      "source": [
        "# Using Loss()\n",
        "criterion = nn.CTCLoss()"
      ]
    },
    {
      "cell_type": "markdown",
      "metadata": {
        "id": "ndGy12O0wkA2"
      },
      "source": [
        "#Train and Validation (TO DO)"
      ]
    },
    {
      "cell_type": "code",
      "execution_count": 25,
      "metadata": {
        "colab": {
          "base_uri": "https://localhost:8080/"
        },
        "id": "mDgFaXQdxprz",
        "outputId": "be19650a-e781-47da-d93f-34466c946579"
      },
      "outputs": [
        {
          "name": "stdout",
          "output_type": "stream",
          "text": [
            "[(\"['Repair', 'This', 'is', 'the', 'one', 'area', 'where', 'we', 'are', 'yet', 'to', 'record', 'any', 'significant', 'progress', 'It', 'would', 'be', 'a', 'crime', 'to', 'categorise', 'me', 'as', 'any', 'sort', 'of', 'handyman', 'as', 'Jane', 'will', 'readily', 'testify', 'So', 'when', 'it', 'comes', 'to', 'mending', 'broken', 'items', 'around', 'the', 'home', 'I', 'still', 'tend', 'to', 'err', 'on', 'the', 'side', 'of', 'either', 'replacing', 'it', 'or', 'of', 'it', 'isnt', 'too', 'expensive', 'call', 'in', 'a', 'true', 'Mr', 'or', 'Mrs', 'Fixit', 'The', 'only', 'things', 'that', 'I', 'think', 'we', 'would', 'attempt', 'to', 'repair', 'ourselves', 'are', 'clothes', 'One', 'solution', 'we', 'have', 'settled', 'on', 'is', 'trying', 'to', 'think', 'more', 'carefully', 'before', 'buying', 'any', 'gadget', 'or', 'appliance', 'If', 'we', 'do', 'decide', 'that', 'we', 'need', 'it', 'we', 'now', 'research', 'it', 'beforehand', 'and', 'source', 'goods', 'that', 'have', 'a', 'good', 'reputation', 'for', 'lasting', 'a', 'long', 'time', 'even', 'though', 'the', 'apparent', 'prevalence', 'of', 'planned', 'obsolescence', 'can', 'make', 'this', 'tricky', 'sometimes', 'It', 'is', 'also', 'invariably', 'the', 'more', 'expensive', 'option', 'you', 'get', 'what', 'you', 'pay', 'for', 'as', 'they', 'say', 'but', 'as', 'we', 'have', 'found', 'in', 'many', 'aspects', 'of', 'our', 'ethical', 'living', 'experiment', 'the', 'most', 'favorable', 'routes', 'to', 'take', 'in', 'terms', 'of', 'reducing', 'your', 'impact', 'on', 'the', 'world', 'around', 'you', 'are', 'often', 'the', 'dearest', 'Both', 'Jane', 'and', 'I', 'still', 'find', 'this', 'hard', 'to', 'square', 'with', 'ourselves', 'sometimes', 'we', 'are', 'and', 'cut', 'costs', 'after', 'all', 'Perhaps', 'Rethink', 'should', 'be']\", \"['vex', 'GIA', 'GIANT', 'NT', 'O', 'GIAN', 'IANT', 'GIANT', 'GIANT', 'AMANO', 'SAIMANO', 'FriendsLife', 'Friends', 'sLife', 'TY']\")]\n",
            "Epoch: 0, Train Loss: 0.0\n",
            "[(\"['Santand']\", \"['MIZZOU', '21']\")]\n",
            "Epoch: 1, Train Loss: 0.0\n",
            "[(\"['IOES', 'S', 'Cola', 'MARKET', 'CIGARETTES', 'T', 'S', 'HOUSE', 'HOLD', 'HOTEL', 'UNITED', 'RAILWAYS', 'TELEGRAPH', 'SCHOOLS', 'TEL', 'ELD', 'RTPAK', 'Beverages', 'HOTEL', 'Warfield']\", \"['9M93B', 'NEW', 'YORK', 'Ford', '47', '9M93', 'Rome', 'Ms', 'OLD', 'COLD', 'S', 'g', 'I', 'o', 'Stan', 'Mo', 'Mang', 'HYUNDAI', 'H', 'CocaCola', 'SAMSUNG', 'energystargov', 'changetheworld', 'Pledge', 'ENERGY', 'STAR', 'Take', 'the', 'XINHUA', 'NEWS', 'AGENCY', 'SHIREEN', 'Z', 'REMEN', 'RE', 'YOUR', 'DAY', 'Allian', 'Corona', 'Lq', 'Doo', 'CURRENCIES', '557', '024', '0835', '006', '039', '7', 'IMENS', 'S', 'RSHEYS', 'Reeses', 'RSHEYS', 'ESSON', 'FROM', 'BUFFETT']\")]\n",
            "Epoch: 2, Train Loss: 0.0\n"
          ]
        },
        {
          "name": "stderr",
          "output_type": "stream",
          "text": [
            "Exception ignored in: <function _MultiProcessingDataLoaderIter.__del__ at 0x7ffa275c05f0>\n",
            "Traceback (most recent call last):\n",
            "  File \"/usr/local/lib/python3.7/dist-packages/torch/utils/data/dataloader.py\", line 1510, in __del__\n",
            "    self._shutdown_workers()\n",
            "  File \"/usr/local/lib/python3.7/dist-packages/torch/utils/data/dataloader.py\", line 1474, in _shutdown_workers\n",
            "    w.join(timeout=_utils.MP_STATUS_CHECK_INTERVAL)\n",
            "  File \"/usr/lib/python3.7/multiprocessing/process.py\", line 140, in join\n",
            "    res = self._popen.wait(timeout)\n",
            "  File \"/usr/lib/python3.7/multiprocessing/popen_fork.py\", line 45, in wait\n",
            "    if not wait([self.sentinel], timeout):\n",
            "  File \"/usr/lib/python3.7/multiprocessing/connection.py\", line 921, in wait\n",
            "    ready = selector.select(timeout)\n",
            "  File \"/usr/lib/python3.7/selectors.py\", line 415, in select\n",
            "    fd_event_list = self._selector.poll(timeout)\n",
            "KeyboardInterrupt: \n"
          ]
        },
        {
          "name": "stdout",
          "output_type": "stream",
          "text": [
            "[(\"['FLIGHT', 'IN', 'ON', 'BEST', 'OF', 'THE', 'NATIONAL', 'FAT', 'BACK', 'BAND', 'MOTION', 'ONS', 'FROM', 'THE', 'ORIGINAL', 'NATIONAL', 'SHALAMARTHE', 'LOOK', 'KOOL', 'PICTURE', 'THE', 'HAROLD', 'SOUNDTRACK', 'AND', 'THE', 'WOMAN', 'IN', 'RED', 'NOTES', 'THE', 'BLUE', 'GANG', 'IN', 'THE', 'SLADE', 'PHILLYBUSTERS', 'HEART', 'AT', 'SLADEST', 'LI', 'AD', 'WILD', 'AND', 'HOT', 'CHOCOLATE', 'PEACEFUL', 'SIX', 'GREATEST', 'Cicero', 'THE', 'GANG', 'KOOL', 'The', 'Sound', 'of', 'Philadelphia', 'PIR', '65659', 'POLYDOR', 'SUPER', 'DELITE', 'RECO', 'ELEKTRA', 'RECORDS', 'K42115', 'SRAK', '307', 'STEREO', '22', 'SRA', 'ParkHot', 'Chocolate', 'ATLANTIC', 'RECORDS', 'K', '50565', 'STAX', 'RECORDS', 'ABC', 'RECORDS', 'ABCE', '5121', 'STX', '1005', 'IE', 'GOES', 'CHILDREN', 'TO', 'HOLLYWOOD', 'WELCOME', 'HITS', 'TO', 'THE', 'PLEASUREDOME', 'DRAMATICS', 'THE', 'DRAMATIC', 'JACKPOT', 'M', 'HOT', 'AUGUST', 'NIGHT', 'NEIL', 'DIAMOND', 'YOUVE', 'LOU', 'THE', 'BEST', 'LOU', 'RAWLS', 'OF', 'BLONDIE', 'SIMON', 'MCSP', '253', 'PIR', '82402', 'HEARD', 'IT', 'ALL', '69003', 'CREST', '1', 'WHEN', 'YOU', 'BEAR', 'SLAYED', 'LOUID', 'NAZARETH', 'AND', 'GAREUNKELS', 'GREATEST', 'HITS', 'ONAL', 'EII', 'STYLISTICS', 'GEORGE', 'BENSONWHILE', 'A', 'DRAMATIC', 'THE', 'ISLEY', 'EXPERIENCE', 'BROTHERS', 'DRAMATICS', 'DIANA', 'THE', 'MARVIN', 'CITY', 'SLEEPS', 'DIANA', 'ROSS', 'MARVIN', 'GAYE', 'THANK', 'YOU', 'MUSIC', 'LOVERS', 'POLYDOR', 'POLYDOR', 'POLYDOR', 'DELUXE', 'SUPER', 'SUPER', '2442119', '2383163', '2383026', 'HCA', 'VICTOR', 'LSA', '3', 'DIH20520', 'LONDON', 'STML', '12067', '55257', 'SOUL', 'R', '1', '11214', 'STML', '4557', 'STAX', 'SAMPLER', 'POLYDOR', 'KTEL', '1169', 'SUPER', '2383261', 'HITS', '2', 'NE', '1126', 'KTEL', 'NE', '11', 'STEREO', '22', '5001', '65740', 'EPC', 'SUMS', 'CENTAUR', 'CPC', '1234', 'VARIOUS', 'ARTIST6', 'HOOPLE', 'MOTT', 'THE', 'OJAYS', 'Through', 'Lookin', 'NATURAL', 'HIGH', 'COMMODORES', 'The', 'WindowsJackson', 'BACK', 'STABBERS', 'MOTT', 'OLD', 'NEW', 'BORROWED', 'TAKIN', 'YOU', 'THERE', 'AND', 'BLUE', 'DYNAMITE', 'TRAX', '2', 'VOL', 'CHART', 'HITS', 'VOL', '1', 'TURBO', 'CHART', 'HITS', '31', 'VARIOUS', 'ARTISTS', 'ARTISTSHITS', '2', 'THE', 'ALBUM', 'Bird', 'EXPLOSION', 'OF', 'The', 'VARIOUS', 'Broadcasts', 'CHART', 'PRINTE', '1979', 'LTD', '6880200', '427', 'DJLPH', 'RECORDS', 'CHRYSALIS', '3', 'FEATURING', 'LADY', 'THAT', '3', 'ITS', 'ALL', 'PLATINUM', 'E', '6360082', '1001', 'MCSP', '278', 'EMTV', 'DJLPD', 'o', 'Im', 'only', 'the', 'pianoplayer', 'Elton', 'MOTION', 'John', 'THE', 'BEST', 'PICTURE', 'OF', 'TAVARES', 'SOUNDTRACK', 'CAR', 'WASH', 'ORIGINAL', 'Dont', 'walk', 'Boogie', 'GREATEST', 'HITS', 'seduction', 'GLITTER', 'GARY', 'GLITTER', 'DRIVER', 'ROAD', 'BRICK', 'JUS', 'DUO', 'W', 'FILE', 'RECORDS', 'EMTV', '13', 'BELL', 'N']\", \"['ROLEXROLEXROLEXROLEXROLEX', 'ROLEX', 'OYSTER', 'PERPETUAL', 'ATEJI', 'wwwnipiccom', 'BY', 'nicolasj', 'ROLEX', 'ROLEXCOM', 'NO20091215133624008670', 'WHAT', 'A', 'DIFFERENCE', 'A', 'DAY', 'MAKES', 'UNVEILING', 'THE', 'NEW', 'DATEJUST', 'JG', 'MN', 'EX', '6', '9']\")]\n",
            "Epoch: 3, Train Loss: 0.0\n",
            "[(\"['Kūhllang', 'Detecht', 'Reissdorf', 'Reissdorf', 'Reissdorf', 'Reissdorf', 'Früh', 'Frü', 'F']\", \"['LUE', 'BAR', 'ESTAURAN', 'NNEAPOLIS', 'M', 'yo', 'nect']\")]\n",
            "Epoch: 4, Train Loss: 0.0\n",
            "[(\"['The', 'short', 'happy', 'life', 'cucumber', 'a', 'of', 'savers', 'ANNU', 'DEPT', 'IJI', 'AGR', 'nual', 'search', 'port', 'Qee', 'Qn', 'Ar', 'o', 'P', 'ETLE', 'AERMS', 'PHILIPPINE', 'PAPUA', 'NEW', 'GUINEA', 'NEW', 'Zealand', 'New', 'zealand', 'New', 'zealand', 'NIAR', 'MAURITIUS', 'MALAYSIA', 'KOREA', 'KOREA', 'KIRIBATI', 'LAOS', 'JAPAN', 'FFTG', 'FCA', 'Land', 'Board', 'FILE', 'MAFF', 'OWIScal', 'MAFF', 'File', 'File', 'HEALTH', 'AND', 'REPORT', 'ANNUAL', 'MAFF', 'FILE', 'FILE', 'MAFF', 'ORANNA', 'AND', 'IRRYATICAN', 'REPORT', 'ANNUAL', 'MAFF', 'FIII', 'FIII', 'MF', 'Annual', 'Research', 'Report', '19191954', 'DIVISION', 'RESEARCH', 'FIII', 'MFF', 'FIJI', 'M', 'Crop', 'Programme', '19871989', '19901993', 'Programme', 'Research', 'OP', 'FIJI', 'MRI', 'Annual', 'Research', 'Report', '19741978', 'FIJI', 'Des', 'NIR', 'OF', 'Annual', 'Research', 'Reports', 'gtz']\", \"['210b', '10', 'GIGAS', 'LEGUMES', 'He', 'Delicious', 'G', 'NISHING', '518790', 'lbs', 'RE', '24', 'C', 'sumed', 'DESTROYER', 'KRYLIC', 'ArtBin']\")]\n",
            "Epoch: 5, Train Loss: 0.0\n",
            "[(\"['Última', 'Hora', 'Arquivo', 'Público', 'do', 'Estado', 'de', 'São', 'Paulo', '1956', 'Flamengo', 'do', 'Praia', 'na', 'Ressaca']\", \"['LE', 'NHEUR', 'LE', 'BONHEUR', 'PRIMA', 'ESTATE', 'RED', 'WINE', 'MERLOT', 'CABERNET', 'SAUVIGNON', '200', 'WINE', 'OF', 'ORIGIN', 'SIMONSBERG', 'STELLENBOSCH', 'WINE', 'OF', 'SOUTH', 'AFRICA']\")]\n",
            "Epoch: 6, Train Loss: 0.0\n",
            "[(\"['11', 'Gnew', 'Ulow', 'WFRK', 'R', 'So', 'all', 'and']\", \"['CAPE', 'TA', 'apresenta', 'ACIDCHAOS', 'TOUR', '1994', 'SEPULTURA', 'RAMONES', 'Raimundos', '1111', 'RAMONES', 'RAMONES', 'US', 'ES', 'ES', 'RA', 'RA', 'E', 'RO', 'Op', 'R']\")]\n",
            "Epoch: 7, Train Loss: 0.0\n",
            "[(\"['caution', 'ginger', 'bites', 'back', 'froosh', 'fruit', 'bottled', 'new', 'ORANGE', 'CARROT', 'GINGER', 'SMOOTH']\", \"['My', 'Library', 'Rockaway', 'Tow', 'P', 'Free', 'My', 'Library']\")]\n",
            "Epoch: 8, Train Loss: 0.0\n",
            "[(\"['DUTY', 'Julien', 'Daniëlle', 'TUNISIA', '2012']\", \"['19', 'LCRD4', '156', 'C', '35', 'TR', 'IL', 'Charmolüe', '2004', 'Montrose', 'Chăteau', 'MONT', 'GRAND', 'CRU', 'CLASS', 'DU', 'MEDOC', 'IN', '1855', 'MON', 'CHATEA', 'AU']\")]\n",
            "Epoch: 9, Train Loss: 0.0\n"
          ]
        }
      ],
      "source": [
        "# training the model\n",
        "# https://github.com/meijieru/crnn.pytorch/blob/master/train.py\n",
        "def train(model, train_loader, optimizer, criterion, epoch):\n",
        "    model.train()\n",
        "    for batch_idx, (data, target) in enumerate(train_loader):\n",
        "        if torch.cuda.is_available():\n",
        "            data = data.to('cuda')\n",
        "            target = target.to('cuda')\n",
        "        optimizer.zero_grad()\n",
        "        output = model(data)\n",
        "        output = output.log_softmax(2)\n",
        "        output = output.permute(1, 0, 2)\n",
        "        target = target.long()\n",
        "        target = target.permute(1, 0)\n",
        "        input_lengths = torch.full(size=(output.size(0),), fill_value=output.size(1), dtype=torch.long)\n",
        "        target_lengths = torch.full(size=(target.size(0),), fill_value=target.size(1), dtype=torch.long)\n",
        "        loss = criterion(output, target, input_lengths, target_lengths)\n",
        "        loss.backward()\n",
        "        optimizer.step()\n",
        "        if batch_idx % 10 == 0:\n",
        "            print('Train Epoch: {} [{}/{} ({:.0f}%)]\\tLoss: {:.6f}'.format(\n",
        "                epoch, batch_idx * len(data), len(train_loader.dataset),\n",
        "                100. * batch_idx / len(train_loader), loss.item()))\n",
        "\n",
        "# train\n",
        "for epoch in range(1, 10):\n",
        "    train(model, train_loader, optimizer, criterion, epoch)"
      ]
    },
    {
      "cell_type": "code",
      "execution_count": null,
      "metadata": {
        "id": "MRe7PwFDxuiR"
      },
      "outputs": [],
      "source": [
        "# validation\n",
        "def validation(model, validation_loader, criterion):\n",
        "    model.eval()\n",
        "    validation_loss = 0\n",
        "    for i, item, in enumerate(validation_loader):\n",
        "        if torch.cuda.is_available():\n",
        "            item['image'] = item['image'].to('cuda')\n",
        "            item['text'] = item['text'].to('cuda')\n",
        "        # convert text to int, image to float tensor\n",
        "        item['image'] = item['image'].type(torch.FloatTensor)\n",
        "        item['text'] = item['text'].type(torch.LongTensor)\n",
        "        # forward pass\n",
        "        output = model(item['image'])\n",
        "        output = output.permute(1, 0, 2)\n",
        "        output = output.log_softmax(2)\n",
        "        output = output.permute(1, 0, 2)\n",
        "        # calculate loss\n",
        "        loss = criterion(output, item['text'], torch.IntTensor([output.size(0)] * item['image'].size(0)), torch.IntTensor([item['text'].size(0)] * item['image'].size(0)))\n",
        "        validation_loss += loss.item()\n",
        "    print('Validation Loss: {}'.format(validation_loss / len(validation_loader)))"
      ]
    },
    {
      "cell_type": "code",
      "execution_count": null,
      "metadata": {
        "id": "Q_fTSskTxvwq"
      },
      "outputs": [],
      "source": [
        "# testing\n",
        "def test(model, test_loader):\n",
        "    model.eval()\n",
        "    for i, item, in enumerate(test_loader):\n",
        "        if torch.cuda.is_available():\n",
        "            item['image'] = item['image'].to('cuda')\n",
        "            item['text'] = item['text'].to('cuda')\n",
        "        # convert text to int, image to float tensor\n",
        "        item['image'] = item['image'].type(torch.FloatTensor)\n",
        "        item['text'] = item['text'].type(torch.LongTensor)\n",
        "        # forward pass\n",
        "        output = model(item['image'])\n",
        "        output = output.permute(1, 0, 2)\n",
        "        output = output.log_softmax(2)\n",
        "        output = output.permute(1, 0, 2)\n",
        "        # calculate loss\n",
        "        loss = criterion(output, item['text'], torch.IntTensor([output.size(0)] * item['image'].size(0)), torch.IntTensor([item['text'].size(0)] * item['image'].size(0)))\n",
        "        print('Test Loss: {}'.format(loss.item()))"
      ]
    },
    {
      "cell_type": "code",
      "execution_count": null,
      "metadata": {
        "id": "N6wYBwalu6gy"
      },
      "outputs": [],
      "source": [
        "# # old\n",
        "# from tqdm.notebook import tqdm\n",
        "# def train(model, criterion, epochs = 5, verbose=False):\n",
        "#   if not train_hist:\n",
        "#     train_hist = []\n",
        "#   if not val_hist:\n",
        "#     val_hist = []\n",
        "    \n",
        "#   torch.cuda.empty_cache()\n",
        "    \n",
        "#   tqdm.write(\"====== Training Started ======\")\n",
        "#   epochs_completed = 0\n",
        "#   for e in tqdm(range(epochs), position=0, desc=\"Epochs\", leave=False, colour='green'):\n",
        "#     train_running_loss = 0.0\n",
        "#     validation_running_loss = 0.0\n",
        "#     ct = 0.0\n",
        "    \n",
        "#     model.train()\n",
        "    \n",
        "#     # print(\"Losses are reset to:\", train_running_loss, validation_running_loss, ct)\n",
        "#     for ith_batch, sample in tqdm(enumerate(train_loader), position=1, desc=\"Batches\", leave=False, total=len(train_loader), colour='blue'):\n",
        "#       X, Y = sample['image'], sample['annotation']\n",
        "\n",
        "#       if torch.cuda.is_available():\n",
        "#         X = X.to('cuda')\n",
        "#         Y = Y.to('cuda')\n",
        "\n",
        "#       y_pred = model(X)\n",
        "#     # out = (y_pred + 0.5).int().float()\n",
        "      \n",
        "#       # loss = criterion(y_pred, Y) #* 0.70 + 0.30 * dice_loss(y_pred, y_train)\n",
        "#       loss=0.3*dice_loss(y_pred, Y)+0.7*criterion(y_pred, Y)\n",
        "#       optimizer.zero_grad()\n",
        "#       loss.backward()\n",
        "#       optimizer.step()\n",
        "#       if verbose and ith_batch % 10 == 0 and ith_batch != 0:\n",
        "#         # print(\"This item's loss:\", f'{loss.item()}')\n",
        "#         # print(\"This pred started with\", y_pred[0][0][0][0:10])\n",
        "#         tqdm.write('Epoch: ', e + 1, 'Batch: ', ith_batch, 'Curr Epoch Loss: ', f'{train_running_loss / ct:0.3f}')\n",
        "        \n",
        "#       train_running_loss += loss.item()\n",
        "#       train_hist.append(loss.item())\n",
        "#       ct += 1.0"
      ]
    },
    {
      "cell_type": "code",
      "execution_count": null,
      "metadata": {
        "id": "XEXjVn8bv8Gt"
      },
      "outputs": [],
      "source": [
        "total_epochs=0"
      ]
    },
    {
      "cell_type": "code",
      "execution_count": null,
      "metadata": {
        "id": "fkDimd6AwAEk"
      },
      "outputs": [],
      "source": [
        "num_epochs = 100\n",
        "# and visualize the full training graph\n",
        "completed_epochs = train(model, criterion, epochs=num_epochs, verbose=False)\n",
        "total_epochs+=completed_epochs"
      ]
    },
    {
      "cell_type": "code",
      "execution_count": null,
      "metadata": {
        "id": "1UngM-hKjVKG"
      },
      "outputs": [],
      "source": [
        "torch.save(model.state_dict(),'/content/best_unet_051722_v1.pth')"
      ]
    },
    {
      "cell_type": "markdown",
      "metadata": {
        "id": "DFJ95L9CZinB"
      },
      "source": [
        "# Test"
      ]
    },
    {
      "cell_type": "markdown",
      "metadata": {
        "id": "NmZvdLKaX-Rx"
      },
      "source": [
        "Once the training is completed, we just need to upload the model and run from here."
      ]
    },
    {
      "cell_type": "code",
      "execution_count": null,
      "metadata": {
        "id": "g0KI8dk22GfD"
      },
      "outputs": [],
      "source": [
        "# Load saved model\n",
        "model = Class()\n",
        "model.load_state_dict(torch.load('/content/best_unet_051722_v1.pth'))"
      ]
    },
    {
      "cell_type": "code",
      "execution_count": null,
      "metadata": {
        "id": "GDb9jdBrsxFo"
      },
      "outputs": [],
      "source": [
        "###Load DATA\n",
        "\n",
        "test_set_size = 0.5\n",
        "class dset(Dataset):\n",
        "    def __init__(self, root_dir, train=True,test=True,transformX = None, transformY = None):\n",
        "        self.pixel_file = pd.read_csv(os.path.join(root_dir, 'sample.csv'))\n",
        "        self.root_dir = root_dir\n",
        "        self.transformX = transformX\n",
        "        self.transformY = transformY\n",
        "        self.train = train\n",
        "        self.test = test\n",
        "        \n",
        "        # split the dataset to train and rest\n",
        "        # split the rest to validation and test\n",
        "        self.train_data, self.test_data = train_test_split(self.pixel_file, test_size = test_set_size, random_state = 5)\n",
        "        # self.validation_data, self.test_data = train_test_split(self.rest_data, test_size = test_set_size, random_state = 5)\n",
        "\n",
        "    def __len__(self):\n",
        "        if self.train:\n",
        "          length = len(self.train_data)\n",
        "        elif self.test:\n",
        "          length = len(self.test_data)\n",
        "        else:\n",
        "          length = len(self.validation_data)\n",
        "        return length\n",
        "    \n",
        "    def __getitem__(self, index):\n",
        "        if self.train:\n",
        "          imx_name = os.path.join(self.root_dir, 'original_img',self.train_data.iloc[index, 0])\n",
        "          imy_name = os.path.join(self.root_dir, 'original_img',self.train_data.iloc[index, 0].replace('.png','_m.png'))\n",
        "        elif self.test:\n",
        "          imx_name = os.path.join(self.root_dir, 'original_img',self.test_data.iloc[index, 0])\n",
        "          imy_name = os.path.join(self.root_dir, 'original_img',self.test_data.iloc[index, 0].replace('.png','_m.png'))\n",
        "        else:\n",
        "          imx_name = os.path.join(self.root_dir, 'original_img', self.validation_data.iloc[index, 0])\n",
        "          imy_name = os.path.join(self.root_dir, 'original_img',self.validation_data.iloc[index, 0].replace('.png','_m.png'))\n",
        "        \n",
        "        imx = Image.open(imx_name)\n",
        "        imy = Image.open(imy_name).convert('L')\n",
        "\n",
        "        if self.transformX:\n",
        "            imx = self.transformX(imx)\n",
        "            imy = self.transformY(imy)\n",
        "      \n",
        "        sample = {'image': imx, 'annotation': imy}\n",
        "        return sample"
      ]
    },
    {
      "cell_type": "code",
      "execution_count": null,
      "metadata": {
        "id": "WSk2x_xjtERZ"
      },
      "outputs": [],
      "source": [
        "tx_X = transforms.Compose([ transforms.Resize((512, 512)),\n",
        "                              transforms.ToTensor(),\n",
        "                           transforms.Normalize((0.5,), (0.5,))\n",
        "                              ])\n",
        "tx_Y = transforms.Compose([ transforms.Resize((512, 512)),\n",
        "                              transforms.ToTensor()\n",
        "                              ])\n",
        "train_data = dset('/content/data', train=True, test=False, transformX = tx_X, transformY = tx_Y)\n",
        "test_data = dset('/content/data', train=False, test=True,transformX = tx_X, transformY = tx_Y)\n",
        "\n",
        "train_loader = DataLoader(dataset=train_data, batch_size=2, shuffle=True, num_workers=2)\n",
        "test_loader = DataLoader(dataset=test_data, batch_size=2, shuffle=True, num_workers=1)"
      ]
    },
    {
      "cell_type": "code",
      "execution_count": null,
      "metadata": {
        "id": "Tn8qB812Zlt0"
      },
      "outputs": [],
      "source": [
        "#test\n",
        "def avg_dice_index(dataloader): \n",
        "    dice = 0.0\n",
        "    model.eval()\n",
        "    with torch.no_grad():\n",
        "        for ith_batch, sample_batched in enumerate(dataloader):\n",
        "  \n",
        "            X_train = sample_batched['image'].to('cuda')\n",
        "            y_train = sample_batched['annotation'].to('cuda')\n",
        "            \n",
        "            y_predict = (model(X_train) + 0.5).int().float()\n",
        "            \n",
        "            dice += dice_index(y_predict, y_train)\n",
        "            \n",
        "    print(len(dataloader))\n",
        "    avg_dice = dice / len(dataloader)\n",
        "    \n",
        "    return avg_dice.item()"
      ]
    },
    {
      "cell_type": "code",
      "execution_count": null,
      "metadata": {
        "colab": {
          "base_uri": "https://localhost:8080/"
        },
        "id": "33Dfz8ubgs87",
        "outputId": "0a48c6f3-6fe0-4641-db09-0df3bf82327b"
      },
      "outputs": [
        {
          "name": "stdout",
          "output_type": "stream",
          "text": [
            "29\n"
          ]
        }
      ],
      "source": [
        "test_score=avg_dice_index(test_loader)"
      ]
    },
    {
      "cell_type": "code",
      "execution_count": null,
      "metadata": {
        "colab": {
          "base_uri": "https://localhost:8080/"
        },
        "id": "1dsZGwOVg1rg",
        "outputId": "4ae79a55-3249-4543-ddd0-35bf702aea55"
      },
      "outputs": [
        {
          "name": "stdout",
          "output_type": "stream",
          "text": [
            "Avergae Dice Score is: 0.9117302298545837\n",
            "Avergae Dice Loss is: 0.08826977014541626\n"
          ]
        }
      ],
      "source": [
        "print('Avergae Dice Score is:',test_score)\n",
        "print('Avergae Dice Loss is:',1-test_score)"
      ]
    },
    {
      "cell_type": "markdown",
      "metadata": {
        "id": "tIlWkLx0ZpOB"
      },
      "source": [
        "#Post-Process"
      ]
    }
  ],
  "metadata": {
    "accelerator": "GPU",
    "colab": {
      "provenance": []
    },
    "gpuClass": "standard",
    "kernelspec": {
      "display_name": "Python 3.10.7 64-bit",
      "language": "python",
      "name": "python3"
    },
    "language_info": {
      "codemirror_mode": {
        "name": "ipython",
        "version": 3
      },
      "file_extension": ".py",
      "mimetype": "text/x-python",
      "name": "python",
      "nbconvert_exporter": "python",
      "pygments_lexer": "ipython3",
      "version": "3.10.7"
    },
    "vscode": {
      "interpreter": {
        "hash": "aee8b7b246df8f9039afb4144a1f6fd8d2ca17a180786b69acc140d282b71a49"
      }
    }
  },
  "nbformat": 4,
  "nbformat_minor": 0
}
