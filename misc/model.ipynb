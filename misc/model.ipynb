{
  "cells": [
    {
      "cell_type": "code",
      "execution_count": 5,
      "metadata": {
        "id": "YhOOumlAyBYG"
      },
      "outputs": [],
      "source": [
        "###Import Packages###\n",
        "import os\n",
        "import random\n",
        "import numpy as np\n",
        "import pandas as pd\n",
        "import matplotlib.pyplot as plt\n",
        "import cv2\n",
        "from PIL import Image\n",
        "\n",
        "from sklearn.model_selection import train_test_split\n",
        "from skimage import io, color\n",
        "\n",
        "import torch\n",
        "from torch.utils.data  import Dataset, DataLoader\n",
        "from torchvision import transforms\n",
        "import torchvision.transforms.functional as TF\n",
        "import torch.nn as nn\n",
        "import torch.nn.functional as F\n",
        "import torchvision"
      ]
    },
    {
      "cell_type": "markdown",
      "metadata": {
        "id": "gSqhEXA9qGC3"
      },
      "source": [
        "##Upload Data and unzip them"
      ]
    },
    {
      "cell_type": "code",
      "execution_count": null,
      "metadata": {
        "id": "z7U0xJbv8guL"
      },
      "outputs": [],
      "source": [
        "# Un-comment this section if need to remove any folder/directory\n",
        "# !rm -rf /content/data"
      ]
    },
    {
      "cell_type": "code",
      "execution_count": null,
      "metadata": {
        "colab": {
          "base_uri": "https://localhost:8080/"
        },
        "id": "FsuCUwNMD2xq",
        "outputId": "b6cbacc6-79d8-4af0-c513-a2d46487375d"
      },
      "outputs": [
        {
          "name": "stdout",
          "output_type": "stream",
          "text": [
            "Mounted at /content/drive\n"
          ]
        }
      ],
      "source": [
        "# Connect to Google Drive\n",
        "from google.colab import drive\n",
        "drive.mount('/content/drive')"
      ]
    },
    {
      "cell_type": "code",
      "execution_count": null,
      "metadata": {
        "id": "RgoobLYsCmra"
      },
      "outputs": [],
      "source": [
        "!mkdir data/"
      ]
    },
    {
      "cell_type": "code",
      "execution_count": null,
      "metadata": {
        "id": "7TZ9Lc_K1Pvd"
      },
      "outputs": [],
      "source": [
        "###Unzip DATA###\n",
        "\n",
        "#Before run the code section, manually upload data to the file space / work space\n",
        "# !unzip /content/original_img.zip -d /content/data/\n",
        "# !unzip /content/masked_img.zip -d /content/data/\n",
        "# os.rename('/content/data/Images','/content/data/original_img')\n",
        "\n",
        "# 7min16sec to unzip\n",
        "! unzip /content/drive/MyDrive/CSCI334301_ComputerVision/Project/Dataset/archive.zip -d /content/drive/MyDrive/CSCI334301_ComputerVision/Project/Dataset/"
      ]
    },
    {
      "cell_type": "code",
      "execution_count": null,
      "metadata": {
        "id": "yWRoCbD_2EPF"
      },
      "outputs": [],
      "source": [
        "###Functions for Pre-Process DATA###\n",
        "def convert_one_channel(img):\n",
        "    #some images have 3 channels , although they are grayscale image\n",
        "    if len(img.shape)>2:\n",
        "        img=img[:,:,0]\n",
        "        return img\n",
        "    else:\n",
        "        return img\n",
        "\n",
        "\n",
        "# ress1=Image.open('/content/data/original_img/1.png') #'/content/d/masked_img/1.png'\n",
        "# ress2=Image.open('/content/data/masked_img/1.png')\n",
        "# img1=ress1.resize((1540,640), Image.ANTIALIAS)\n",
        "# img2=ress2.resize((1540,640), Image.ANTIALIAS)\n",
        "\n",
        "# fig = plt.figure(figsize = (32,32))\n",
        "# ax = fig.add_subplot(2, 2, 1) \n",
        "# plt.imshow(img1)\n",
        "# ax = fig.add_subplot(2, 2, 2) \n",
        "# plt.imshow(img2)\n",
        "# plt.show()"
      ]
    },
    {
      "cell_type": "code",
      "execution_count": null,
      "metadata": {
        "colab": {
          "base_uri": "https://localhost:8080/",
          "height": 35
        },
        "id": "zkhh0YRU7iHD",
        "outputId": "dfb1147e-5caa-4ae0-d141-c0c6211c08af"
      },
      "outputs": [
        {
          "data": {
            "text/plain": [
              "<Figure size 2160x504 with 0 Axes>"
            ]
          },
          "metadata": {},
          "output_type": "display_data"
        }
      ],
      "source": [
        "###display some processed result to double check\n",
        "fig = plt.figure(figsize = (30,7))\n",
        "# for index in range(7):\n",
        "#   file_path1 = os.path.join('/content/data/original_img', str(index+1)+'.png')\n",
        "#   file_path2 = os.path.join('/content/data/masked_img', str(index+1)+'.png')\n",
        "#   # print(file_path2)\n",
        "#   ax = fig.add_subplot(2, 7, index+1) \n",
        "#   plt.imshow(pre_images((1540,640),file_path1))  #show result of converting every img to one color channel\n",
        "#   # plt.imshow(cv2.imread(file_path1))\n",
        "    \n",
        "#   ax = fig.add_subplot(2, 7, index+8)\n",
        "#   plt.imshow(resize((1540,640),file_path2))\n",
        "#   # plt.imshow(cv2.imread(file_path2))\n",
        "plt.show()\n",
        "#notice that some images has no teeth, this will make training harder"
      ]
    },
    {
      "cell_type": "markdown",
      "metadata": {
        "id": "iuSrfdLnq8_c"
      },
      "source": [
        "#Loader"
      ]
    },
    {
      "cell_type": "code",
      "execution_count": null,
      "metadata": {
        "id": "B4ZfZSGPnGij"
      },
      "outputs": [],
      "source": [
        "def pad_img(path):\n",
        "  # read image\n",
        "  img = Image.open(path)\n",
        "  img = np.array(img)\n",
        "  old_image_height, old_image_width, channels = img.shape\n",
        "\n",
        "  #rows_to_add = 16 - (old_image_width % 16)\n",
        "  #cols_to_add = 16 - (old_image_height % 16)\n",
        "\n",
        "  # create new image of desired size and color (blue) for padding\n",
        "  new_image_width = 1536\n",
        "  new_image_height = 1536\n",
        "  #new_image_width = old_image_width + rows_to_add\n",
        "  #new_image_height = old_image_height + cols_to_add\n",
        "\n",
        "  color = (0,0,0)\n",
        "  result = np.full((new_image_height,new_image_width, channels), color, dtype=np.uint8)\n",
        "\n",
        "  # compute center offset\n",
        "  #x_center = (new_image_width - old_image_width) // 2\n",
        "  #y_center = (new_image_height - old_image_height) // 2\n",
        "\n",
        "  # copy img image into center of result image\n",
        "  #result[y_center:y_center+old_image_height, x_center:x_center+old_image_width] = img\n",
        "\n",
        "  # copy img image into upper left corner of result image\n",
        "  result[0:old_image_height, 0:old_image_width] = img\n",
        "\n",
        "  return result"
      ]
    },
    {
      "cell_type": "code",
      "execution_count": null,
      "metadata": {
        "colab": {
          "base_uri": "https://localhost:8080/",
          "height": 34
        },
        "id": "LLVmJSaePJ0q",
        "outputId": "47863c93-2517-41bb-fba4-b830d4a08db6"
      },
      "outputs": [
        {
          "data": {
            "application/vnd.google.colaboratory.intrinsic+json": {
              "type": "string"
            },
            "text/plain": [
              "'\\nprint(img.shape)\\nimg_orig=cv2.imread(path)\\nplt.imshow(img)\\nplt.figure()\\nplt.imshow(img_orig)\\nplt.show()\\n'"
            ]
          },
          "execution_count": 60,
          "metadata": {},
          "output_type": "execute_result"
        }
      ],
      "source": [
        "# Text OCR Dataloader \n",
        "rest_set_size = 0.3\n",
        "test_set_size = 0.5\n",
        "class dset(Dataset):\n",
        "  def __init__(self, root_dir, train=True,test=True,transformX = None, transformY = None):\n",
        "        #self.pixel_file = pd.read_csv(os.path.join(root_dir, 'sample.csv'))\n",
        "        self.root_dir = root_dir\n",
        "        self.transformX = transformX\n",
        "        self.transformY = transformY\n",
        "        self.train = train\n",
        "        self.test = test\n",
        "\n",
        "        # Only useful columns are: id, width, height\n",
        "        self.images_df = pd.read_csv(f'{self.root_dir}img.csv')\n",
        "        # Only Useful colums are: id, image_id, bbox, utf8_string\n",
        "        annotations_df = pd.read_csv(f'{self.root_dir}annot.csv')\n",
        "\n",
        "        # process rows with puctuaitons in text\n",
        "        # TODO\n",
        "        \n",
        "        # if data in df have same image_id, group them together\n",
        "        annotations_df_grouped = annotations_df.groupby('image_id').agg(lambda x: list(x))\n",
        "        \n",
        "        # 70% tain, 15% valid, 15% test\n",
        "        self.train_data, self.rest_data = train_test_split(annotations_df_grouped, test_size = rest_set_size, random_state = 5)\n",
        "        self.validation_data, self.test_data = train_test_split(annotations_df_grouped, test_size = test_set_size, random_state = 5)\n",
        "\n",
        "    \n",
        "\n",
        "  # TODO: implement train, val, and test set length\n",
        "  def __len__(self):\n",
        "    if self.train:\n",
        "      length = len(self.train_data)\n",
        "    elif self.test:\n",
        "      length = len(self.test_data)\n",
        "    else:\n",
        "      length = len(self.validation_data)\n",
        "    return length\n",
        "  \n",
        "\n",
        "  # for now, this will return:\n",
        "  # X: the image (padded)\n",
        "  # Y: the list of bounding boxes\n",
        "  def __getitem__(self, index):\n",
        "    # here is how to retrieve row \"names\" : self.train_data.index.values[index]\n",
        "    filename = \"\"\n",
        "    if self.train:\n",
        "      filename = self.train_data.index.values[index]\n",
        "    elif self.test:\n",
        "      filename = self.test_data.index.values[index]\n",
        "    else:\n",
        "      filename = self.validation_data.index.values[index]\n",
        "    \n",
        "    #print(f'{self.root_dir}train_val_images/train_images/{filename}.jpg')\n",
        "    '''\n",
        "    imx = Image.open(f'{self.root_dir}train_val_images/train_images/{filename}.jpg')\n",
        "    imx = np.asarray(imx)\n",
        "    # padding\n",
        "    shape = imx.shape\n",
        "    rows = shape[0]\n",
        "    cols = shape[1]\n",
        "    rows_to_add = 16 - (rows % 16)\n",
        "    cols_to_add = 16 - (cols % 16)\n",
        "    imx = np.pad(imx, ((0, rows_to_add), (0, cols_to_add)), 'constant')\n",
        "    '''\n",
        "    imx = pad_img(f'{self.root_dir}train_val_images/train_images/{filename}.jpg')\n",
        "    #print(imx.shape)\n",
        "\n",
        "\n",
        "    if self.train:\n",
        "      annot = self.train_data.loc[filename, 'bbox']\n",
        "      text = self.train_data.loc[filename, 'utf8_string']\n",
        "    elif self.test:\n",
        "      annot = self.test_data.loc[filename, 'bbox']\n",
        "      text = self.test_data.loc[filename, 'utf8_string']\n",
        "    else:\n",
        "      annot = self.validation_data.loc[filename, 'bbox']\n",
        "      text = self.validation_data.loc[filename, 'utf8_string']\n",
        "      \n",
        "\n",
        "    sample = {'image': imx, 'annotation': annot, 'text': text}\n",
        "    return sample\n",
        "\n",
        "#path = '/content/drive/MyDrive/CSCI334301_ComputerVision/Project/Dataset/train_val_images/train_images/00c359f294f7dcd9.jpg'\n",
        "#img = pad_img(path)\n",
        "\n",
        "'''\n",
        "print(img.shape)\n",
        "img_orig=cv2.imread(path)\n",
        "plt.imshow(img)\n",
        "plt.figure()\n",
        "plt.imshow(img_orig)\n",
        "plt.show()\n",
        "'''\n"
      ]
    },
    {
      "cell_type": "code",
      "execution_count": null,
      "metadata": {
        "colab": {
          "base_uri": "https://localhost:8080/",
          "height": 34
        },
        "id": "ZtATe-RLq7O7",
        "outputId": "4f32a2c3-71f5-484a-ab2a-79dd7d0aeda4"
      },
      "outputs": [
        {
          "data": {
            "application/vnd.google.colaboratory.intrinsic+json": {
              "type": "string"
            },
            "text/plain": [
              "'2e3c03ba7450e47b'"
            ]
          },
          "execution_count": 44,
          "metadata": {},
          "output_type": "execute_result"
        }
      ],
      "source": [
        "#test\n",
        "OCRdata.train_data.index.values[0]\n",
        "\n"
      ]
    },
    {
      "cell_type": "code",
      "execution_count": null,
      "metadata": {
        "colab": {
          "base_uri": "https://localhost:8080/",
          "height": 321
        },
        "id": "OE6zWVI_m_Dt",
        "outputId": "8ccd0096-cec6-4c7b-95fa-f4972fc8fdc2"
      },
      "outputs": [
        {
          "name": "stdout",
          "output_type": "stream",
          "text": [
            "['[300.75, 28.83, 47.1, 23.79]', '[442.64, 76.87, 26.3, 14.8]', '[437.59, 145.79, 18.7, 14.9]', '[166.4, 242.95, 40.8, 14.2]', '[305.5, 238.95, 69.9, 17.3]', '[342.93, 182.07, 26.19, 26.88]', '[168.65, 278.57, 59.6, 22.3]', '[184.35, 292.87, 55.9, 18.0]', '[219.42, 447.0, 26.3, 28.6]', '[319.99, 485.85, 77.2, 23.5]', '[187.37, 502.3, 57.3, 21.9]', '[282.53, 615.98, 115.96, 39.17]', '[223.14, 667.11, 33.42, 29.87]', '[250.59, 452.32, 10.92, 10.49]']\n",
            "['at&t', '3:50', '→', 'AT&T', 'Messaging', ':-)', 'project', 'detroit', 'O', 'Marketplace', 'Outlook', 'SAMSUNG', '←', '.']\n"
          ]
        },
        {
          "data": {
            "image/png": "[encoded data removed]",
            "text/plain": [
              "<Figure size 432x288 with 1 Axes>"
            ]
          },
          "metadata": {
            "needs_background": "light"
          },
          "output_type": "display_data"
        }
      ],
      "source": [
        "OCRdata = dset('/content/drive/MyDrive/CSCI334301_ComputerVision/Project/Dataset/', train=True,test=False,)\n",
        "# data = OCRdata.__getitem__(0)\n",
        "# get data, if path does not exist, then pass\n",
        "\n",
        "plt.imshow(data['image'])\n",
        "print(data['annotation'])\n",
        "print(data['text'])"
      ]
    },
    {
      "cell_type": "code",
      "execution_count": null,
      "metadata": {
        "id": "uOYmToR42Qgh"
      },
      "outputs": [],
      "source": [
        "###Load DATA\n",
        "rest_set_size = 0.3\n",
        "test_set_size = 0.5\n",
        "class dset(Dataset):\n",
        "    def __init__(self, root_dir, train=True,test=True,transformX = None, transformY = None):\n",
        "        self.pixel_file = pd.read_csv(os.path.join(root_dir, 'sample.csv'))\n",
        "        self.root_dir = root_dir\n",
        "        self.transformX = transformX\n",
        "        self.transformY = transformY\n",
        "        self.train = train\n",
        "        self.test = test\n",
        "        \n",
        "        # split the dataset to train and rest\n",
        "        # split the rest to validation and test\n",
        "        self.train_data, self.rest_data = train_test_split(self.pixel_file, test_size = rest_set_size, random_state = 5)\n",
        "        self.validation_data, self.test_data = train_test_split(self.rest_data, test_size = test_set_size, random_state = 5)\n",
        "\n",
        "    def __len__(self):\n",
        "        if self.train:\n",
        "          length = len(self.train_data)\n",
        "        elif self.test:\n",
        "          length = len(self.test_data)\n",
        "        else:\n",
        "          length = len(self.validation_data)\n",
        "        return length\n",
        "    \n",
        "    def __getitem__(self, index):\n",
        "        if self.train:\n",
        "          imx_name = os.path.join(self.root_dir, 'original_img',self.train_data.iloc[index, 0])\n",
        "          imy_name = os.path.join(self.root_dir, 'original_img',self.train_data.iloc[index, 0].replace('.png','_m.png'))\n",
        "        elif self.test:\n",
        "          imx_name = os.path.join(self.root_dir, 'original_img',self.test_data.iloc[index, 0])\n",
        "          imy_name = os.path.join(self.root_dir, 'original_img',self.test_data.iloc[index, 0].replace('.png','_m.png'))\n",
        "        else:\n",
        "          imx_name = os.path.join(self.root_dir, 'original_img', self.validation_data.iloc[index, 0])\n",
        "          imy_name = os.path.join(self.root_dir, 'original_img',self.validation_data.iloc[index, 0].replace('.png','_m.png'))\n",
        "        \n",
        "        imx = Image.open(imx_name)\n",
        "        imy = Image.open(imy_name).convert('L')\n",
        "\n",
        "        ##data augmentation\n",
        "        if self.train:\n",
        "          #Random horizontal flipping\n",
        "          if random.random() > 0.5:\n",
        "              imx = TF.hflip(imx)\n",
        "              imy = TF.hflip(imy)\n",
        "\n",
        "          # #Random vertical flipping\n",
        "          # if random.random() > 0.5:\n",
        "          #     imx = TF.vflip(imx)\n",
        "          #     imy = TF.vflip(imy)\n",
        "\n",
        "          # #Random rotation\n",
        "          # if random.random() > 0.8:\n",
        "          #   angle = random.choice([-30, -90, -60, -45 -15, 0, 15, 30, 45, 60, 90])\n",
        "          #   imx = TF.rotate(imx, angle)\n",
        "          #   imy = TF.rotate(imy, angle)\n",
        "\n",
        "        if self.transformX:\n",
        "            imx = self.transformX(imx)\n",
        "            imy = self.transformY(imy)\n",
        "      \n",
        "        sample = {'image': imx, 'annotation': imy}\n",
        "        return sample"
      ]
    },
    {
      "cell_type": "code",
      "execution_count": null,
      "metadata": {
        "id": "gtBEZ2EU06re"
      },
      "outputs": [],
      "source": [
        "###initialize data_loaders\n",
        "tx_X = transforms.Compose([transforms.ToTensor(),\n",
        "              transforms.Normalize((0.5,), (0.5,))])\n",
        "tx_Y = transforms.Compose([transforms.ToTensor()\n",
        "                        ])\n",
        "\n",
        "train_data = dset('/content/drive/MyDrive/CSCI334301_ComputerVision/Project/Dataset/', train=True, test=False, transformX = tx_X, transformY = tx_Y)\n",
        "validation_data = dset('/content/drive/MyDrive/CSCI334301_ComputerVision/Project/Dataset/', train=False,test=False,transformX = tx_X, transformY = tx_Y)\n",
        "test_data = dset('/content/drive/MyDrive/CSCI334301_ComputerVision/Project/Dataset/', train=False, test=True,transformX = tx_X, transformY = tx_Y)\n",
        "\n",
        "\n",
        "\n",
        "train_loader = DataLoader(dataset=train_data, batch_size=2, shuffle=True, num_workers=2)\n",
        "validation_loader = DataLoader(dataset=validation_data, batch_size=2, shuffle=True, num_workers=1)\n",
        "test_loader = DataLoader(dataset=test_data, batch_size=2, shuffle=True, num_workers=1)"
      ]
    },
    {
      "cell_type": "code",
      "execution_count": null,
      "metadata": {
        "id": "S7BU6qkq-8HF"
      },
      "outputs": [],
      "source": [
        "epoches=100\n",
        "for i in range(epoches):\n",
        "  for j, item in enumerate(train_loader):\n",
        "  "
      ]
    },
    {
      "cell_type": "code",
      "execution_count": null,
      "metadata": {
        "colab": {
          "base_uri": "https://localhost:8080/"
        },
        "id": "5kF9qQZ5Gv6k",
        "outputId": "2889f7c0-0560-4a29-9040-1feb24198d05"
      },
      "outputs": [
        {
          "name": "stdout",
          "output_type": "stream",
          "text": [
            "length\n",
            "7622\n",
            "5445\n",
            "5445\n"
          ]
        }
      ],
      "source": [
        "print('length')\n",
        "print(len(train_loader))\n",
        "print(len(validation_loader))\n",
        "print(len(test_loader))"
      ]
    },
    {
      "cell_type": "markdown",
      "metadata": {
        "id": "JHSIaPuZrnLz"
      },
      "source": [
        "#Model"
      ]
    },
    {
      "cell_type": "code",
      "execution_count": null,
      "metadata": {
        "id": "jliGHlIQrxMm"
      },
      "outputs": [],
      "source": [
        "import torch.nn as nn\n",
        "\n",
        "\n",
        "class BidirectionalLSTM(nn.Module):\n",
        "\n",
        "    def __init__(self, nIn, nHidden, nOut):\n",
        "        super(BidirectionalLSTM, self).__init__()\n",
        "\n",
        "        self.rnn = nn.LSTM(nIn, nHidden, bidirectional=True)\n",
        "        self.embedding = nn.Linear(nHidden * 2, nOut)\n",
        "\n",
        "    def forward(self, input):\n",
        "        recurrent, _ = self.rnn(input)\n",
        "        T, b, h = recurrent.size()\n",
        "        t_rec = recurrent.view(T * b, h)\n",
        "\n",
        "        output = self.embedding(t_rec)  # [T * b, nOut]\n",
        "        output = output.view(T, b, -1)\n",
        "\n",
        "        return output\n",
        "\n",
        "\n",
        "class CRNN(nn.Module):\n",
        "\n",
        "    def __init__(self, imgH, nc, nclass, nh, n_rnn=2, leakyRelu=False):\n",
        "        super(CRNN, self).__init__()\n",
        "        assert imgH % 16 == 0, 'imgH has to be a multiple of 16'\n",
        "\n",
        "        ks = [3, 3, 3, 3, 3, 3, 2]\n",
        "        ps = [1, 1, 1, 1, 1, 1, 0]\n",
        "        ss = [1, 1, 1, 1, 1, 1, 1]\n",
        "        nm = [64, 128, 256, 256, 512, 512, 512]\n",
        "\n",
        "        cnn = nn.Sequential()\n",
        "\n",
        "        def convRelu(i, batchNormalization=False):\n",
        "            nIn = nc if i == 0 else nm[i - 1]\n",
        "            nOut = nm[i]\n",
        "            cnn.add_module('conv{0}'.format(i),\n",
        "                           nn.Conv2d(nIn, nOut, ks[i], ss[i], ps[i]))\n",
        "            if batchNormalization:\n",
        "                cnn.add_module('batchnorm{0}'.format(i), nn.BatchNorm2d(nOut))\n",
        "            if leakyRelu:\n",
        "                cnn.add_module('relu{0}'.format(i),\n",
        "                               nn.LeakyReLU(0.2, inplace=True))\n",
        "            else:\n",
        "                cnn.add_module('relu{0}'.format(i), nn.ReLU(True))\n",
        "\n",
        "        convRelu(0)\n",
        "        cnn.add_module('pooling{0}'.format(0), nn.MaxPool2d(2, 2))  # 64x16x64\n",
        "        convRelu(1)\n",
        "        cnn.add_module('pooling{0}'.format(1), nn.MaxPool2d(2, 2))  # 128x8x32\n",
        "        convRelu(2, True)\n",
        "        convRelu(3)\n",
        "        cnn.add_module('pooling{0}'.format(2),\n",
        "                       nn.MaxPool2d((2, 2), (2, 1), (0, 1)))  # 256x4x16\n",
        "        convRelu(4, True)\n",
        "        convRelu(5)\n",
        "        cnn.add_module('pooling{0}'.format(3),\n",
        "                       nn.MaxPool2d((2, 2), (2, 1), (0, 1)))  # 512x2x16\n",
        "        convRelu(6, True)  # 512x1x16\n",
        "\n",
        "        self.cnn = cnn\n",
        "        self.rnn = nn.Sequential(\n",
        "            BidirectionalLSTM(512, nh, nh),\n",
        "            BidirectionalLSTM(nh, nh, nclass))\n",
        "\n",
        "    def forward(self, input):\n",
        "        # conv features\n",
        "        conv = self.cnn(input)\n",
        "        b, c, h, w = conv.size()\n",
        "        assert h == 1, \"the height of conv must be 1\"\n",
        "        conv = conv.squeeze(2)\n",
        "        conv = conv.permute(2, 0, 1)  # [w, b, c]\n",
        "\n",
        "        # rnn features\n",
        "        output = self.rnn(conv)\n",
        "\n",
        "        return output"
      ]
    },
    {
      "cell_type": "code",
      "execution_count": null,
      "metadata": {
        "id": "LL4p022nthP1"
      },
      "outputs": [],
      "source": [
        "model = CRNN(1152, 3, 37, 256)\n",
        "if torch.cuda.is_available():\n",
        "    model = model.to('cuda')"
      ]
    },
    {
      "cell_type": "code",
      "execution_count": null,
      "metadata": {
        "colab": {
          "base_uri": "https://localhost:8080/"
        },
        "id": "Plt2mNuZwwNU",
        "outputId": "c8fa3dc4-2bab-407d-ccdf-d219d53e0e44"
      },
      "outputs": [
        {
          "data": {
            "text/plain": [
              "<bound method Module.modules of CRNN(\n",
              "  (cnn): Sequential(\n",
              "    (conv0): Conv2d(3, 64, kernel_size=(3, 3), stride=(1, 1), padding=(1, 1))\n",
              "    (relu0): ReLU(inplace=True)\n",
              "    (pooling0): MaxPool2d(kernel_size=2, stride=2, padding=0, dilation=1, ceil_mode=False)\n",
              "    (conv1): Conv2d(64, 128, kernel_size=(3, 3), stride=(1, 1), padding=(1, 1))\n",
              "    (relu1): ReLU(inplace=True)\n",
              "    (pooling1): MaxPool2d(kernel_size=2, stride=2, padding=0, dilation=1, ceil_mode=False)\n",
              "    (conv2): Conv2d(128, 256, kernel_size=(3, 3), stride=(1, 1), padding=(1, 1))\n",
              "    (batchnorm2): BatchNorm2d(256, eps=1e-05, momentum=0.1, affine=True, track_running_stats=True)\n",
              "    (relu2): ReLU(inplace=True)\n",
              "    (conv3): Conv2d(256, 256, kernel_size=(3, 3), stride=(1, 1), padding=(1, 1))\n",
              "    (relu3): ReLU(inplace=True)\n",
              "    (pooling2): MaxPool2d(kernel_size=(2, 2), stride=(2, 1), padding=(0, 1), dilation=1, ceil_mode=False)\n",
              "    (conv4): Conv2d(256, 512, kernel_size=(3, 3), stride=(1, 1), padding=(1, 1))\n",
              "    (batchnorm4): BatchNorm2d(512, eps=1e-05, momentum=0.1, affine=True, track_running_stats=True)\n",
              "    (relu4): ReLU(inplace=True)\n",
              "    (conv5): Conv2d(512, 512, kernel_size=(3, 3), stride=(1, 1), padding=(1, 1))\n",
              "    (relu5): ReLU(inplace=True)\n",
              "    (pooling3): MaxPool2d(kernel_size=(2, 2), stride=(2, 1), padding=(0, 1), dilation=1, ceil_mode=False)\n",
              "    (conv6): Conv2d(512, 512, kernel_size=(2, 2), stride=(1, 1))\n",
              "    (batchnorm6): BatchNorm2d(512, eps=1e-05, momentum=0.1, affine=True, track_running_stats=True)\n",
              "    (relu6): ReLU(inplace=True)\n",
              "  )\n",
              "  (rnn): Sequential(\n",
              "    (0): BidirectionalLSTM(\n",
              "      (rnn): LSTM(512, 256, bidirectional=True)\n",
              "      (embedding): Linear(in_features=512, out_features=256, bias=True)\n",
              "    )\n",
              "    (1): BidirectionalLSTM(\n",
              "      (rnn): LSTM(256, 256, bidirectional=True)\n",
              "      (embedding): Linear(in_features=512, out_features=37, bias=True)\n",
              "    )\n",
              "  )\n",
              ")>"
            ]
          },
          "execution_count": 67,
          "metadata": {},
          "output_type": "execute_result"
        }
      ],
      "source": [
        "model.modules"
      ]
    },
    {
      "cell_type": "markdown",
      "metadata": {
        "id": "pwEXeZYCtX-Q"
      },
      "source": [
        "#Loss and Optimizer"
      ]
    },
    {
      "cell_type": "code",
      "execution_count": null,
      "metadata": {
        "id": "tREq1zNKtcuB"
      },
      "outputs": [],
      "source": [
        "# Using Adam as our optimizer \n",
        "optimizer = torch.optim.Adam(model.parameters(), lr = 0.0001) # weight_decay="
      ]
    },
    {
      "cell_type": "code",
      "execution_count": null,
      "metadata": {
        "id": "h55vgYgjuOp_"
      },
      "outputs": [],
      "source": [
        "# Using Loss()\n",
        "criterion = nn.CTCLoss()"
      ]
    },
    {
      "cell_type": "markdown",
      "metadata": {
        "id": "ndGy12O0wkA2"
      },
      "source": [
        "#Train and Validation (TO DO)"
      ]
    },
    {
      "cell_type": "code",
      "execution_count": null,
      "metadata": {},
      "outputs": [],
      "source": [
        "# training the model\n",
        "# https://github.com/meijieru/crnn.pytorch/blob/master/train.py\n",
        "def train(model, train_loader, validation_loader, optimizer, criterion, epochs):\n",
        "    for epoch in range(epochs):\n",
        "        model.train()\n",
        "        train_loss = 0\n",
        "        for i, item, in enumerate(train_loader):\n",
        "            if torch.cuda.is_available():\n",
        "                item['image'] = item['image'].to('cuda')\n",
        "                item['text'] = item['text'].to('cuda')\n",
        "            # convert text to int, image to float tensor\n",
        "            item['image'] = item['image'].type(torch.FloatTensor)\n",
        "            item['text'] = item['text'].type(torch.LongTensor)\n",
        "            \n",
        "            # forward pass\n",
        "            output = model(item['image'])\n",
        "            output = output.permute(1, 0, 2)\n",
        "            output = output.log_softmax(2)\n",
        "            output = output.permute(1, 0, 2)\n",
        "            # calculate loss\n",
        "            loss = criterion(output, item['text'], torch.IntTensor([output.size(0)] * item['image'].size(0)), torch.IntTensor([item['text'].size(0)] * item['image'].size(0)))\n",
        "            # backward pass\n",
        "            optimizer.zero_grad()\n",
        "            loss.backward()\n",
        "            optimizer.step()\n",
        "            train_loss += loss.item()\n",
        "            if i % 100 == 0:\n",
        "                print('Epoch: {}, Batch: {}, Loss: {}'.format(epoch, i, loss.item()))\n",
        "        print('Epoch: {}, Train Loss: {}'.format(epoch, train_loss / len(train_loader)))\n",
        "\n",
        "model = train(model, train_loader, validation_loader, optimizer, criterion, 10)"
      ]
    },
    {
      "cell_type": "code",
      "execution_count": null,
      "metadata": {},
      "outputs": [],
      "source": [
        "# validation\n",
        "def validation(model, validation_loader, criterion):\n",
        "    model.eval()\n",
        "    validation_loss = 0\n",
        "    for i, item, in enumerate(validation_loader):\n",
        "        if torch.cuda.is_available():\n",
        "            item['image'] = item['image'].to('cuda')\n",
        "            item['text'] = item['text'].to('cuda')\n",
        "        # convert text to int, image to float tensor\n",
        "        item['image'] = item['image'].type(torch.FloatTensor)\n",
        "        item['text'] = item['text'].type(torch.LongTensor)\n",
        "        # forward pass\n",
        "        output = model(item['image'])\n",
        "        output = output.permute(1, 0, 2)\n",
        "        output = output.log_softmax(2)\n",
        "        output = output.permute(1, 0, 2)\n",
        "        # calculate loss\n",
        "        loss = criterion(output, item['text'], torch.IntTensor([output.size(0)] * item['image'].size(0)), torch.IntTensor([item['text'].size(0)] * item['image'].size(0)))\n",
        "        validation_loss += loss.item()\n",
        "    print('Validation Loss: {}'.format(validation_loss / len(validation_loader)))"
      ]
    },
    {
      "cell_type": "code",
      "execution_count": null,
      "metadata": {},
      "outputs": [],
      "source": [
        "# testing\n",
        "def test(model, test_loader):\n",
        "    model.eval()\n",
        "    for i, item, in enumerate(test_loader):\n",
        "        if torch.cuda.is_available():\n",
        "            item['image'] = item['image'].to('cuda')\n",
        "            item['text'] = item['text'].to('cuda')\n",
        "        # convert text to int, image to float tensor\n",
        "        item['image'] = item['image'].type(torch.FloatTensor)\n",
        "        item['text'] = item['text'].type(torch.LongTensor)\n",
        "        # forward pass\n",
        "        output = model(item['image'])\n",
        "        output = output.permute(1, 0, 2)\n",
        "        output = output.log_softmax(2)\n",
        "        output = output.permute(1, 0, 2)\n",
        "        # calculate loss\n",
        "        loss = criterion(output, item['text'], torch.IntTensor([output.size(0)] * item['image'].size(0)), torch.IntTensor([item['text'].size(0)] * item['image'].size(0)))\n",
        "        print('Test Loss: {}'.format(loss.item()))"
      ]
    },
    {
      "cell_type": "code",
      "execution_count": null,
      "metadata": {
        "id": "N6wYBwalu6gy"
      },
      "outputs": [],
      "source": [
        "# Old\n",
        "from tqdm.notebook import tqdm\n",
        "def train(model, criterion, epochs = 5, verbose=False):\n",
        "  if not train_hist:\n",
        "    train_hist = []\n",
        "  if not val_hist:\n",
        "    val_hist = []\n",
        "    \n",
        "  torch.cuda.empty_cache()\n",
        "    \n",
        "  tqdm.write(\"====== Training Started ======\")\n",
        "  epochs_completed = 0\n",
        "  for e in tqdm(range(epochs), position=0, desc=\"Epochs\", leave=False, colour='green'):\n",
        "    train_running_loss = 0.0\n",
        "    validation_running_loss = 0.0\n",
        "    ct = 0.0\n",
        "    \n",
        "    model.train()\n",
        "    \n",
        "    # print(\"Losses are reset to:\", train_running_loss, validation_running_loss, ct)\n",
        "    for ith_batch, sample in tqdm(enumerate(train_loader), position=1, desc=\"Batches\", leave=False, total=len(train_loader), colour='blue'):\n",
        "      X, Y = sample['image'], sample['annotation']\n",
        "\n",
        "      if torch.cuda.is_available():\n",
        "        X = X.to('cuda')\n",
        "        Y = Y.to('cuda')\n",
        "\n",
        "      y_pred = model(X)\n",
        "    # out = (y_pred + 0.5).int().float()\n",
        "      \n",
        "      # loss = criterion(y_pred, Y) #* 0.70 + 0.30 * dice_loss(y_pred, y_train)\n",
        "      loss=0.3*dice_loss(y_pred, Y)+0.7*criterion(y_pred, Y)\n",
        "      optimizer.zero_grad()\n",
        "      loss.backward()\n",
        "      optimizer.step()\n",
        "      if verbose and ith_batch % 10 == 0 and ith_batch != 0:\n",
        "        # print(\"This item's loss:\", f'{loss.item()}')\n",
        "        # print(\"This pred started with\", y_pred[0][0][0][0:10])\n",
        "        tqdm.write('Epoch: ', e + 1, 'Batch: ', ith_batch, 'Curr Epoch Loss: ', f'{train_running_loss / ct:0.3f}')\n",
        "        \n",
        "      train_running_loss += loss.item()\n",
        "      train_hist.append(loss.item())\n",
        "      ct += 1.0"
      ]
    },
    {
      "cell_type": "code",
      "execution_count": null,
      "metadata": {
        "id": "XEXjVn8bv8Gt"
      },
      "outputs": [],
      "source": [
        "total_epochs=0"
      ]
    },
    {
      "cell_type": "code",
      "execution_count": null,
      "metadata": {
        "id": "fkDimd6AwAEk"
      },
      "outputs": [],
      "source": [
        "num_epochs = 100\n",
        "# and visualize the full training graph\n",
        "completed_epochs = train(model, criterion, epochs=num_epochs, verbose=False)\n",
        "total_epochs+=completed_epochs"
      ]
    },
    {
      "cell_type": "code",
      "execution_count": null,
      "metadata": {
        "id": "1UngM-hKjVKG"
      },
      "outputs": [],
      "source": [
        "torch.save(model.state_dict(),'/content/best_unet_051722_v1.pth')"
      ]
    },
    {
      "cell_type": "markdown",
      "metadata": {
        "id": "DFJ95L9CZinB"
      },
      "source": [
        "# Test"
      ]
    },
    {
      "cell_type": "markdown",
      "metadata": {
        "id": "NmZvdLKaX-Rx"
      },
      "source": [
        "Once the training is completed, we just need to upload the model and run from here."
      ]
    },
    {
      "cell_type": "code",
      "execution_count": null,
      "metadata": {
        "id": "g0KI8dk22GfD"
      },
      "outputs": [],
      "source": [
        "# Load saved model\n",
        "model = Class()\n",
        "model.load_state_dict(torch.load('/content/best_unet_051722_v1.pth'))"
      ]
    },
    {
      "cell_type": "code",
      "execution_count": null,
      "metadata": {
        "id": "GDb9jdBrsxFo"
      },
      "outputs": [],
      "source": [
        "###Load DATA\n",
        "\n",
        "test_set_size = 0.5\n",
        "class dset(Dataset):\n",
        "    def __init__(self, root_dir, train=True,test=True,transformX = None, transformY = None):\n",
        "        self.pixel_file = pd.read_csv(os.path.join(root_dir, 'sample.csv'))\n",
        "        self.root_dir = root_dir\n",
        "        self.transformX = transformX\n",
        "        self.transformY = transformY\n",
        "        self.train = train\n",
        "        self.test = test\n",
        "        \n",
        "        # split the dataset to train and rest\n",
        "        # split the rest to validation and test\n",
        "        self.train_data, self.test_data = train_test_split(self.pixel_file, test_size = test_set_size, random_state = 5)\n",
        "        # self.validation_data, self.test_data = train_test_split(self.rest_data, test_size = test_set_size, random_state = 5)\n",
        "\n",
        "    def __len__(self):\n",
        "        if self.train:\n",
        "          length = len(self.train_data)\n",
        "        elif self.test:\n",
        "          length = len(self.test_data)\n",
        "        else:\n",
        "          length = len(self.validation_data)\n",
        "        return length\n",
        "    \n",
        "    def __getitem__(self, index):\n",
        "        if self.train:\n",
        "          imx_name = os.path.join(self.root_dir, 'original_img',self.train_data.iloc[index, 0])\n",
        "          imy_name = os.path.join(self.root_dir, 'original_img',self.train_data.iloc[index, 0].replace('.png','_m.png'))\n",
        "        elif self.test:\n",
        "          imx_name = os.path.join(self.root_dir, 'original_img',self.test_data.iloc[index, 0])\n",
        "          imy_name = os.path.join(self.root_dir, 'original_img',self.test_data.iloc[index, 0].replace('.png','_m.png'))\n",
        "        else:\n",
        "          imx_name = os.path.join(self.root_dir, 'original_img', self.validation_data.iloc[index, 0])\n",
        "          imy_name = os.path.join(self.root_dir, 'original_img',self.validation_data.iloc[index, 0].replace('.png','_m.png'))\n",
        "        \n",
        "        imx = Image.open(imx_name)\n",
        "        imy = Image.open(imy_name).convert('L')\n",
        "\n",
        "        if self.transformX:\n",
        "            imx = self.transformX(imx)\n",
        "            imy = self.transformY(imy)\n",
        "      \n",
        "        sample = {'image': imx, 'annotation': imy}\n",
        "        return sample"
      ]
    },
    {
      "cell_type": "code",
      "execution_count": null,
      "metadata": {
        "id": "WSk2x_xjtERZ"
      },
      "outputs": [],
      "source": [
        "tx_X = transforms.Compose([ transforms.Resize((512, 512)),\n",
        "                              transforms.ToTensor(),\n",
        "                           transforms.Normalize((0.5,), (0.5,))\n",
        "                              ])\n",
        "tx_Y = transforms.Compose([ transforms.Resize((512, 512)),\n",
        "                              transforms.ToTensor()\n",
        "                              ])\n",
        "train_data = dset('/content/data', train=True, test=False, transformX = tx_X, transformY = tx_Y)\n",
        "test_data = dset('/content/data', train=False, test=True,transformX = tx_X, transformY = tx_Y)\n",
        "\n",
        "train_loader = DataLoader(dataset=train_data, batch_size=2, shuffle=True, num_workers=2)\n",
        "test_loader = DataLoader(dataset=test_data, batch_size=2, shuffle=True, num_workers=1)"
      ]
    },
    {
      "cell_type": "code",
      "execution_count": null,
      "metadata": {
        "id": "Tn8qB812Zlt0"
      },
      "outputs": [],
      "source": [
        "#test\n",
        "def avg_dice_index(dataloader): \n",
        "    dice = 0.0\n",
        "    model.eval()\n",
        "    with torch.no_grad():\n",
        "        for ith_batch, sample_batched in enumerate(dataloader):\n",
        "  \n",
        "            X_train = sample_batched['image'].to('cuda')\n",
        "            y_train = sample_batched['annotation'].to('cuda')\n",
        "            \n",
        "            y_predict = (model(X_train) + 0.5).int().float()\n",
        "            \n",
        "            dice += dice_index(y_predict, y_train)\n",
        "            \n",
        "    print(len(dataloader))\n",
        "    avg_dice = dice / len(dataloader)\n",
        "    \n",
        "    return avg_dice.item()"
      ]
    },
    {
      "cell_type": "code",
      "execution_count": null,
      "metadata": {
        "colab": {
          "base_uri": "https://localhost:8080/"
        },
        "id": "33Dfz8ubgs87",
        "outputId": "0a48c6f3-6fe0-4641-db09-0df3bf82327b"
      },
      "outputs": [
        {
          "name": "stdout",
          "output_type": "stream",
          "text": [
            "29\n"
          ]
        }
      ],
      "source": [
        "test_score=avg_dice_index(test_loader)"
      ]
    },
    {
      "cell_type": "code",
      "execution_count": null,
      "metadata": {
        "colab": {
          "base_uri": "https://localhost:8080/"
        },
        "id": "1dsZGwOVg1rg",
        "outputId": "4ae79a55-3249-4543-ddd0-35bf702aea55"
      },
      "outputs": [
        {
          "name": "stdout",
          "output_type": "stream",
          "text": [
            "Avergae Dice Score is: 0.9117302298545837\n",
            "Avergae Dice Loss is: 0.08826977014541626\n"
          ]
        }
      ],
      "source": [
        "print('Avergae Dice Score is:',test_score)\n",
        "print('Avergae Dice Loss is:',1-test_score)"
      ]
    },
    {
      "cell_type": "markdown",
      "metadata": {
        "id": "tIlWkLx0ZpOB"
      },
      "source": [
        "#Post-Process"
      ]
    }
  ],
  "metadata": {
    "accelerator": "GPU",
    "colab": {
      "provenance": []
    },
    "gpuClass": "standard",
    "kernelspec": {
      "display_name": "Python 3.10.7 64-bit",
      "language": "python",
      "name": "python3"
    },
    "language_info": {
      "codemirror_mode": {
        "name": "ipython",
        "version": 3
      },
      "file_extension": ".py",
      "mimetype": "text/x-python",
      "name": "python",
      "nbconvert_exporter": "python",
      "pygments_lexer": "ipython3",
      "version": "3.10.7"
    },
    "vscode": {
      "interpreter": {
        "hash": "aee8b7b246df8f9039afb4144a1f6fd8d2ca17a180786b69acc140d282b71a49"
      }
    }
  },
  "nbformat": 4,
  "nbformat_minor": 0
}
