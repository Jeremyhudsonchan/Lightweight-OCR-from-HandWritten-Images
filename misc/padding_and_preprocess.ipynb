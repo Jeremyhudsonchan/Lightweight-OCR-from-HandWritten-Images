{
 "cells": [
  {
   "cell_type": "code",
   "execution_count": 1,
   "metadata": {},
   "outputs": [],
   "source": [
    "import pandas as pd\n",
    "import numpy as np"
   ]
  },
  {
   "cell_type": "code",
   "execution_count": null,
   "metadata": {},
   "outputs": [],
   "source": [
    "annot_df = pd.read_csv('data.csv')"
   ]
  },
  {
   "cell_type": "code",
   "execution_count": null,
   "metadata": {},
   "outputs": [],
   "source": [
    "# for utf8_string column in annot_df, if row has punctuation, delete it using re\n",
    "df['utf8_string'] = df['utf8_string'].str.replace('[^\\w\\s]','')"
   ]
  },
  {
   "cell_type": "code",
   "execution_count": null,
   "metadata": {},
   "outputs": [],
   "source": [
    "# if utf8_string is an empty string, get id of that row from id column\n",
    "del_ids = df[df['utf8_string'] == ''].id.tolist()\n",
    "# del rows with ids in del_ids\n",
    "df = df[~df.id.isin(del_ids)]"
   ]
  },
  {
   "cell_type": "code",
   "execution_count": null,
   "metadata": {},
   "outputs": [],
   "source": [
    "# check if image_id column in df is equal to id column in new_df\n",
    "annot_image_id = df.image_id.tolist()\n",
    "img_df_image_id = new_df.id.tolist()\n",
    "print(annot_image_id == new_df_image_id)"
   ]
  },
  {
   "cell_type": "code",
   "execution_count": null,
   "metadata": {},
   "outputs": [],
   "source": [
    "# get list of annot_df['image_id'] and new_df['id']\n",
    "diff = [i for i in img_df_image_id if i not in annot_image_id]"
   ]
  },
  {
   "cell_type": "code",
   "execution_count": null,
   "metadata": {},
   "outputs": [],
   "source": [
    "# delete all ids in diff from new_df\n",
    "new_df = new_df[~new_df.id.isin(diff)]"
   ]
  },
  {
   "cell_type": "code",
   "execution_count": null,
   "metadata": {},
   "outputs": [],
   "source": [
    "# padding\n",
    "for img in train_data:\n",
    "    # get shape of image\n",
    "    shape = img.shape\n",
    "    # get number of rows and columns\n",
    "    rows = shape[0]\n",
    "    cols = shape[1]\n",
    "    # get number of rows and columns to add\n",
    "    rows_to_add = 16 - (rows % 16)\n",
    "    cols_to_add = 16 - (cols % 16)\n",
    "    # add rows and columns\n",
    "    img = np.pad(img, ((0, rows_to_add), (0, cols_to_add)), 'constant')\n",
    "    # print(img.shape)"
   ]
  },
  {
   "cell_type": "code",
   "execution_count": null,
   "metadata": {},
   "outputs": [],
   "source": [
    "# convert df to csv\n",
    "df.to_csv('data.csv', index=False)\n"
   ]
  },
  {
   "cell_type": "code",
   "execution_count": null,
   "metadata": {},
   "outputs": [],
   "source": [
    "def __getitem__(self, index):\n",
    "    # Index for filename is in column 1\n",
    "    filename = self.images_df.iloc[index, 1]\n",
    "    #print(f'{self.root_dir}train_val_images/train_images/{filename}.jpg')\n",
    "    imx = Image.open(f'{self.root_dir}train_val_images/train_images/{filename}.jpg')\n",
    "\n",
    "    annot = self.annotations_df_grouped.loc[filename, 'bbox']\n",
    "    # padding\n",
    "    shape = imx.shape\n",
    "    rows = shape[0]\n",
    "    cols = shape[1]\n",
    "    rows_to_add = 16 - (rows % 16)\n",
    "    cols_to_add = 16 - (cols % 16)\n",
    "    imx = np.pad(imx, ((0, rows_to_add), (0, cols_to_add)), 'constant')\n",
    "    #print(imx.shape)\n",
    "    sample = {'image': imx, 'annotation': annot}\n",
    "    return sample"
   ]
  }
 ],
 "metadata": {
  "kernelspec": {
   "display_name": "Python 3.10.7 64-bit",
   "language": "python",
   "name": "python3"
  },
  "language_info": {
   "codemirror_mode": {
    "name": "ipython",
    "version": 3
   },
   "file_extension": ".py",
   "mimetype": "text/x-python",
   "name": "python",
   "nbconvert_exporter": "python",
   "pygments_lexer": "ipython3",
   "version": "3.10.7"
  },
  "orig_nbformat": 4,
  "vscode": {
   "interpreter": {
    "hash": "aee8b7b246df8f9039afb4144a1f6fd8d2ca17a180786b69acc140d282b71a49"
   }
  }
 },
 "nbformat": 4,
 "nbformat_minor": 2
}
