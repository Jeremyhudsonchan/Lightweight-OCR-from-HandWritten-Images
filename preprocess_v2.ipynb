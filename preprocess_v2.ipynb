{
  "cells": [
    {
      "cell_type": "code",
      "execution_count": 1,
      "metadata": {
        "id": "wNSnTmYJlViR"
      },
      "outputs": [],
      "source": [
        "###Import Packages###\n",
        "import os\n",
        "import random\n",
        "import numpy as np\n",
        "import pandas as pd\n",
        "import matplotlib.pyplot as plt\n",
        "import cv2\n",
        "from PIL import Image\n",
        "\n",
        "from sklearn.model_selection import train_test_split\n",
        "from skimage import io, color\n",
        "\n",
        "import torch\n",
        "from torch.utils.data  import Dataset, DataLoader\n",
        "from torchvision import transforms\n",
        "import torchvision.transforms.functional as TF\n",
        "import torch.nn as nn\n",
        "import torch.nn.functional as F\n",
        "import torchvision\n",
        "from gensim.models import Word2Vec\n",
        "import string\n",
        "\n",
        "import re\n"
      ]
    },
    {
      "cell_type": "code",
      "execution_count": 2,
      "metadata": {
        "colab": {
          "base_uri": "https://localhost:8080/"
        },
        "id": "I9Zm_oC8lZbA",
        "outputId": "4424a56a-96ac-4ad0-a5e1-fad88414a4a6"
      },
      "outputs": [
        {
          "name": "stdout",
          "output_type": "stream",
          "text": [
            "Mounted at /content/drive\n"
          ]
        }
      ],
      "source": [
        "# Connect to Google Drive\n",
        "from google.colab import drive\n",
        "drive.mount('/content/drive')"
      ]
    },
    {
      "cell_type": "code",
      "execution_count": 3,
      "metadata": {
        "colab": {
          "base_uri": "https://localhost:8080/"
        },
        "id": "bcPuxa8ilcoO",
        "outputId": "d377005a-2f1b-4f55-c9b0-2c9af89e8d92"
      },
      "outputs": [
        {
          "name": "stdout",
          "output_type": "stream",
          "text": [
            "       Unnamed: 0                   id          image_id  \\\n",
            "80004       80004   0ebbecdc46b78d42_9  0ebbecdc46b78d42   \n",
            "80005       80005  0ebbecdc46b78d42_10  0ebbecdc46b78d42   \n",
            "80006       80006  0ebbecdc46b78d42_11  0ebbecdc46b78d42   \n",
            "80007       80007  0ebbecdc46b78d42_13  0ebbecdc46b78d42   \n",
            "80008       80008  0ebbecdc46b78d42_14  0ebbecdc46b78d42   \n",
            "\n",
            "                                   bbox utf8_string  \\\n",
            "80004    [623.38, 443.26, 89.92, 42.09]       SWISS   \n",
            "80005    [311.92, 227.51, 43.24, 48.17]          90   \n",
            "80006     [431.72, 384.82, 71.7, 62.85]         100   \n",
            "80007   [507.16, 273.18, 100.7, 135.01]           7   \n",
            "80008  [387.77, 149.05, 104.33, 127.75]           8   \n",
            "\n",
            "                                                  points      area  \n",
            "80004  [631.07, 443.26, 713.3, 467.11, 707.95, 485.35...   3784.73  \n",
            "80005  [337.61, 227.51, 355.16, 267.88, 329.93, 275.6...   2082.87  \n",
            "80006  [451.74, 384.82, 503.42, 426.87, 484.8, 447.67...   4506.35  \n",
            "80007  [507.16, 273.46, 607.86, 273.18, 606.19, 407.9...  13595.51  \n",
            "80008  [387.77, 149.05, 492.1, 149.6, 491.26, 276.8, ...  13328.16  \n"
          ]
        },
        {
          "data": {
            "text/plain": [
              "(80009, 7)"
            ]
          },
          "execution_count": 3,
          "metadata": {},
          "output_type": "execute_result"
        }
      ],
      "source": [
        "# basedir = \"/content/drive/MyDrive/CSCI334301_ComputerVision/Project/Dataset/\"\n",
        "basedir = \"/content/drive/MyDrive/CV_Final_Project_Data/data/\"\n",
        "# basedir = \"/content/\"\n",
        "\n",
        "df = pd.read_csv(f'{basedir}annot.csv', low_memory = False)\n",
        "# Remove rows contains only single period\n",
        "df = df[df.utf8_string != \".\"]\n",
        "# Remove all punctuations\n",
        "df[\"utf8_string\"] = df[\"utf8_string\"].str.replace('[^\\w\\s]','',regex=True)\n",
        "df=df.reset_index(drop=True)\n",
        "print(df.tail())\n",
        "df.shape"
      ]
    },
    {
      "cell_type": "code",
      "execution_count": null,
      "metadata": {
        "id": "6NVSKwxgliFc"
      },
      "outputs": [],
      "source": [
        "dir_list = os.listdir('/content/drive/MyDrive/CV_Final_Project_Data/data/train_val_images/train_images')\n",
        "# convert to numpy\n",
        "dir_list = np.array(dir_list)\n",
        "print(dir_list.shape)\n",
        "# convert image_id to numpy\n",
        "image_id_list = df.image_id.tolist()\n",
        "# add .jpg to the end of each element\n",
        "random_list = [x + '.jpg' for x in image_id_list]\n",
        "random_list = np.array(random_list)\n",
        "random_list = np.unique(random_list)\n",
        "# match image_id with dir_list, delete the rows that do not match\n",
        "dir_list = np.intersect1d(dir_list, random_list)\n",
        "random_list.shape\n",
        "# remove .jpg from dir_list\n",
        "dir_list = [x[:-4] for x in dir_list]"
      ]
    },
    {
      "cell_type": "code",
      "execution_count": null,
      "metadata": {
        "id": "ssaJ_rkullvD"
      },
      "outputs": [],
      "source": [
        "df = df[df['image_id'].isin(dir_list)]\n",
        "df = df.reset_index(drop=True)"
      ]
    },
    {
      "cell_type": "code",
      "execution_count": null,
      "metadata": {
        "id": "y_VjZjlQloQS"
      },
      "outputs": [],
      "source": [
        "df['image_id']=df['image_id'].astype('str')\n",
        "import ast\n",
        "df[\"bbox\"] = df[\"bbox\"].apply(ast.literal_eval)"
      ]
    },
    {
      "cell_type": "code",
      "execution_count": null,
      "metadata": {
        "id": "UHmIhpRrlr0I"
      },
      "outputs": [],
      "source": [
        "df = df.drop('Unnamed: 0', axis=1)"
      ]
    },
    {
      "cell_type": "code",
      "execution_count": null,
      "metadata": {
        "id": "xIEwq8lmlsJf"
      },
      "outputs": [],
      "source": [
        "h_list=[]\n",
        "w_list=[]\n",
        "for i in range(len(df)): #len(df)\n",
        "  # print(df['image_id'][i])\n",
        "  # pth=basedir+'train_val_images/train_images/'+df['image_id'][i]+'.jpg'\n",
        "  bbox=df['bbox'][i]\n",
        "  # print(bbox)\n",
        "  # print(bbox[2],bbox[3])\n",
        "  h_list.append(bbox[2])\n",
        "  w_list.append(bbox[3])\n",
        "print(max(h_list),min(h_list))\n",
        "print(max(w_list),min(w_list))"
      ]
    },
    {
      "cell_type": "code",
      "execution_count": null,
      "metadata": {
        "id": "g1tbNvaVlyka"
      },
      "outputs": [],
      "source": [
        "def pad_img(path, bbox=None):\n",
        "  # read image\n",
        "  img = Image.open(path)\n",
        "  img = np.array(img)\n",
        "  print(img.shape)\n",
        "  if bbox != None:\n",
        "    #top_left = [min(bbox[1], bbox[3]), min(bbox[0], bbox[2])]\n",
        "    #bottom_right  = [max(bbox[1], bbox[3]), max(bbox[0], bbox[2])]\n",
        "    top_left = [bbox[1], bbox[0]]\n",
        "    bottom_right = [bbox[1]+bbox[3], bbox[0]+bbox[2]]\n",
        "    img = img[ top_left[0]:bottom_right[0], top_left[1]:bottom_right[1] ] \n",
        "  old_image_height, old_image_width, channels = img.shape\n",
        "  print(img.shape)\n",
        "\n",
        "  # create new image of desired size and color (blue) for padding\n",
        "  new_image_width = 1024   # max height 1023.51  min 2.1\n",
        "  new_image_height = 1024   # max width 910.98   min 1.9\n",
        "\n",
        "  color = (0,0,0)\n",
        "  result = np.full((new_image_height,new_image_width, channels), color, dtype=np.uint8)\n",
        "\n",
        "  result[0:old_image_height, 0:old_image_width] = img\n",
        "\n",
        "  return result"
      ]
    },
    {
      "cell_type": "code",
      "execution_count": null,
      "metadata": {
        "id": "h81dOUgnl0rk"
      },
      "outputs": [],
      "source": [
        "imgp = pad_img(f'{basedir}train_val_images/train_images/0ebbecdc46b78d42.jpg', [388, 149, 104, 128]\t)\n",
        "#imgp = pad_img(f'{basedir}train_val_images/train_images/a4ea732cd3d5948a.jpg')\n",
        "plt.imshow(imgp)\n",
        "plt.show()"
      ]
    },
    {
      "cell_type": "code",
      "execution_count": null,
      "metadata": {
        "id": "oo0moqHPmQex"
      },
      "outputs": [],
      "source": [
        "df"
      ]
    },
    {
      "cell_type": "code",
      "execution_count": null,
      "metadata": {
        "id": "kizMeGLumVbZ"
      },
      "outputs": [],
      "source": [
        "unique_img = pd.unique(df[\"image_id\"])\n",
        "# then get one row from each image, and drop the rest\n",
        "df = df[df[\"image_id\"].isin(unique_img)]\n",
        "df = df.drop_duplicates(subset=\"image_id\", keep=\"first\")\n",
        "df = df.reset_index(drop=True)\n",
        "df.head()"
      ]
    },
    {
      "cell_type": "code",
      "execution_count": null,
      "metadata": {
        "id": "kaz-d_8gmrON"
      },
      "outputs": [],
      "source": [
        "df.shape"
      ]
    },
    {
      "cell_type": "code",
      "execution_count": null,
      "metadata": {
        "id": "y2rsJWmwmz5J"
      },
      "outputs": [],
      "source": [
        "df.to_csv(\"/content/drive/MyDrive/CV_Final_Project_Data/data/unique_annot.csv\")"
      ]
    },
    {
      "cell_type": "code",
      "execution_count": null,
      "metadata": {},
      "outputs": [],
      "source": [
        "# make pandas column item to list\n",
        "df[\"bbox\"] = df[\"bbox\"].apply(ast.literal_eval)"
      ]
    },
    {
      "cell_type": "code",
      "execution_count": null,
      "metadata": {
        "id": "Qiq91ZW6nD5J"
      },
      "outputs": [],
      "source": [
        "# read images from image_id\n",
        "def read_img(path, bbox=None):\n",
        "    # read image\n",
        "    # img = Image.open(path)\n",
        "    image = Image.open(path).convert('L')\n",
        "    img = np.array(image)\n",
        "    if bbox != None:\n",
        "        for j in bbox:\n",
        "          j = int(j)\n",
        "        #top_left = [min(bbox[1], bbox[3]), min(bbox[0], bbox[2])]\n",
        "        #bottom_right  = [max(bbox[1], bbox[3]), max(bbox[0], bbox[2])]\n",
        "        # if image type is not jpg, pass\n",
        "        top_left = [bbox[1], bbox[0]]\n",
        "        bottom_right = [bbox[1]+bbox[3], bbox[0]+bbox[2]]\n",
        "        img = img[ top_left[0]:bottom_right[0], top_left[1]:bottom_right[1] ]\n",
        "        # create new image of desired size and color (blue) for padding\n",
        "        new_image_width = 1024   # max height 1023.51  min 2.1\n",
        "        new_image_height = 1024   # max width 910.98   min 1.9\n",
        "\n",
        "        color = (0,0,0)\n",
        "        result = np.full((new_image_height,new_image_width, 1), color, dtype=np.uint8)\n",
        "\n",
        "        result[0:img.shape[0], 0:img.shape[1]] = img\n",
        "    return Image.fromarray(img)"
      ]
    },
    {
      "cell_type": "code",
      "execution_count": null,
      "metadata": {},
      "outputs": [],
      "source": [
        "# read the images using read_img\n",
        "def read_images(df, basedir):\n",
        "    images = []\n",
        "    for i in range(len(df)):\n",
        "    # for i in range(2):\n",
        "        print(f'{basedir}train_val_images/train_images/{df[\"image_id\"][i]}.jpg')\n",
        "        # make df[\"bbox\"][i] into list of integers\n",
        "        bbox = df[\"bbox\"][i]\n",
        "        bbox = [int(i) for i in bbox]\n",
        "        img = read_img(f'{basedir}train_val_images/train_images/{df[\"image_id\"][i]}.jpg', bbox)\n",
        "        im1 = img.save(f'/content/drive/MyDrive/CV_Final_Project_Data/data/bbox_images/{df[\"image_id\"][i]}.jpg')\n",
        "        "
      ]
    },
    {
      "cell_type": "code",
      "execution_count": null,
      "metadata": {},
      "outputs": [],
      "source": [
        "# find the largest bbox"
      ]
    },
    {
      "cell_type": "code",
      "execution_count": null,
      "metadata": {},
      "outputs": [],
      "source": [
        "# pad the images using pad_img\n",
        "def pad_images(df, basedir):\n",
        "    images = []\n",
        "    for i in range(len(df)):\n",
        "    # for i in range(2):\n",
        "        print(f'{basedir}train_val_images/train_images/{df[\"image_id\"][i]}.jpg')\n",
        "        # make df[\"bbox\"][i] into list of integers\n",
        "        bbox = df[\"bbox\"][i]\n",
        "        bbox = [int(i) for i in bbox]\n",
        "        img = pad_img(f'{basedir}train_val_images/train_images/{df[\"image_id\"][i]}.jpg', bbox)\n",
        "        im1 = Image.fromarray(img)\n",
        "        im1 = im1.save(f'/content/drive/MyDrive/CV_Final_Project_Data/data/padded_images/{df[\"image_id\"][i]}.jpg')\n",
        "        # images.append(img)\n",
        "    return images"
      ]
    },
    {
      "cell_type": "code",
      "execution_count": null,
      "metadata": {},
      "outputs": [],
      "source": [
        "read_images(df, basedir)"
      ]
    }
  ],
  "metadata": {
    "colab": {
      "provenance": []
    },
    "gpuClass": "standard",
    "kernelspec": {
      "display_name": "Python 3.10.7 64-bit",
      "language": "python",
      "name": "python3"
    },
    "language_info": {
      "name": "python",
      "version": "3.10.7 (v3.10.7:6cc6b13308, Sep  5 2022, 14:02:52) [Clang 13.0.0 (clang-1300.0.29.30)]"
    },
    "vscode": {
      "interpreter": {
        "hash": "aee8b7b246df8f9039afb4144a1f6fd8d2ca17a180786b69acc140d282b71a49"
      }
    }
  },
  "nbformat": 4,
  "nbformat_minor": 0
}
