{
 "cells": [
  {
   "cell_type": "code",
   "execution_count": 1,
   "metadata": {},
   "outputs": [],
   "source": [
    "import pandas as pd"
   ]
  },
  {
   "cell_type": "code",
   "execution_count": null,
   "metadata": {},
   "outputs": [],
   "source": [
    "annotation_df = pd.read_csv('/Users/jeremyhudsonchan/Dropbox/Files/Github_Repos/Text-Extraction-from-Images/archive/annot.csv')"
   ]
  },
  {
   "cell_type": "code",
   "execution_count": null,
   "metadata": {},
   "outputs": [],
   "source": [
    "# if data in df have same id, group them together\n",
    "annotation_df = annotation_df.groupby('id').agg(lambda x: list(x))"
   ]
  },
  {
   "cell_type": "code",
   "execution_count": null,
   "metadata": {},
   "outputs": [],
   "source": [
    "# gensim import word2vec\n",
    "from gensim.models import word2vec\n",
    "from gensim.models import Word2Vec\n",
    "word2vec_model = word2vec.Word2Vec(annot_df['utf8_string'], size=100, window=5, min_count=5, workers=4)\n",
    "# get all words in utf8_string column, convert them into vectors using word2vec, then update the column, if word not in vocabulary, ignore\n",
    "def get_word2vec(word):\n",
    "    try:\n",
    "        return word2vec_model.wv[word]\n",
    "    except:\n",
    "        return None\n",
    "\n",
    "annot_df['utf8_string'] = annot_df['utf8_string'].apply(lambda x: [get_word2vec(word) for word in x])"
   ]
  },
  {
   "cell_type": "code",
   "execution_count": null,
   "metadata": {},
   "outputs": [],
   "source": [
    "# in annotation_df, the utf8_string column are lists of strings, we need to do word2vec on the whole column\n",
    "# so we need to join the list of strings into one string\n",
    "annotation_df['utf8_string'] = annotation_df['utf8_string'].apply(lambda x: ' '.join(x))\n",
    "\n",
    "# word2vec\n",
    "from gensim.models import Word2Vec\n",
    "from gensim.models import KeyedVectors\n",
    "\n",
    "# tokenize the string\n",
    "annotation_df['utf8_string'] = annotation_df['utf8_string'].apply(lambda x: x.split())\n",
    "\n",
    "# train word2vec model\n",
    "model = Word2Vec(annotation_df['utf8_string'], min_count=1)\n",
    "\n",
    "# allocate the vectors to their original words\n",
    "words = list(model.wv.vocab)\n",
    "vectors = model.wv[words]\n",
    "\n"
   ]
  }
 ],
 "metadata": {
  "kernelspec": {
   "display_name": "Python 3.10.7 64-bit",
   "language": "python",
   "name": "python3"
  },
  "language_info": {
   "codemirror_mode": {
    "name": "ipython",
    "version": 3
   },
   "file_extension": ".py",
   "mimetype": "text/x-python",
   "name": "python",
   "nbconvert_exporter": "python",
   "pygments_lexer": "ipython3",
   "version": "3.10.7"
  },
  "orig_nbformat": 4,
  "vscode": {
   "interpreter": {
    "hash": "aee8b7b246df8f9039afb4144a1f6fd8d2ca17a180786b69acc140d282b71a49"
   }
  }
 },
 "nbformat": 4,
 "nbformat_minor": 2
}
