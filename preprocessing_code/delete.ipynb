{
 "cells": [
  {
   "cell_type": "code",
   "execution_count": 55,
   "metadata": {},
   "outputs": [],
   "source": [
    "import pandas as pd"
   ]
  },
  {
   "cell_type": "code",
   "execution_count": 56,
   "metadata": {},
   "outputs": [],
   "source": [
    "annot = pd.read_csv(\"/Users/jeremyhudsonchan/Dropbox/Files/Github_Repos/Text-Extraction-from-Images/preprocessed_data/annot.csv\", low_memory=False)\n",
    "img = pd.read_csv(\"/Users/jeremyhudsonchan/Dropbox/Files/Github_Repos/Text-Extraction-from-Images/preprocessed_data/img.csv\", low_memory=False)"
   ]
  },
  {
   "cell_type": "code",
   "execution_count": 57,
   "metadata": {},
   "outputs": [
    {
     "data": {
      "text/html": [
       "<div>\n",
       "<style scoped>\n",
       "    .dataframe tbody tr th:only-of-type {\n",
       "        vertical-align: middle;\n",
       "    }\n",
       "\n",
       "    .dataframe tbody tr th {\n",
       "        vertical-align: top;\n",
       "    }\n",
       "\n",
       "    .dataframe thead th {\n",
       "        text-align: right;\n",
       "    }\n",
       "</style>\n",
       "<table border=\"1\" class=\"dataframe\">\n",
       "  <thead>\n",
       "    <tr style=\"text-align: right;\">\n",
       "      <th></th>\n",
       "      <th>Unnamed: 0.1</th>\n",
       "      <th>Unnamed: 0</th>\n",
       "      <th>id</th>\n",
       "      <th>width</th>\n",
       "      <th>height</th>\n",
       "      <th>set</th>\n",
       "      <th>file_name</th>\n",
       "    </tr>\n",
       "  </thead>\n",
       "  <tbody>\n",
       "    <tr>\n",
       "      <th>0</th>\n",
       "      <td>2</td>\n",
       "      <td>2</td>\n",
       "      <td>1b55b309b0f50d02</td>\n",
       "      <td>1024</td>\n",
       "      <td>683</td>\n",
       "      <td>train</td>\n",
       "      <td>train/1b55b309b0f50d02.jpg</td>\n",
       "    </tr>\n",
       "    <tr>\n",
       "      <th>1</th>\n",
       "      <td>3</td>\n",
       "      <td>3</td>\n",
       "      <td>00c359f294f7dcd9</td>\n",
       "      <td>1024</td>\n",
       "      <td>680</td>\n",
       "      <td>train</td>\n",
       "      <td>train/00c359f294f7dcd9.jpg</td>\n",
       "    </tr>\n",
       "    <tr>\n",
       "      <th>2</th>\n",
       "      <td>4</td>\n",
       "      <td>4</td>\n",
       "      <td>04b5a37f762b0f51</td>\n",
       "      <td>768</td>\n",
       "      <td>1024</td>\n",
       "      <td>train</td>\n",
       "      <td>train/04b5a37f762b0f51.jpg</td>\n",
       "    </tr>\n",
       "    <tr>\n",
       "      <th>3</th>\n",
       "      <td>5</td>\n",
       "      <td>5</td>\n",
       "      <td>b3c4d860c380c674</td>\n",
       "      <td>1024</td>\n",
       "      <td>682</td>\n",
       "      <td>train</td>\n",
       "      <td>train/b3c4d860c380c674.jpg</td>\n",
       "    </tr>\n",
       "    <tr>\n",
       "      <th>4</th>\n",
       "      <td>7</td>\n",
       "      <td>7</td>\n",
       "      <td>01ee1b7395e1d8c4</td>\n",
       "      <td>1024</td>\n",
       "      <td>575</td>\n",
       "      <td>train</td>\n",
       "      <td>train/01ee1b7395e1d8c4.jpg</td>\n",
       "    </tr>\n",
       "  </tbody>\n",
       "</table>\n",
       "</div>"
      ],
      "text/plain": [
       "   Unnamed: 0.1  Unnamed: 0                id  width  height    set  \\\n",
       "0             2           2  1b55b309b0f50d02   1024     683  train   \n",
       "1             3           3  00c359f294f7dcd9   1024     680  train   \n",
       "2             4           4  04b5a37f762b0f51    768    1024  train   \n",
       "3             5           5  b3c4d860c380c674   1024     682  train   \n",
       "4             7           7  01ee1b7395e1d8c4   1024     575  train   \n",
       "\n",
       "                    file_name  \n",
       "0  train/1b55b309b0f50d02.jpg  \n",
       "1  train/00c359f294f7dcd9.jpg  \n",
       "2  train/04b5a37f762b0f51.jpg  \n",
       "3  train/b3c4d860c380c674.jpg  \n",
       "4  train/01ee1b7395e1d8c4.jpg  "
      ]
     },
     "execution_count": 57,
     "metadata": {},
     "output_type": "execute_result"
    }
   ],
   "source": [
    "img.head()"
   ]
  },
  {
   "cell_type": "code",
   "execution_count": 58,
   "metadata": {},
   "outputs": [
    {
     "name": "stdout",
     "output_type": "stream",
     "text": [
      "<class 'str'>\n"
     ]
    }
   ],
   "source": [
    "print(type(annot.image_id[0]))"
   ]
  },
  {
   "cell_type": "code",
   "execution_count": 59,
   "metadata": {},
   "outputs": [
    {
     "name": "stdout",
     "output_type": "stream",
     "text": [
      "           image_id                        Unnamed: 0  \\\n",
      "0  0000e8b36676338b  [761457, 761458, 761459, 761460]   \n",
      "\n",
      "                                                  id  \\\n",
      "0  ['0000e8b36676338b_1', '0000e8b36676338b_2', '...   \n",
      "\n",
      "                                                bbox  \\\n",
      "0  ['[308.0, 135.8, 45.96, 17.33]', '[383.8, 140....   \n",
      "\n",
      "                         utf8_string  \\\n",
      "0  ['FELIX', 'PRIVAT', 'DBU', '889']   \n",
      "\n",
      "                                              points  \\\n",
      "0  ['[313.24, 135.8, 353.96, 136.2, 348.72, 153.1...   \n",
      "\n",
      "                                area  \n",
      "0  [796.49, 1517.05, 883.91, 918.83]  \n"
     ]
    }
   ],
   "source": [
    "print(annot.head(1))"
   ]
  },
  {
   "cell_type": "code",
   "execution_count": 60,
   "metadata": {},
   "outputs": [
    {
     "data": {
      "text/plain": [
       "('fff91551089c59dd', 99)"
      ]
     },
     "execution_count": 60,
     "metadata": {},
     "output_type": "execute_result"
    }
   ],
   "source": [
    "def get_max_length(utf8_string):\n",
    "    max_length = 0\n",
    "    save_id = 0\n",
    "    for i in range(len(utf8_string)):\n",
    "        if len(utf8_string[i]) > max_length:\n",
    "            max_length = len(utf8_string[i])\n",
    "            save_id = i\n",
    "    # get image_id\n",
    "    image_id = annot.iloc[i,0]\n",
    "    return image_id, max_length\n",
    "get_max_length(annot['utf8_string'])"
   ]
  },
  {
   "cell_type": "code",
   "execution_count": 61,
   "metadata": {},
   "outputs": [],
   "source": [
    "# delete all rows with utf8_string length > 100 and keep track of the image_id\n",
    "def delete_rows(df):\n",
    "    df = df[df['utf8_string'].map(len) < 100]\n",
    "    return df\n",
    "\n",
    "annot = delete_rows(annot)"
   ]
  },
  {
   "cell_type": "code",
   "execution_count": 62,
   "metadata": {},
   "outputs": [],
   "source": [
    "# if image_id is in img but not in annot, delete it\n",
    "def delete_img(df):\n",
    "    df = df[df['id'].isin(annot['image_id'])]\n",
    "    return df\n",
    "\n",
    "img = delete_img(img)"
   ]
  },
  {
   "cell_type": "code",
   "execution_count": 63,
   "metadata": {},
   "outputs": [],
   "source": [
    "# in image_id find ffffebddbb8bba21\n",
    "annot = annot[annot.image_id != 'ffff201bfc639dd3']\n",
    "img = img[img.id != 'ffff201bfc639dd3']"
   ]
  },
  {
   "cell_type": "code",
   "execution_count": 65,
   "metadata": {},
   "outputs": [
    {
     "data": {
      "text/plain": [
       "((9648, 7), (9648, 7))"
      ]
     },
     "execution_count": 65,
     "metadata": {},
     "output_type": "execute_result"
    }
   ],
   "source": [
    "annot.shape, img.shape"
   ]
  },
  {
   "cell_type": "code",
   "execution_count": 64,
   "metadata": {},
   "outputs": [],
   "source": [
    "# make files into csv\n",
    "annot.to_csv(\"/Users/jeremyhudsonchan/Dropbox/Files/Github_Repos/Text-Extraction-from-Images/preprocessed_data/annot.csv\", index=False)\n",
    "img.to_csv(\"/Users/jeremyhudsonchan/Dropbox/Files/Github_Repos/Text-Extraction-from-Images/preprocessed_data/img.csv\", index=False)"
   ]
  }
 ],
 "metadata": {
  "kernelspec": {
   "display_name": "Python 3.10.7 64-bit",
   "language": "python",
   "name": "python3"
  },
  "language_info": {
   "codemirror_mode": {
    "name": "ipython",
    "version": 3
   },
   "file_extension": ".py",
   "mimetype": "text/x-python",
   "name": "python",
   "nbconvert_exporter": "python",
   "pygments_lexer": "ipython3",
   "version": "3.10.7 (v3.10.7:6cc6b13308, Sep  5 2022, 14:02:52) [Clang 13.0.0 (clang-1300.0.29.30)]"
  },
  "orig_nbformat": 4,
  "vscode": {
   "interpreter": {
    "hash": "aee8b7b246df8f9039afb4144a1f6fd8d2ca17a180786b69acc140d282b71a49"
   }
  }
 },
 "nbformat": 4,
 "nbformat_minor": 2
}
